{
 "cells": [
  {
   "cell_type": "code",
   "execution_count": 1,
   "id": "2b25dffd-1a9f-475f-a42b-c7c13bd20f5d",
   "metadata": {},
   "outputs": [],
   "source": [
    "import pandas as pd\n",
    "from itertools import product\n",
    "\n",
    "import xgboost as xgb\n",
    "from xgboost import XGBClassifier\n",
    "\n",
    "from sklearn.model_selection import train_test_split\n",
    "from sklearn.metrics import roc_auc_score\n",
    "\n",
    "import joblib\n",
    "\n",
    "import matplotlib.pyplot as plt\n",
    "\n",
    "import wandb"
   ]
  },
  {
   "cell_type": "code",
   "execution_count": 2,
   "id": "0e086ea2-2da7-49b8-adb3-1011e9de347d",
   "metadata": {
    "scrolled": true
   },
   "outputs": [
    {
     "name": "stdout",
     "output_type": "stream",
     "text": [
      "<class 'pandas.core.frame.DataFrame'>\n",
      "RangeIndex: 32561 entries, 0 to 32560\n",
      "Data columns (total 98 columns):\n",
      " #   Column                                     Non-Null Count  Dtype  \n",
      "---  ------                                     --------------  -----  \n",
      " 0   age                                        32561 non-null  float64\n",
      " 1   fnlwgt                                     32561 non-null  float64\n",
      " 2   education-num                              32561 non-null  float64\n",
      " 3   capital-gain                               32561 non-null  float64\n",
      " 4   capital-loss                               32561 non-null  float64\n",
      " 5   hours-per-week                             32561 non-null  float64\n",
      " 6   income                                     32561 non-null  float64\n",
      " 7   education_11th                             32561 non-null  float64\n",
      " 8   education_12th                             32561 non-null  float64\n",
      " 9   education_1st-4th                          32561 non-null  float64\n",
      " 10  education_5th-6th                          32561 non-null  float64\n",
      " 11  education_7th-8th                          32561 non-null  float64\n",
      " 12  education_9th                              32561 non-null  float64\n",
      " 13  education_Assoc-acdm                       32561 non-null  float64\n",
      " 14  education_Assoc-voc                        32561 non-null  float64\n",
      " 15  education_Bachelors                        32561 non-null  float64\n",
      " 16  education_Doctorate                        32561 non-null  float64\n",
      " 17  education_HS-grad                          32561 non-null  float64\n",
      " 18  education_Masters                          32561 non-null  float64\n",
      " 19  education_Preschool                        32561 non-null  float64\n",
      " 20  education_Prof-school                      32561 non-null  float64\n",
      " 21  education_Some-college                     32561 non-null  float64\n",
      " 22  marital-status_Married-AF-spouse           32561 non-null  float64\n",
      " 23  marital-status_Married-civ-spouse          32561 non-null  float64\n",
      " 24  marital-status_Married-spouse-absent       32561 non-null  float64\n",
      " 25  marital-status_Never-married               32561 non-null  float64\n",
      " 26  marital-status_Separated                   32561 non-null  float64\n",
      " 27  marital-status_Widowed                     32561 non-null  float64\n",
      " 28  relationship_Not-in-family                 32561 non-null  float64\n",
      " 29  relationship_Other-relative                32561 non-null  float64\n",
      " 30  relationship_Own-child                     32561 non-null  float64\n",
      " 31  relationship_Unmarried                     32561 non-null  float64\n",
      " 32  relationship_Wife                          32561 non-null  float64\n",
      " 33  race_Asian-Pac-Islander                    32561 non-null  float64\n",
      " 34  race_Black                                 32561 non-null  float64\n",
      " 35  race_Other                                 32561 non-null  float64\n",
      " 36  race_White                                 32561 non-null  float64\n",
      " 37  sex_Male                                   32561 non-null  float64\n",
      " 38  workclass_Local-gov                        32561 non-null  float64\n",
      " 39  workclass_Never-worked                     32561 non-null  float64\n",
      " 40  workclass_Private                          32561 non-null  float64\n",
      " 41  workclass_Self-emp-inc                     32561 non-null  float64\n",
      " 42  workclass_Self-emp-not-inc                 32561 non-null  float64\n",
      " 43  workclass_State-gov                        32561 non-null  float64\n",
      " 44  workclass_Without-pay                      32561 non-null  float64\n",
      " 45  occupation_Armed-Forces                    32561 non-null  float64\n",
      " 46  occupation_Craft-repair                    32561 non-null  float64\n",
      " 47  occupation_Exec-managerial                 32561 non-null  float64\n",
      " 48  occupation_Farming-fishing                 32561 non-null  float64\n",
      " 49  occupation_Handlers-cleaners               32561 non-null  float64\n",
      " 50  occupation_Machine-op-inspct               32561 non-null  float64\n",
      " 51  occupation_Other-service                   32561 non-null  float64\n",
      " 52  occupation_Priv-house-serv                 32561 non-null  float64\n",
      " 53  occupation_Prof-specialty                  32561 non-null  float64\n",
      " 54  occupation_Protective-serv                 32561 non-null  float64\n",
      " 55  occupation_Sales                           32561 non-null  float64\n",
      " 56  occupation_Tech-support                    32561 non-null  float64\n",
      " 57  occupation_Transport-moving                32561 non-null  float64\n",
      " 58  native-country_Canada                      32561 non-null  float64\n",
      " 59  native-country_China                       32561 non-null  float64\n",
      " 60  native-country_Columbia                    32561 non-null  float64\n",
      " 61  native-country_Cuba                        32561 non-null  float64\n",
      " 62  native-country_Dominican-Republic          32561 non-null  float64\n",
      " 63  native-country_Ecuador                     32561 non-null  float64\n",
      " 64  native-country_El-Salvador                 32561 non-null  float64\n",
      " 65  native-country_England                     32561 non-null  float64\n",
      " 66  native-country_France                      32561 non-null  float64\n",
      " 67  native-country_Germany                     32561 non-null  float64\n",
      " 68  native-country_Greece                      32561 non-null  float64\n",
      " 69  native-country_Guatemala                   32561 non-null  float64\n",
      " 70  native-country_Haiti                       32561 non-null  float64\n",
      " 71  native-country_Holand-Netherlands          32561 non-null  float64\n",
      " 72  native-country_Honduras                    32561 non-null  float64\n",
      " 73  native-country_Hong                        32561 non-null  float64\n",
      " 74  native-country_Hungary                     32561 non-null  float64\n",
      " 75  native-country_India                       32561 non-null  float64\n",
      " 76  native-country_Iran                        32561 non-null  float64\n",
      " 77  native-country_Ireland                     32561 non-null  float64\n",
      " 78  native-country_Italy                       32561 non-null  float64\n",
      " 79  native-country_Jamaica                     32561 non-null  float64\n",
      " 80  native-country_Japan                       32561 non-null  float64\n",
      " 81  native-country_Laos                        32561 non-null  float64\n",
      " 82  native-country_Mexico                      32561 non-null  float64\n",
      " 83  native-country_Nicaragua                   32561 non-null  float64\n",
      " 84  native-country_Outlying-US(Guam-USVI-etc)  32561 non-null  float64\n",
      " 85  native-country_Peru                        32561 non-null  float64\n",
      " 86  native-country_Philippines                 32561 non-null  float64\n",
      " 87  native-country_Poland                      32561 non-null  float64\n",
      " 88  native-country_Portugal                    32561 non-null  float64\n",
      " 89  native-country_Puerto-Rico                 32561 non-null  float64\n",
      " 90  native-country_Scotland                    32561 non-null  float64\n",
      " 91  native-country_South                       32561 non-null  float64\n",
      " 92  native-country_Taiwan                      32561 non-null  float64\n",
      " 93  native-country_Thailand                    32561 non-null  float64\n",
      " 94  native-country_Trinadad&Tobago             32561 non-null  float64\n",
      " 95  native-country_United-States               32561 non-null  float64\n",
      " 96  native-country_Vietnam                     32561 non-null  float64\n",
      " 97  native-country_Yugoslavia                  32561 non-null  float64\n",
      "dtypes: float64(98)\n",
      "memory usage: 24.3 MB\n",
      "None\n",
      "                age        fnlwgt  education-num  capital-gain  capital-loss  \\\n",
      "count  32561.000000  32561.000000   32561.000000  32561.000000  32561.000000   \n",
      "mean      -0.004518      0.001082       0.001008     -0.000190     -0.000493   \n",
      "std        0.994899      0.999498       1.000690      0.991056      0.999900   \n",
      "min       -1.578629     -1.679680      -3.531030     -0.144804     -0.217127   \n",
      "25%       -0.776316     -0.680257      -0.419335     -0.144804     -0.217127   \n",
      "50%       -0.119879     -0.107082      -0.030373     -0.144804     -0.217127   \n",
      "75%        0.682433      0.448727       0.747550     -0.144804     -0.217127   \n",
      "max        3.745808     12.263303       2.303397     13.274382     10.591794   \n",
      "\n",
      "       hours-per-week        income  education_11th  education_12th  \\\n",
      "count    32561.000000  32561.000000    32561.000000    32561.000000   \n",
      "mean         0.001216      0.240810        0.036086        0.013298   \n",
      "std          0.996458      0.427581        0.186507        0.114550   \n",
      "min         -3.181452      0.000000        0.000000        0.000000   \n",
      "25%         -0.034087      0.000000        0.000000        0.000000   \n",
      "50%         -0.034087      0.000000        0.000000        0.000000   \n",
      "75%          0.369421      0.000000        0.000000        0.000000   \n",
      "max          4.727312      1.000000        1.000000        1.000000   \n",
      "\n",
      "       education_1st-4th  ...  native-country_Portugal  \\\n",
      "count       32561.000000  ...             32561.000000   \n",
      "mean            0.005160  ...                 0.001136   \n",
      "std             0.071646  ...                 0.033691   \n",
      "min             0.000000  ...                 0.000000   \n",
      "25%             0.000000  ...                 0.000000   \n",
      "50%             0.000000  ...                 0.000000   \n",
      "75%             0.000000  ...                 0.000000   \n",
      "max             1.000000  ...                 1.000000   \n",
      "\n",
      "       native-country_Puerto-Rico  native-country_Scotland  \\\n",
      "count                32561.000000             32561.000000   \n",
      "mean                     0.003716                 0.000369   \n",
      "std                      0.060847                 0.019194   \n",
      "min                      0.000000                 0.000000   \n",
      "25%                      0.000000                 0.000000   \n",
      "50%                      0.000000                 0.000000   \n",
      "75%                      0.000000                 0.000000   \n",
      "max                      1.000000                 1.000000   \n",
      "\n",
      "       native-country_South  native-country_Taiwan  native-country_Thailand  \\\n",
      "count          32561.000000           32561.000000             32561.000000   \n",
      "mean               0.002580               0.001628                 0.000553   \n",
      "std                0.050727               0.040313                 0.023506   \n",
      "min                0.000000               0.000000                 0.000000   \n",
      "25%                0.000000               0.000000                 0.000000   \n",
      "50%                0.000000               0.000000                 0.000000   \n",
      "75%                0.000000               0.000000                 0.000000   \n",
      "max                1.000000               1.000000                 1.000000   \n",
      "\n",
      "       native-country_Trinadad&Tobago  native-country_United-States  \\\n",
      "count                    32561.000000                  32561.000000   \n",
      "mean                         0.000584                      0.911151   \n",
      "std                          0.024149                      0.284529   \n",
      "min                          0.000000                      0.000000   \n",
      "25%                          0.000000                      1.000000   \n",
      "50%                          0.000000                      1.000000   \n",
      "75%                          0.000000                      1.000000   \n",
      "max                          1.000000                      1.000000   \n",
      "\n",
      "       native-country_Vietnam  native-country_Yugoslavia  \n",
      "count            32561.000000               32561.000000  \n",
      "mean                 0.002181                   0.000491  \n",
      "std                  0.046646                   0.022162  \n",
      "min                  0.000000                   0.000000  \n",
      "25%                  0.000000                   0.000000  \n",
      "50%                  0.000000                   0.000000  \n",
      "75%                  0.000000                   0.000000  \n",
      "max                  1.000000                   1.000000  \n",
      "\n",
      "[8 rows x 98 columns]\n",
      "        age    fnlwgt  education-num  capital-gain  capital-loss  \\\n",
      "0  0.025996 -1.061979       1.136512      0.146932     -0.217127   \n",
      "1  0.828308 -1.007104       1.136512     -0.144804     -0.217127   \n",
      "2 -0.046942  0.246034      -0.419335     -0.144804     -0.217127   \n",
      "3  1.047121  0.426663      -1.197259     -0.144804     -0.217127   \n",
      "4 -0.776316  1.408530       1.136512     -0.144804     -0.217127   \n",
      "\n",
      "   hours-per-week  income  education_11th  education_12th  education_1st-4th  \\\n",
      "0       -0.034087     0.0             0.0             0.0                0.0   \n",
      "1       -2.213032     0.0             0.0             0.0                0.0   \n",
      "2       -0.034087     0.0             0.0             0.0                0.0   \n",
      "3       -0.034087     0.0             1.0             0.0                0.0   \n",
      "4       -0.034087     0.0             0.0             0.0                0.0   \n",
      "\n",
      "   ...  native-country_Portugal  native-country_Puerto-Rico  \\\n",
      "0  ...                      0.0                         0.0   \n",
      "1  ...                      0.0                         0.0   \n",
      "2  ...                      0.0                         0.0   \n",
      "3  ...                      0.0                         0.0   \n",
      "4  ...                      0.0                         0.0   \n",
      "\n",
      "   native-country_Scotland  native-country_South  native-country_Taiwan  \\\n",
      "0                      0.0                   0.0                    0.0   \n",
      "1                      0.0                   0.0                    0.0   \n",
      "2                      0.0                   0.0                    0.0   \n",
      "3                      0.0                   0.0                    0.0   \n",
      "4                      0.0                   0.0                    0.0   \n",
      "\n",
      "   native-country_Thailand  native-country_Trinadad&Tobago  \\\n",
      "0                      0.0                             0.0   \n",
      "1                      0.0                             0.0   \n",
      "2                      0.0                             0.0   \n",
      "3                      0.0                             0.0   \n",
      "4                      0.0                             0.0   \n",
      "\n",
      "   native-country_United-States  native-country_Vietnam  \\\n",
      "0                           1.0                     0.0   \n",
      "1                           1.0                     0.0   \n",
      "2                           1.0                     0.0   \n",
      "3                           1.0                     0.0   \n",
      "4                           0.0                     0.0   \n",
      "\n",
      "   native-country_Yugoslavia  \n",
      "0                        0.0  \n",
      "1                        0.0  \n",
      "2                        0.0  \n",
      "3                        0.0  \n",
      "4                        0.0  \n",
      "\n",
      "[5 rows x 98 columns]\n"
     ]
    }
   ],
   "source": [
    "train_df = pd.read_csv(\"adult_train.csv\")\n",
    "test_df = pd.read_csv(\"adult_test.csv\")\n",
    "\n",
    "print(train_df.info())\n",
    "print(train_df.describe(include=\"all\"))\n",
    "print(train_df.head())\n"
   ]
  },
  {
   "cell_type": "code",
   "execution_count": 3,
   "id": "cae6ca1a-b83a-42fe-b8d7-ea3be393f5cf",
   "metadata": {},
   "outputs": [
    {
     "data": {
      "text/html": [
       "<div>\n",
       "<style scoped>\n",
       "    .dataframe tbody tr th:only-of-type {\n",
       "        vertical-align: middle;\n",
       "    }\n",
       "\n",
       "    .dataframe tbody tr th {\n",
       "        vertical-align: top;\n",
       "    }\n",
       "\n",
       "    .dataframe thead th {\n",
       "        text-align: right;\n",
       "    }\n",
       "</style>\n",
       "<table border=\"1\" class=\"dataframe\">\n",
       "  <thead>\n",
       "    <tr style=\"text-align: right;\">\n",
       "      <th></th>\n",
       "      <th>age</th>\n",
       "      <th>fnlwgt</th>\n",
       "      <th>education-num</th>\n",
       "      <th>capital-gain</th>\n",
       "      <th>capital-loss</th>\n",
       "      <th>hours-per-week</th>\n",
       "      <th>income</th>\n",
       "      <th>education_11th</th>\n",
       "      <th>education_12th</th>\n",
       "      <th>education_1st-4th</th>\n",
       "      <th>...</th>\n",
       "      <th>native-country_Portugal</th>\n",
       "      <th>native-country_Puerto-Rico</th>\n",
       "      <th>native-country_Scotland</th>\n",
       "      <th>native-country_South</th>\n",
       "      <th>native-country_Taiwan</th>\n",
       "      <th>native-country_Thailand</th>\n",
       "      <th>native-country_Trinadad&amp;Tobago</th>\n",
       "      <th>native-country_United-States</th>\n",
       "      <th>native-country_Vietnam</th>\n",
       "      <th>native-country_Yugoslavia</th>\n",
       "    </tr>\n",
       "  </thead>\n",
       "  <tbody>\n",
       "    <tr>\n",
       "      <th>count</th>\n",
       "      <td>32561.000000</td>\n",
       "      <td>32561.000000</td>\n",
       "      <td>32561.000000</td>\n",
       "      <td>32561.000000</td>\n",
       "      <td>32561.000000</td>\n",
       "      <td>32561.000000</td>\n",
       "      <td>32561.000000</td>\n",
       "      <td>32561.000000</td>\n",
       "      <td>32561.000000</td>\n",
       "      <td>32561.000000</td>\n",
       "      <td>...</td>\n",
       "      <td>32561.000000</td>\n",
       "      <td>32561.000000</td>\n",
       "      <td>32561.000000</td>\n",
       "      <td>32561.000000</td>\n",
       "      <td>32561.000000</td>\n",
       "      <td>32561.000000</td>\n",
       "      <td>32561.000000</td>\n",
       "      <td>32561.000000</td>\n",
       "      <td>32561.000000</td>\n",
       "      <td>32561.000000</td>\n",
       "    </tr>\n",
       "    <tr>\n",
       "      <th>mean</th>\n",
       "      <td>-0.004518</td>\n",
       "      <td>0.001082</td>\n",
       "      <td>0.001008</td>\n",
       "      <td>-0.000190</td>\n",
       "      <td>-0.000493</td>\n",
       "      <td>0.001216</td>\n",
       "      <td>0.240810</td>\n",
       "      <td>0.036086</td>\n",
       "      <td>0.013298</td>\n",
       "      <td>0.005160</td>\n",
       "      <td>...</td>\n",
       "      <td>0.001136</td>\n",
       "      <td>0.003716</td>\n",
       "      <td>0.000369</td>\n",
       "      <td>0.002580</td>\n",
       "      <td>0.001628</td>\n",
       "      <td>0.000553</td>\n",
       "      <td>0.000584</td>\n",
       "      <td>0.911151</td>\n",
       "      <td>0.002181</td>\n",
       "      <td>0.000491</td>\n",
       "    </tr>\n",
       "    <tr>\n",
       "      <th>std</th>\n",
       "      <td>0.994899</td>\n",
       "      <td>0.999498</td>\n",
       "      <td>1.000690</td>\n",
       "      <td>0.991056</td>\n",
       "      <td>0.999900</td>\n",
       "      <td>0.996458</td>\n",
       "      <td>0.427581</td>\n",
       "      <td>0.186507</td>\n",
       "      <td>0.114550</td>\n",
       "      <td>0.071646</td>\n",
       "      <td>...</td>\n",
       "      <td>0.033691</td>\n",
       "      <td>0.060847</td>\n",
       "      <td>0.019194</td>\n",
       "      <td>0.050727</td>\n",
       "      <td>0.040313</td>\n",
       "      <td>0.023506</td>\n",
       "      <td>0.024149</td>\n",
       "      <td>0.284529</td>\n",
       "      <td>0.046646</td>\n",
       "      <td>0.022162</td>\n",
       "    </tr>\n",
       "    <tr>\n",
       "      <th>min</th>\n",
       "      <td>-1.578629</td>\n",
       "      <td>-1.679680</td>\n",
       "      <td>-3.531030</td>\n",
       "      <td>-0.144804</td>\n",
       "      <td>-0.217127</td>\n",
       "      <td>-3.181452</td>\n",
       "      <td>0.000000</td>\n",
       "      <td>0.000000</td>\n",
       "      <td>0.000000</td>\n",
       "      <td>0.000000</td>\n",
       "      <td>...</td>\n",
       "      <td>0.000000</td>\n",
       "      <td>0.000000</td>\n",
       "      <td>0.000000</td>\n",
       "      <td>0.000000</td>\n",
       "      <td>0.000000</td>\n",
       "      <td>0.000000</td>\n",
       "      <td>0.000000</td>\n",
       "      <td>0.000000</td>\n",
       "      <td>0.000000</td>\n",
       "      <td>0.000000</td>\n",
       "    </tr>\n",
       "    <tr>\n",
       "      <th>25%</th>\n",
       "      <td>-0.776316</td>\n",
       "      <td>-0.680257</td>\n",
       "      <td>-0.419335</td>\n",
       "      <td>-0.144804</td>\n",
       "      <td>-0.217127</td>\n",
       "      <td>-0.034087</td>\n",
       "      <td>0.000000</td>\n",
       "      <td>0.000000</td>\n",
       "      <td>0.000000</td>\n",
       "      <td>0.000000</td>\n",
       "      <td>...</td>\n",
       "      <td>0.000000</td>\n",
       "      <td>0.000000</td>\n",
       "      <td>0.000000</td>\n",
       "      <td>0.000000</td>\n",
       "      <td>0.000000</td>\n",
       "      <td>0.000000</td>\n",
       "      <td>0.000000</td>\n",
       "      <td>1.000000</td>\n",
       "      <td>0.000000</td>\n",
       "      <td>0.000000</td>\n",
       "    </tr>\n",
       "    <tr>\n",
       "      <th>50%</th>\n",
       "      <td>-0.119879</td>\n",
       "      <td>-0.107082</td>\n",
       "      <td>-0.030373</td>\n",
       "      <td>-0.144804</td>\n",
       "      <td>-0.217127</td>\n",
       "      <td>-0.034087</td>\n",
       "      <td>0.000000</td>\n",
       "      <td>0.000000</td>\n",
       "      <td>0.000000</td>\n",
       "      <td>0.000000</td>\n",
       "      <td>...</td>\n",
       "      <td>0.000000</td>\n",
       "      <td>0.000000</td>\n",
       "      <td>0.000000</td>\n",
       "      <td>0.000000</td>\n",
       "      <td>0.000000</td>\n",
       "      <td>0.000000</td>\n",
       "      <td>0.000000</td>\n",
       "      <td>1.000000</td>\n",
       "      <td>0.000000</td>\n",
       "      <td>0.000000</td>\n",
       "    </tr>\n",
       "    <tr>\n",
       "      <th>75%</th>\n",
       "      <td>0.682433</td>\n",
       "      <td>0.448727</td>\n",
       "      <td>0.747550</td>\n",
       "      <td>-0.144804</td>\n",
       "      <td>-0.217127</td>\n",
       "      <td>0.369421</td>\n",
       "      <td>0.000000</td>\n",
       "      <td>0.000000</td>\n",
       "      <td>0.000000</td>\n",
       "      <td>0.000000</td>\n",
       "      <td>...</td>\n",
       "      <td>0.000000</td>\n",
       "      <td>0.000000</td>\n",
       "      <td>0.000000</td>\n",
       "      <td>0.000000</td>\n",
       "      <td>0.000000</td>\n",
       "      <td>0.000000</td>\n",
       "      <td>0.000000</td>\n",
       "      <td>1.000000</td>\n",
       "      <td>0.000000</td>\n",
       "      <td>0.000000</td>\n",
       "    </tr>\n",
       "    <tr>\n",
       "      <th>max</th>\n",
       "      <td>3.745808</td>\n",
       "      <td>12.263303</td>\n",
       "      <td>2.303397</td>\n",
       "      <td>13.274382</td>\n",
       "      <td>10.591794</td>\n",
       "      <td>4.727312</td>\n",
       "      <td>1.000000</td>\n",
       "      <td>1.000000</td>\n",
       "      <td>1.000000</td>\n",
       "      <td>1.000000</td>\n",
       "      <td>...</td>\n",
       "      <td>1.000000</td>\n",
       "      <td>1.000000</td>\n",
       "      <td>1.000000</td>\n",
       "      <td>1.000000</td>\n",
       "      <td>1.000000</td>\n",
       "      <td>1.000000</td>\n",
       "      <td>1.000000</td>\n",
       "      <td>1.000000</td>\n",
       "      <td>1.000000</td>\n",
       "      <td>1.000000</td>\n",
       "    </tr>\n",
       "  </tbody>\n",
       "</table>\n",
       "<p>8 rows × 98 columns</p>\n",
       "</div>"
      ],
      "text/plain": [
       "                age        fnlwgt  education-num  capital-gain  capital-loss  \\\n",
       "count  32561.000000  32561.000000   32561.000000  32561.000000  32561.000000   \n",
       "mean      -0.004518      0.001082       0.001008     -0.000190     -0.000493   \n",
       "std        0.994899      0.999498       1.000690      0.991056      0.999900   \n",
       "min       -1.578629     -1.679680      -3.531030     -0.144804     -0.217127   \n",
       "25%       -0.776316     -0.680257      -0.419335     -0.144804     -0.217127   \n",
       "50%       -0.119879     -0.107082      -0.030373     -0.144804     -0.217127   \n",
       "75%        0.682433      0.448727       0.747550     -0.144804     -0.217127   \n",
       "max        3.745808     12.263303       2.303397     13.274382     10.591794   \n",
       "\n",
       "       hours-per-week        income  education_11th  education_12th  \\\n",
       "count    32561.000000  32561.000000    32561.000000    32561.000000   \n",
       "mean         0.001216      0.240810        0.036086        0.013298   \n",
       "std          0.996458      0.427581        0.186507        0.114550   \n",
       "min         -3.181452      0.000000        0.000000        0.000000   \n",
       "25%         -0.034087      0.000000        0.000000        0.000000   \n",
       "50%         -0.034087      0.000000        0.000000        0.000000   \n",
       "75%          0.369421      0.000000        0.000000        0.000000   \n",
       "max          4.727312      1.000000        1.000000        1.000000   \n",
       "\n",
       "       education_1st-4th  ...  native-country_Portugal  \\\n",
       "count       32561.000000  ...             32561.000000   \n",
       "mean            0.005160  ...                 0.001136   \n",
       "std             0.071646  ...                 0.033691   \n",
       "min             0.000000  ...                 0.000000   \n",
       "25%             0.000000  ...                 0.000000   \n",
       "50%             0.000000  ...                 0.000000   \n",
       "75%             0.000000  ...                 0.000000   \n",
       "max             1.000000  ...                 1.000000   \n",
       "\n",
       "       native-country_Puerto-Rico  native-country_Scotland  \\\n",
       "count                32561.000000             32561.000000   \n",
       "mean                     0.003716                 0.000369   \n",
       "std                      0.060847                 0.019194   \n",
       "min                      0.000000                 0.000000   \n",
       "25%                      0.000000                 0.000000   \n",
       "50%                      0.000000                 0.000000   \n",
       "75%                      0.000000                 0.000000   \n",
       "max                      1.000000                 1.000000   \n",
       "\n",
       "       native-country_South  native-country_Taiwan  native-country_Thailand  \\\n",
       "count          32561.000000           32561.000000             32561.000000   \n",
       "mean               0.002580               0.001628                 0.000553   \n",
       "std                0.050727               0.040313                 0.023506   \n",
       "min                0.000000               0.000000                 0.000000   \n",
       "25%                0.000000               0.000000                 0.000000   \n",
       "50%                0.000000               0.000000                 0.000000   \n",
       "75%                0.000000               0.000000                 0.000000   \n",
       "max                1.000000               1.000000                 1.000000   \n",
       "\n",
       "       native-country_Trinadad&Tobago  native-country_United-States  \\\n",
       "count                    32561.000000                  32561.000000   \n",
       "mean                         0.000584                      0.911151   \n",
       "std                          0.024149                      0.284529   \n",
       "min                          0.000000                      0.000000   \n",
       "25%                          0.000000                      1.000000   \n",
       "50%                          0.000000                      1.000000   \n",
       "75%                          0.000000                      1.000000   \n",
       "max                          1.000000                      1.000000   \n",
       "\n",
       "       native-country_Vietnam  native-country_Yugoslavia  \n",
       "count            32561.000000               32561.000000  \n",
       "mean                 0.002181                   0.000491  \n",
       "std                  0.046646                   0.022162  \n",
       "min                  0.000000                   0.000000  \n",
       "25%                  0.000000                   0.000000  \n",
       "50%                  0.000000                   0.000000  \n",
       "75%                  0.000000                   0.000000  \n",
       "max                  1.000000                   1.000000  \n",
       "\n",
       "[8 rows x 98 columns]"
      ]
     },
     "execution_count": 3,
     "metadata": {},
     "output_type": "execute_result"
    }
   ],
   "source": [
    "train_df.describe()"
   ]
  },
  {
   "cell_type": "code",
   "execution_count": 4,
   "id": "c3c610e1-93c3-4f35-8964-f3d88be2b5b6",
   "metadata": {},
   "outputs": [
    {
     "data": {
      "text/plain": [
       "age                               0\n",
       "fnlwgt                            0\n",
       "education-num                     0\n",
       "capital-gain                      0\n",
       "capital-loss                      0\n",
       "                                 ..\n",
       "native-country_Thailand           0\n",
       "native-country_Trinadad&Tobago    0\n",
       "native-country_United-States      0\n",
       "native-country_Vietnam            0\n",
       "native-country_Yugoslavia         0\n",
       "Length: 98, dtype: int64"
      ]
     },
     "execution_count": 4,
     "metadata": {},
     "output_type": "execute_result"
    }
   ],
   "source": [
    "# Replace '?' with NaN\n",
    "train_df.replace('?', pd.NA, inplace=True)\n",
    "test_df.replace('?', pd.NA, inplace=True)\n",
    "\n",
    "train_df.isnull().sum()\n"
   ]
  },
  {
   "cell_type": "code",
   "execution_count": 5,
   "id": "16fc418e-7052-4785-b864-9a0f46a68814",
   "metadata": {},
   "outputs": [
    {
     "data": {
      "text/plain": [
       "age                               0\n",
       "fnlwgt                            0\n",
       "education-num                     0\n",
       "capital-gain                      0\n",
       "capital-loss                      0\n",
       "                                 ..\n",
       "native-country_Thailand           0\n",
       "native-country_Trinadad&Tobago    0\n",
       "native-country_United-States      0\n",
       "native-country_Vietnam            0\n",
       "native-country_Yugoslavia         0\n",
       "Length: 98, dtype: int64"
      ]
     },
     "execution_count": 5,
     "metadata": {},
     "output_type": "execute_result"
    }
   ],
   "source": [
    "test_df.isnull().sum()"
   ]
  },
  {
   "cell_type": "code",
   "execution_count": 6,
   "id": "2b47b7db-3d8a-4673-b695-b94cfc00ed20",
   "metadata": {},
   "outputs": [
    {
     "data": {
      "text/plain": [
       "<Axes: title={'center': 'Feature importance'}, xlabel='F score', ylabel='Features'>"
      ]
     },
     "execution_count": 6,
     "metadata": {},
     "output_type": "execute_result"
    },
    {
     "data": {
      "image/png": "[encoded data removed]",
      "text/plain": [
       "<Figure size 640x480 with 1 Axes>"
      ]
     },
     "metadata": {},
     "output_type": "display_data"
    }
   ],
   "source": [
    "# DMatrix for the whole adult_train data set\n",
    "X = train_df.drop(\"income\", axis=1)\n",
    "y = train_df[\"income\"]\n",
    "dtrain = xgb.DMatrix(X, label=y)\n",
    "\n",
    "# Standard parameters for model training\n",
    "params = {\n",
    "    \"objective\": \"binary:logistic\",\n",
    "    \"eval_metric\": \"auc\",\n",
    "    \"max_depth\": 6,\n",
    "    \"eta\": 0.1,\n",
    "}\n",
    "bst = xgb.train(params, dtrain, num_boost_round=100)\n",
    "\n",
    "# Plotting the Feature Importance to see which features are valuable and which can be discarded\n",
    "xgb.plot_importance(bst, max_num_features=20)\n"
   ]
  },
  {
   "cell_type": "code",
   "execution_count": 7,
   "id": "3afac4e1-3acb-4e37-9efa-012bd86726e6",
   "metadata": {},
   "outputs": [],
   "source": [
    "# Removing columns which aren't necessary as seen in the plot above\n",
    "important_features = [\"age\", \"hours-per-week\", \"capital-gain\", \"capital-loss\", \"education-num\"]\n",
    "X_reduced = train_df[important_features]\n",
    "dtrain_reduced = xgb.DMatrix(X_reduced, label=y)\n"
   ]
  },
  {
   "cell_type": "markdown",
   "id": "d9ceaa6d-4df4-4f3f-8586-52300c8d058d",
   "metadata": {},
   "source": [
    "<div class=\"alert alert-block alert-info\">\n",
    "    Originally, GridSearchCV was part of the code to get the best parameters. But at the moment (12th January 2025) the current version of scikit-learn has issues with\n",
    "    the tag-function which causes errors in XGBoost.\n",
    "    The first try was to uninstall scikit-learn and install an older version. Then the plan was to install a compatible older version of XGBoost. <br>\n",
    "    Unfortunately the Flower-Framework needs a version on XGBoost greater than 2.0.0, so downgrading was not possible.<br>\n",
    "    Eventually as a solution a manual gridsearch was implemented as shown down below.\n",
    "</div>"
   ]
  },
  {
   "cell_type": "code",
   "execution_count": null,
   "id": "e86f956e-5239-480d-91f1-f125042532dc",
   "metadata": {},
   "outputs": [],
   "source": [
    "!pip uninstall -y scikit-learn"
   ]
  },
  {
   "cell_type": "code",
   "execution_count": null,
   "id": "d120ccb8-cae3-4eea-8cab-a08828ee6397",
   "metadata": {},
   "outputs": [],
   "source": [
    "!pip install scikit-learn==1.3.1"
   ]
  },
  {
   "cell_type": "code",
   "execution_count": null,
   "id": "aaeb3de7-355f-4853-a2f7-f6ceb0048e90",
   "metadata": {},
   "outputs": [],
   "source": [
    "!python -c \"import sklearn; print(sklearn.__version__)\"\n"
   ]
  },
  {
   "cell_type": "code",
   "execution_count": null,
   "id": "13fb01bc-bcd4-43bf-a049-8aeae257d777",
   "metadata": {},
   "outputs": [],
   "source": [
    "!pip freeze | grep xgboost"
   ]
  },
  {
   "cell_type": "code",
   "execution_count": null,
   "id": "25fdaa58-c671-443c-83b6-c338407089a5",
   "metadata": {},
   "outputs": [],
   "source": [
    "!python --version"
   ]
  },
  {
   "cell_type": "markdown",
   "id": "3d2eb651-4e48-4c23-9cce-f48cd7d5aebd",
   "metadata": {},
   "source": [
    "### Problem description:\n",
    "\n",
    "<div class=\"alert alert-block alert-danger\">\n",
    "    File ~/miniconda3/envs/firsthandson/lib/python3.9/site-packages/sklearn/base.py:540, in ClassifierMixin.__sklearn_tags__(self)<br>\n",
    "        539 def __sklearn_tags__(self):<br>\n",
    "    --> 540     tags = super().__sklearn_tags__()<br>\n",
    "        541     tags.estimator_type = \"classifier\"<br>\n",
    "        542     tags.classifier_tags = ClassifierTags()<br>\n",
    "    AttributeError: 'super' object has no attribute '__sklearn_tags__'\n",
    "</div>"
   ]
  },
  {
   "cell_type": "markdown",
   "id": "f446745a-bb73-496b-be51-321b97c6860a",
   "metadata": {},
   "source": [
    "To be able to use the Flower Framework it is necessary to have xgboost >=2.0.0 installed. So there is no possibility to downgrade it.\n",
    "\n",
    ">Scikit-learn version 1.6 modified the API around its \"tags\", and that's the cause of this error. XGBoost has made the necessary changes in PR11021, but at present that hasn't made it into a released version. You can either keep your sklearn version <1.6, or build XGBoost directly from github (or upgrade XGBoost, after a new version is released). <br> In sklearn 1.6.1, the error was downgraded to a warning (to be returned to an error in 1.7). So you may also install sklearn >=1.6.1,<1.7 and just expect DeprecationWarnings. <br> See also sklearn Issue#30479 and 1.6.1 release notes.\n",
    "\n",
    "Source: https://stackoverflow.com/questions/79290968/super-object-has-no-attribute-sklearn-tags"
   ]
  },
  {
   "cell_type": "code",
   "execution_count": null,
   "id": "7efa9e3c-0236-4039-8f1e-4edd29eaf8e7",
   "metadata": {},
   "outputs": [],
   "source": [
    "!pip uninstall -y xgboost"
   ]
  },
  {
   "cell_type": "code",
   "execution_count": 9,
   "id": "d3659bfc-d7d7-4128-9376-cc4acc3fa209",
   "metadata": {},
   "outputs": [
    {
     "name": "stdout",
     "output_type": "stream",
     "text": [
      "Requirement already satisfied: xgboost in /Users/annina/miniconda3/envs/firsthandson/lib/python3.9/site-packages (2.1.3)\n",
      "Requirement already satisfied: numpy in /Users/annina/miniconda3/envs/firsthandson/lib/python3.9/site-packages (from xgboost) (1.26.4)\n",
      "Requirement already satisfied: scipy in /Users/annina/miniconda3/envs/firsthandson/lib/python3.9/site-packages (from xgboost) (1.13.1)\n"
     ]
    }
   ],
   "source": [
    "!pip install --upgrade xgboost"
   ]
  },
  {
   "cell_type": "code",
   "execution_count": 11,
   "id": "87d36c87-3aca-4596-bc7c-248aee5df910",
   "metadata": {},
   "outputs": [
    {
     "name": "stderr",
     "output_type": "stream",
     "text": [
      "/Users/annina/miniconda3/envs/firsthandson/lib/python3.9/site-packages/xgboost/core.py:158: UserWarning: [22:29:15] WARNING: /Users/runner/work/xgboost/xgboost/src/learner.cc:740: \n",
      "Parameters: { \"use_label_encoder\" } are not used.\n",
      "\n",
      "  warnings.warn(smsg, UserWarning)\n",
      "/Users/annina/miniconda3/envs/firsthandson/lib/python3.9/site-packages/xgboost/core.py:158: UserWarning: [22:29:15] WARNING: /Users/runner/work/xgboost/xgboost/src/learner.cc:740: \n",
      "Parameters: { \"use_label_encoder\" } are not used.\n",
      "\n",
      "  warnings.warn(smsg, UserWarning)\n"
     ]
    },
    {
     "name": "stdout",
     "output_type": "stream",
     "text": [
      "Params: max_depth=6, learning_rate=0.01, n_estimators=100, subsample=0.8, AUC=0.8653722454823503\n",
      "Params: max_depth=6, learning_rate=0.01, n_estimators=100, subsample=1.0, AUC=0.8639153068014171\n"
     ]
    },
    {
     "name": "stderr",
     "output_type": "stream",
     "text": [
      "/Users/annina/miniconda3/envs/firsthandson/lib/python3.9/site-packages/xgboost/core.py:158: UserWarning: [22:29:15] WARNING: /Users/runner/work/xgboost/xgboost/src/learner.cc:740: \n",
      "Parameters: { \"use_label_encoder\" } are not used.\n",
      "\n",
      "  warnings.warn(smsg, UserWarning)\n"
     ]
    },
    {
     "name": "stdout",
     "output_type": "stream",
     "text": [
      "Params: max_depth=6, learning_rate=0.01, n_estimators=150, subsample=0.8, AUC=0.8672070234967507\n"
     ]
    },
    {
     "name": "stderr",
     "output_type": "stream",
     "text": [
      "/Users/annina/miniconda3/envs/firsthandson/lib/python3.9/site-packages/xgboost/core.py:158: UserWarning: [22:29:16] WARNING: /Users/runner/work/xgboost/xgboost/src/learner.cc:740: \n",
      "Parameters: { \"use_label_encoder\" } are not used.\n",
      "\n",
      "  warnings.warn(smsg, UserWarning)\n"
     ]
    },
    {
     "name": "stdout",
     "output_type": "stream",
     "text": [
      "Params: max_depth=6, learning_rate=0.01, n_estimators=150, subsample=1.0, AUC=0.8661548436722764\n"
     ]
    },
    {
     "name": "stderr",
     "output_type": "stream",
     "text": [
      "/Users/annina/miniconda3/envs/firsthandson/lib/python3.9/site-packages/xgboost/core.py:158: UserWarning: [22:29:16] WARNING: /Users/runner/work/xgboost/xgboost/src/learner.cc:740: \n",
      "Parameters: { \"use_label_encoder\" } are not used.\n",
      "\n",
      "  warnings.warn(smsg, UserWarning)\n"
     ]
    },
    {
     "name": "stdout",
     "output_type": "stream",
     "text": [
      "Params: max_depth=6, learning_rate=0.01, n_estimators=200, subsample=0.8, AUC=0.8693503456131868\n"
     ]
    },
    {
     "name": "stderr",
     "output_type": "stream",
     "text": [
      "/Users/annina/miniconda3/envs/firsthandson/lib/python3.9/site-packages/xgboost/core.py:158: UserWarning: [22:29:16] WARNING: /Users/runner/work/xgboost/xgboost/src/learner.cc:740: \n",
      "Parameters: { \"use_label_encoder\" } are not used.\n",
      "\n",
      "  warnings.warn(smsg, UserWarning)\n"
     ]
    },
    {
     "name": "stdout",
     "output_type": "stream",
     "text": [
      "Params: max_depth=6, learning_rate=0.01, n_estimators=200, subsample=1.0, AUC=0.8681685270332549\n",
      "Params: max_depth=6, learning_rate=0.1, n_estimators=100, subsample=0.8, AUC=0.8807898548689947\n"
     ]
    },
    {
     "name": "stderr",
     "output_type": "stream",
     "text": [
      "/Users/annina/miniconda3/envs/firsthandson/lib/python3.9/site-packages/xgboost/core.py:158: UserWarning: [22:29:17] WARNING: /Users/runner/work/xgboost/xgboost/src/learner.cc:740: \n",
      "Parameters: { \"use_label_encoder\" } are not used.\n",
      "\n",
      "  warnings.warn(smsg, UserWarning)\n",
      "/Users/annina/miniconda3/envs/firsthandson/lib/python3.9/site-packages/xgboost/core.py:158: UserWarning: [22:29:17] WARNING: /Users/runner/work/xgboost/xgboost/src/learner.cc:740: \n",
      "Parameters: { \"use_label_encoder\" } are not used.\n",
      "\n",
      "  warnings.warn(smsg, UserWarning)\n"
     ]
    },
    {
     "name": "stdout",
     "output_type": "stream",
     "text": [
      "Params: max_depth=6, learning_rate=0.1, n_estimators=100, subsample=1.0, AUC=0.8820515304070824\n"
     ]
    },
    {
     "name": "stderr",
     "output_type": "stream",
     "text": [
      "/Users/annina/miniconda3/envs/firsthandson/lib/python3.9/site-packages/xgboost/core.py:158: UserWarning: [22:29:17] WARNING: /Users/runner/work/xgboost/xgboost/src/learner.cc:740: \n",
      "Parameters: { \"use_label_encoder\" } are not used.\n",
      "\n",
      "  warnings.warn(smsg, UserWarning)\n"
     ]
    },
    {
     "name": "stdout",
     "output_type": "stream",
     "text": [
      "Params: max_depth=6, learning_rate=0.1, n_estimators=150, subsample=0.8, AUC=0.880992588501474\n"
     ]
    },
    {
     "name": "stderr",
     "output_type": "stream",
     "text": [
      "/Users/annina/miniconda3/envs/firsthandson/lib/python3.9/site-packages/xgboost/core.py:158: UserWarning: [22:29:17] WARNING: /Users/runner/work/xgboost/xgboost/src/learner.cc:740: \n",
      "Parameters: { \"use_label_encoder\" } are not used.\n",
      "\n",
      "  warnings.warn(smsg, UserWarning)\n"
     ]
    },
    {
     "name": "stdout",
     "output_type": "stream",
     "text": [
      "Params: max_depth=6, learning_rate=0.1, n_estimators=150, subsample=1.0, AUC=0.882552954823373\n"
     ]
    },
    {
     "name": "stderr",
     "output_type": "stream",
     "text": [
      "/Users/annina/miniconda3/envs/firsthandson/lib/python3.9/site-packages/xgboost/core.py:158: UserWarning: [22:29:17] WARNING: /Users/runner/work/xgboost/xgboost/src/learner.cc:740: \n",
      "Parameters: { \"use_label_encoder\" } are not used.\n",
      "\n",
      "  warnings.warn(smsg, UserWarning)\n"
     ]
    },
    {
     "name": "stdout",
     "output_type": "stream",
     "text": [
      "Params: max_depth=6, learning_rate=0.1, n_estimators=200, subsample=0.8, AUC=0.8806332321897731\n"
     ]
    },
    {
     "name": "stderr",
     "output_type": "stream",
     "text": [
      "/Users/annina/miniconda3/envs/firsthandson/lib/python3.9/site-packages/xgboost/core.py:158: UserWarning: [22:29:18] WARNING: /Users/runner/work/xgboost/xgboost/src/learner.cc:740: \n",
      "Parameters: { \"use_label_encoder\" } are not used.\n",
      "\n",
      "  warnings.warn(smsg, UserWarning)\n"
     ]
    },
    {
     "name": "stdout",
     "output_type": "stream",
     "text": [
      "Params: max_depth=6, learning_rate=0.1, n_estimators=200, subsample=1.0, AUC=0.8825474807576932\n",
      "Params: max_depth=6, learning_rate=0.2, n_estimators=100, subsample=0.8, AUC=0.8780981601729649\n"
     ]
    },
    {
     "name": "stderr",
     "output_type": "stream",
     "text": [
      "/Users/annina/miniconda3/envs/firsthandson/lib/python3.9/site-packages/xgboost/core.py:158: UserWarning: [22:29:18] WARNING: /Users/runner/work/xgboost/xgboost/src/learner.cc:740: \n",
      "Parameters: { \"use_label_encoder\" } are not used.\n",
      "\n",
      "  warnings.warn(smsg, UserWarning)\n",
      "/Users/annina/miniconda3/envs/firsthandson/lib/python3.9/site-packages/xgboost/core.py:158: UserWarning: [22:29:18] WARNING: /Users/runner/work/xgboost/xgboost/src/learner.cc:740: \n",
      "Parameters: { \"use_label_encoder\" } are not used.\n",
      "\n",
      "  warnings.warn(smsg, UserWarning)\n"
     ]
    },
    {
     "name": "stdout",
     "output_type": "stream",
     "text": [
      "Params: max_depth=6, learning_rate=0.2, n_estimators=100, subsample=1.0, AUC=0.8826742858791516\n"
     ]
    },
    {
     "name": "stderr",
     "output_type": "stream",
     "text": [
      "/Users/annina/miniconda3/envs/firsthandson/lib/python3.9/site-packages/xgboost/core.py:158: UserWarning: [22:29:18] WARNING: /Users/runner/work/xgboost/xgboost/src/learner.cc:740: \n",
      "Parameters: { \"use_label_encoder\" } are not used.\n",
      "\n",
      "  warnings.warn(smsg, UserWarning)\n"
     ]
    },
    {
     "name": "stdout",
     "output_type": "stream",
     "text": [
      "Params: max_depth=6, learning_rate=0.2, n_estimators=150, subsample=0.8, AUC=0.8774399842759074\n"
     ]
    },
    {
     "name": "stderr",
     "output_type": "stream",
     "text": [
      "/Users/annina/miniconda3/envs/firsthandson/lib/python3.9/site-packages/xgboost/core.py:158: UserWarning: [22:29:18] WARNING: /Users/runner/work/xgboost/xgboost/src/learner.cc:740: \n",
      "Parameters: { \"use_label_encoder\" } are not used.\n",
      "\n",
      "  warnings.warn(smsg, UserWarning)\n"
     ]
    },
    {
     "name": "stdout",
     "output_type": "stream",
     "text": [
      "Params: max_depth=6, learning_rate=0.2, n_estimators=150, subsample=1.0, AUC=0.8816132831488165\n"
     ]
    },
    {
     "name": "stderr",
     "output_type": "stream",
     "text": [
      "/Users/annina/miniconda3/envs/firsthandson/lib/python3.9/site-packages/xgboost/core.py:158: UserWarning: [22:29:19] WARNING: /Users/runner/work/xgboost/xgboost/src/learner.cc:740: \n",
      "Parameters: { \"use_label_encoder\" } are not used.\n",
      "\n",
      "  warnings.warn(smsg, UserWarning)\n"
     ]
    },
    {
     "name": "stdout",
     "output_type": "stream",
     "text": [
      "Params: max_depth=6, learning_rate=0.2, n_estimators=200, subsample=0.8, AUC=0.8747323825890192\n"
     ]
    },
    {
     "name": "stderr",
     "output_type": "stream",
     "text": [
      "/Users/annina/miniconda3/envs/firsthandson/lib/python3.9/site-packages/xgboost/core.py:158: UserWarning: [22:29:19] WARNING: /Users/runner/work/xgboost/xgboost/src/learner.cc:740: \n",
      "Parameters: { \"use_label_encoder\" } are not used.\n",
      "\n",
      "  warnings.warn(smsg, UserWarning)\n"
     ]
    },
    {
     "name": "stdout",
     "output_type": "stream",
     "text": [
      "Params: max_depth=6, learning_rate=0.2, n_estimators=200, subsample=1.0, AUC=0.8799456251395887\n"
     ]
    },
    {
     "name": "stderr",
     "output_type": "stream",
     "text": [
      "/Users/annina/miniconda3/envs/firsthandson/lib/python3.9/site-packages/xgboost/core.py:158: UserWarning: [22:29:19] WARNING: /Users/runner/work/xgboost/xgboost/src/learner.cc:740: \n",
      "Parameters: { \"use_label_encoder\" } are not used.\n",
      "\n",
      "  warnings.warn(smsg, UserWarning)\n"
     ]
    },
    {
     "name": "stdout",
     "output_type": "stream",
     "text": [
      "Params: max_depth=8, learning_rate=0.01, n_estimators=100, subsample=0.8, AUC=0.8676308449819304\n"
     ]
    },
    {
     "name": "stderr",
     "output_type": "stream",
     "text": [
      "/Users/annina/miniconda3/envs/firsthandson/lib/python3.9/site-packages/xgboost/core.py:158: UserWarning: [22:29:19] WARNING: /Users/runner/work/xgboost/xgboost/src/learner.cc:740: \n",
      "Parameters: { \"use_label_encoder\" } are not used.\n",
      "\n",
      "  warnings.warn(smsg, UserWarning)\n"
     ]
    },
    {
     "name": "stdout",
     "output_type": "stream",
     "text": [
      "Params: max_depth=8, learning_rate=0.01, n_estimators=100, subsample=1.0, AUC=0.8673506372198856\n"
     ]
    },
    {
     "name": "stderr",
     "output_type": "stream",
     "text": [
      "/Users/annina/miniconda3/envs/firsthandson/lib/python3.9/site-packages/xgboost/core.py:158: UserWarning: [22:29:20] WARNING: /Users/runner/work/xgboost/xgboost/src/learner.cc:740: \n",
      "Parameters: { \"use_label_encoder\" } are not used.\n",
      "\n",
      "  warnings.warn(smsg, UserWarning)\n"
     ]
    },
    {
     "name": "stdout",
     "output_type": "stream",
     "text": [
      "Params: max_depth=8, learning_rate=0.01, n_estimators=150, subsample=0.8, AUC=0.8709498032041187\n"
     ]
    },
    {
     "name": "stderr",
     "output_type": "stream",
     "text": [
      "/Users/annina/miniconda3/envs/firsthandson/lib/python3.9/site-packages/xgboost/core.py:158: UserWarning: [22:29:20] WARNING: /Users/runner/work/xgboost/xgboost/src/learner.cc:740: \n",
      "Parameters: { \"use_label_encoder\" } are not used.\n",
      "\n",
      "  warnings.warn(smsg, UserWarning)\n"
     ]
    },
    {
     "name": "stdout",
     "output_type": "stream",
     "text": [
      "Params: max_depth=8, learning_rate=0.01, n_estimators=150, subsample=1.0, AUC=0.870618525629318\n"
     ]
    },
    {
     "name": "stderr",
     "output_type": "stream",
     "text": [
      "/Users/annina/miniconda3/envs/firsthandson/lib/python3.9/site-packages/xgboost/core.py:158: UserWarning: [22:29:20] WARNING: /Users/runner/work/xgboost/xgboost/src/learner.cc:740: \n",
      "Parameters: { \"use_label_encoder\" } are not used.\n",
      "\n",
      "  warnings.warn(smsg, UserWarning)\n"
     ]
    },
    {
     "name": "stdout",
     "output_type": "stream",
     "text": [
      "Params: max_depth=8, learning_rate=0.01, n_estimators=200, subsample=0.8, AUC=0.873303329442668\n"
     ]
    },
    {
     "name": "stderr",
     "output_type": "stream",
     "text": [
      "/Users/annina/miniconda3/envs/firsthandson/lib/python3.9/site-packages/xgboost/core.py:158: UserWarning: [22:29:21] WARNING: /Users/runner/work/xgboost/xgboost/src/learner.cc:740: \n",
      "Parameters: { \"use_label_encoder\" } are not used.\n",
      "\n",
      "  warnings.warn(smsg, UserWarning)\n"
     ]
    },
    {
     "name": "stdout",
     "output_type": "stream",
     "text": [
      "Params: max_depth=8, learning_rate=0.01, n_estimators=200, subsample=1.0, AUC=0.8717500472057664\n",
      "Params: max_depth=8, learning_rate=0.1, n_estimators=100, subsample=0.8, AUC=0.8795727446656196\n"
     ]
    },
    {
     "name": "stderr",
     "output_type": "stream",
     "text": [
      "/Users/annina/miniconda3/envs/firsthandson/lib/python3.9/site-packages/xgboost/core.py:158: UserWarning: [22:29:21] WARNING: /Users/runner/work/xgboost/xgboost/src/learner.cc:740: \n",
      "Parameters: { \"use_label_encoder\" } are not used.\n",
      "\n",
      "  warnings.warn(smsg, UserWarning)\n",
      "/Users/annina/miniconda3/envs/firsthandson/lib/python3.9/site-packages/xgboost/core.py:158: UserWarning: [22:29:21] WARNING: /Users/runner/work/xgboost/xgboost/src/learner.cc:740: \n",
      "Parameters: { \"use_label_encoder\" } are not used.\n",
      "\n",
      "  warnings.warn(smsg, UserWarning)\n"
     ]
    },
    {
     "name": "stdout",
     "output_type": "stream",
     "text": [
      "Params: max_depth=8, learning_rate=0.1, n_estimators=100, subsample=1.0, AUC=0.8810410822833217\n"
     ]
    },
    {
     "name": "stderr",
     "output_type": "stream",
     "text": [
      "/Users/annina/miniconda3/envs/firsthandson/lib/python3.9/site-packages/xgboost/core.py:158: UserWarning: [22:29:21] WARNING: /Users/runner/work/xgboost/xgboost/src/learner.cc:740: \n",
      "Parameters: { \"use_label_encoder\" } are not used.\n",
      "\n",
      "  warnings.warn(smsg, UserWarning)\n"
     ]
    },
    {
     "name": "stdout",
     "output_type": "stream",
     "text": [
      "Params: max_depth=8, learning_rate=0.1, n_estimators=150, subsample=0.8, AUC=0.8781708686453504\n"
     ]
    },
    {
     "name": "stderr",
     "output_type": "stream",
     "text": [
      "/Users/annina/miniconda3/envs/firsthandson/lib/python3.9/site-packages/xgboost/core.py:158: UserWarning: [22:29:22] WARNING: /Users/runner/work/xgboost/xgboost/src/learner.cc:740: \n",
      "Parameters: { \"use_label_encoder\" } are not used.\n",
      "\n",
      "  warnings.warn(smsg, UserWarning)\n"
     ]
    },
    {
     "name": "stdout",
     "output_type": "stream",
     "text": [
      "Params: max_depth=8, learning_rate=0.1, n_estimators=150, subsample=1.0, AUC=0.8813136263534143\n"
     ]
    },
    {
     "name": "stderr",
     "output_type": "stream",
     "text": [
      "/Users/annina/miniconda3/envs/firsthandson/lib/python3.9/site-packages/xgboost/core.py:158: UserWarning: [22:29:22] WARNING: /Users/runner/work/xgboost/xgboost/src/learner.cc:740: \n",
      "Parameters: { \"use_label_encoder\" } are not used.\n",
      "\n",
      "  warnings.warn(smsg, UserWarning)\n"
     ]
    },
    {
     "name": "stdout",
     "output_type": "stream",
     "text": [
      "Params: max_depth=8, learning_rate=0.1, n_estimators=200, subsample=0.8, AUC=0.8759666877987069\n"
     ]
    },
    {
     "name": "stderr",
     "output_type": "stream",
     "text": [
      "/Users/annina/miniconda3/envs/firsthandson/lib/python3.9/site-packages/xgboost/core.py:158: UserWarning: [22:29:22] WARNING: /Users/runner/work/xgboost/xgboost/src/learner.cc:740: \n",
      "Parameters: { \"use_label_encoder\" } are not used.\n",
      "\n",
      "  warnings.warn(smsg, UserWarning)\n"
     ]
    },
    {
     "name": "stdout",
     "output_type": "stream",
     "text": [
      "Params: max_depth=8, learning_rate=0.1, n_estimators=200, subsample=1.0, AUC=0.881101941013529\n"
     ]
    },
    {
     "name": "stderr",
     "output_type": "stream",
     "text": [
      "/Users/annina/miniconda3/envs/firsthandson/lib/python3.9/site-packages/xgboost/core.py:158: UserWarning: [22:29:23] WARNING: /Users/runner/work/xgboost/xgboost/src/learner.cc:740: \n",
      "Parameters: { \"use_label_encoder\" } are not used.\n",
      "\n",
      "  warnings.warn(smsg, UserWarning)\n"
     ]
    },
    {
     "name": "stdout",
     "output_type": "stream",
     "text": [
      "Params: max_depth=8, learning_rate=0.2, n_estimators=100, subsample=0.8, AUC=0.873570335046308\n",
      "Params: max_depth=8, learning_rate=0.2, n_estimators=100, subsample=1.0, AUC=0.8808856188180089\n"
     ]
    },
    {
     "name": "stderr",
     "output_type": "stream",
     "text": [
      "/Users/annina/miniconda3/envs/firsthandson/lib/python3.9/site-packages/xgboost/core.py:158: UserWarning: [22:29:23] WARNING: /Users/runner/work/xgboost/xgboost/src/learner.cc:740: \n",
      "Parameters: { \"use_label_encoder\" } are not used.\n",
      "\n",
      "  warnings.warn(smsg, UserWarning)\n",
      "/Users/annina/miniconda3/envs/firsthandson/lib/python3.9/site-packages/xgboost/core.py:158: UserWarning: [22:29:23] WARNING: /Users/runner/work/xgboost/xgboost/src/learner.cc:740: \n",
      "Parameters: { \"use_label_encoder\" } are not used.\n",
      "\n",
      "  warnings.warn(smsg, UserWarning)\n"
     ]
    },
    {
     "name": "stdout",
     "output_type": "stream",
     "text": [
      "Params: max_depth=8, learning_rate=0.2, n_estimators=150, subsample=0.8, AUC=0.8692266317288181\n"
     ]
    },
    {
     "name": "stderr",
     "output_type": "stream",
     "text": [
      "/Users/annina/miniconda3/envs/firsthandson/lib/python3.9/site-packages/xgboost/core.py:158: UserWarning: [22:29:23] WARNING: /Users/runner/work/xgboost/xgboost/src/learner.cc:740: \n",
      "Parameters: { \"use_label_encoder\" } are not used.\n",
      "\n",
      "  warnings.warn(smsg, UserWarning)\n"
     ]
    },
    {
     "name": "stdout",
     "output_type": "stream",
     "text": [
      "Params: max_depth=8, learning_rate=0.2, n_estimators=150, subsample=1.0, AUC=0.8793220324574742\n"
     ]
    },
    {
     "name": "stderr",
     "output_type": "stream",
     "text": [
      "/Users/annina/miniconda3/envs/firsthandson/lib/python3.9/site-packages/xgboost/core.py:158: UserWarning: [22:29:24] WARNING: /Users/runner/work/xgboost/xgboost/src/learner.cc:740: \n",
      "Parameters: { \"use_label_encoder\" } are not used.\n",
      "\n",
      "  warnings.warn(smsg, UserWarning)\n"
     ]
    },
    {
     "name": "stdout",
     "output_type": "stream",
     "text": [
      "Params: max_depth=8, learning_rate=0.2, n_estimators=200, subsample=0.8, AUC=0.865833741419563\n"
     ]
    },
    {
     "name": "stderr",
     "output_type": "stream",
     "text": [
      "/Users/annina/miniconda3/envs/firsthandson/lib/python3.9/site-packages/xgboost/core.py:158: UserWarning: [22:29:24] WARNING: /Users/runner/work/xgboost/xgboost/src/learner.cc:740: \n",
      "Parameters: { \"use_label_encoder\" } are not used.\n",
      "\n",
      "  warnings.warn(smsg, UserWarning)\n"
     ]
    },
    {
     "name": "stdout",
     "output_type": "stream",
     "text": [
      "Params: max_depth=8, learning_rate=0.2, n_estimators=200, subsample=1.0, AUC=0.8770398622750836\n"
     ]
    },
    {
     "name": "stderr",
     "output_type": "stream",
     "text": [
      "/Users/annina/miniconda3/envs/firsthandson/lib/python3.9/site-packages/xgboost/core.py:158: UserWarning: [22:29:24] WARNING: /Users/runner/work/xgboost/xgboost/src/learner.cc:740: \n",
      "Parameters: { \"use_label_encoder\" } are not used.\n",
      "\n",
      "  warnings.warn(smsg, UserWarning)\n"
     ]
    },
    {
     "name": "stdout",
     "output_type": "stream",
     "text": [
      "Params: max_depth=10, learning_rate=0.01, n_estimators=100, subsample=0.8, AUC=0.8674690702408924\n"
     ]
    },
    {
     "name": "stderr",
     "output_type": "stream",
     "text": [
      "/Users/annina/miniconda3/envs/firsthandson/lib/python3.9/site-packages/xgboost/core.py:158: UserWarning: [22:29:25] WARNING: /Users/runner/work/xgboost/xgboost/src/learner.cc:740: \n",
      "Parameters: { \"use_label_encoder\" } are not used.\n",
      "\n",
      "  warnings.warn(smsg, UserWarning)\n"
     ]
    },
    {
     "name": "stdout",
     "output_type": "stream",
     "text": [
      "Params: max_depth=10, learning_rate=0.01, n_estimators=100, subsample=1.0, AUC=0.8656707430638436\n"
     ]
    },
    {
     "name": "stderr",
     "output_type": "stream",
     "text": [
      "/Users/annina/miniconda3/envs/firsthandson/lib/python3.9/site-packages/xgboost/core.py:158: UserWarning: [22:29:25] WARNING: /Users/runner/work/xgboost/xgboost/src/learner.cc:740: \n",
      "Parameters: { \"use_label_encoder\" } are not used.\n",
      "\n",
      "  warnings.warn(smsg, UserWarning)\n"
     ]
    },
    {
     "name": "stdout",
     "output_type": "stream",
     "text": [
      "Params: max_depth=10, learning_rate=0.01, n_estimators=150, subsample=0.8, AUC=0.870485022827498\n"
     ]
    },
    {
     "name": "stderr",
     "output_type": "stream",
     "text": [
      "/Users/annina/miniconda3/envs/firsthandson/lib/python3.9/site-packages/xgboost/core.py:158: UserWarning: [22:29:25] WARNING: /Users/runner/work/xgboost/xgboost/src/learner.cc:740: \n",
      "Parameters: { \"use_label_encoder\" } are not used.\n",
      "\n",
      "  warnings.warn(smsg, UserWarning)\n"
     ]
    },
    {
     "name": "stdout",
     "output_type": "stream",
     "text": [
      "Params: max_depth=10, learning_rate=0.01, n_estimators=150, subsample=1.0, AUC=0.8684617437513864\n"
     ]
    },
    {
     "name": "stderr",
     "output_type": "stream",
     "text": [
      "/Users/annina/miniconda3/envs/firsthandson/lib/python3.9/site-packages/xgboost/core.py:158: UserWarning: [22:29:26] WARNING: /Users/runner/work/xgboost/xgboost/src/learner.cc:740: \n",
      "Parameters: { \"use_label_encoder\" } are not used.\n",
      "\n",
      "  warnings.warn(smsg, UserWarning)\n"
     ]
    },
    {
     "name": "stdout",
     "output_type": "stream",
     "text": [
      "Params: max_depth=10, learning_rate=0.01, n_estimators=200, subsample=0.8, AUC=0.8724876292555709\n"
     ]
    },
    {
     "name": "stderr",
     "output_type": "stream",
     "text": [
      "/Users/annina/miniconda3/envs/firsthandson/lib/python3.9/site-packages/xgboost/core.py:158: UserWarning: [22:29:26] WARNING: /Users/runner/work/xgboost/xgboost/src/learner.cc:740: \n",
      "Parameters: { \"use_label_encoder\" } are not used.\n",
      "\n",
      "  warnings.warn(smsg, UserWarning)\n"
     ]
    },
    {
     "name": "stdout",
     "output_type": "stream",
     "text": [
      "Params: max_depth=10, learning_rate=0.01, n_estimators=200, subsample=1.0, AUC=0.8698133227681719\n"
     ]
    },
    {
     "name": "stderr",
     "output_type": "stream",
     "text": [
      "/Users/annina/miniconda3/envs/firsthandson/lib/python3.9/site-packages/xgboost/core.py:158: UserWarning: [22:29:27] WARNING: /Users/runner/work/xgboost/xgboost/src/learner.cc:740: \n",
      "Parameters: { \"use_label_encoder\" } are not used.\n",
      "\n",
      "  warnings.warn(smsg, UserWarning)\n"
     ]
    },
    {
     "name": "stdout",
     "output_type": "stream",
     "text": [
      "Params: max_depth=10, learning_rate=0.1, n_estimators=100, subsample=0.8, AUC=0.8768061518709327\n"
     ]
    },
    {
     "name": "stderr",
     "output_type": "stream",
     "text": [
      "/Users/annina/miniconda3/envs/firsthandson/lib/python3.9/site-packages/xgboost/core.py:158: UserWarning: [22:29:27] WARNING: /Users/runner/work/xgboost/xgboost/src/learner.cc:740: \n",
      "Parameters: { \"use_label_encoder\" } are not used.\n",
      "\n",
      "  warnings.warn(smsg, UserWarning)\n"
     ]
    },
    {
     "name": "stdout",
     "output_type": "stream",
     "text": [
      "Params: max_depth=10, learning_rate=0.1, n_estimators=100, subsample=1.0, AUC=0.879124386486039\n"
     ]
    },
    {
     "name": "stderr",
     "output_type": "stream",
     "text": [
      "/Users/annina/miniconda3/envs/firsthandson/lib/python3.9/site-packages/xgboost/core.py:158: UserWarning: [22:29:27] WARNING: /Users/runner/work/xgboost/xgboost/src/learner.cc:740: \n",
      "Parameters: { \"use_label_encoder\" } are not used.\n",
      "\n",
      "  warnings.warn(smsg, UserWarning)\n"
     ]
    },
    {
     "name": "stdout",
     "output_type": "stream",
     "text": [
      "Params: max_depth=10, learning_rate=0.1, n_estimators=150, subsample=0.8, AUC=0.8730868140448296\n"
     ]
    },
    {
     "name": "stderr",
     "output_type": "stream",
     "text": [
      "/Users/annina/miniconda3/envs/firsthandson/lib/python3.9/site-packages/xgboost/core.py:158: UserWarning: [22:29:28] WARNING: /Users/runner/work/xgboost/xgboost/src/learner.cc:740: \n",
      "Parameters: { \"use_label_encoder\" } are not used.\n",
      "\n",
      "  warnings.warn(smsg, UserWarning)\n"
     ]
    },
    {
     "name": "stdout",
     "output_type": "stream",
     "text": [
      "Params: max_depth=10, learning_rate=0.1, n_estimators=150, subsample=1.0, AUC=0.8777879416508391\n"
     ]
    },
    {
     "name": "stderr",
     "output_type": "stream",
     "text": [
      "/Users/annina/miniconda3/envs/firsthandson/lib/python3.9/site-packages/xgboost/core.py:158: UserWarning: [22:29:28] WARNING: /Users/runner/work/xgboost/xgboost/src/learner.cc:740: \n",
      "Parameters: { \"use_label_encoder\" } are not used.\n",
      "\n",
      "  warnings.warn(smsg, UserWarning)\n"
     ]
    },
    {
     "name": "stdout",
     "output_type": "stream",
     "text": [
      "Params: max_depth=10, learning_rate=0.1, n_estimators=200, subsample=0.8, AUC=0.8695249361079933\n"
     ]
    },
    {
     "name": "stderr",
     "output_type": "stream",
     "text": [
      "/Users/annina/miniconda3/envs/firsthandson/lib/python3.9/site-packages/xgboost/core.py:158: UserWarning: [22:29:28] WARNING: /Users/runner/work/xgboost/xgboost/src/learner.cc:740: \n",
      "Parameters: { \"use_label_encoder\" } are not used.\n",
      "\n",
      "  warnings.warn(smsg, UserWarning)\n"
     ]
    },
    {
     "name": "stdout",
     "output_type": "stream",
     "text": [
      "Params: max_depth=10, learning_rate=0.1, n_estimators=200, subsample=1.0, AUC=0.8774614297332185\n"
     ]
    },
    {
     "name": "stderr",
     "output_type": "stream",
     "text": [
      "/Users/annina/miniconda3/envs/firsthandson/lib/python3.9/site-packages/xgboost/core.py:158: UserWarning: [22:29:29] WARNING: /Users/runner/work/xgboost/xgboost/src/learner.cc:740: \n",
      "Parameters: { \"use_label_encoder\" } are not used.\n",
      "\n",
      "  warnings.warn(smsg, UserWarning)\n"
     ]
    },
    {
     "name": "stdout",
     "output_type": "stream",
     "text": [
      "Params: max_depth=10, learning_rate=0.2, n_estimators=100, subsample=0.8, AUC=0.868126151324814\n"
     ]
    },
    {
     "name": "stderr",
     "output_type": "stream",
     "text": [
      "/Users/annina/miniconda3/envs/firsthandson/lib/python3.9/site-packages/xgboost/core.py:158: UserWarning: [22:29:29] WARNING: /Users/runner/work/xgboost/xgboost/src/learner.cc:740: \n",
      "Parameters: { \"use_label_encoder\" } are not used.\n",
      "\n",
      "  warnings.warn(smsg, UserWarning)\n"
     ]
    },
    {
     "name": "stdout",
     "output_type": "stream",
     "text": [
      "Params: max_depth=10, learning_rate=0.2, n_estimators=100, subsample=1.0, AUC=0.877636277831116\n"
     ]
    },
    {
     "name": "stderr",
     "output_type": "stream",
     "text": [
      "/Users/annina/miniconda3/envs/firsthandson/lib/python3.9/site-packages/xgboost/core.py:158: UserWarning: [22:29:29] WARNING: /Users/runner/work/xgboost/xgboost/src/learner.cc:740: \n",
      "Parameters: { \"use_label_encoder\" } are not used.\n",
      "\n",
      "  warnings.warn(smsg, UserWarning)\n"
     ]
    },
    {
     "name": "stdout",
     "output_type": "stream",
     "text": [
      "Params: max_depth=10, learning_rate=0.2, n_estimators=150, subsample=0.8, AUC=0.8620945037546939\n"
     ]
    },
    {
     "name": "stderr",
     "output_type": "stream",
     "text": [
      "/Users/annina/miniconda3/envs/firsthandson/lib/python3.9/site-packages/xgboost/core.py:158: UserWarning: [22:29:30] WARNING: /Users/runner/work/xgboost/xgboost/src/learner.cc:740: \n",
      "Parameters: { \"use_label_encoder\" } are not used.\n",
      "\n",
      "  warnings.warn(smsg, UserWarning)\n"
     ]
    },
    {
     "name": "stdout",
     "output_type": "stream",
     "text": [
      "Params: max_depth=10, learning_rate=0.2, n_estimators=150, subsample=1.0, AUC=0.8766705238436134\n"
     ]
    },
    {
     "name": "stderr",
     "output_type": "stream",
     "text": [
      "/Users/annina/miniconda3/envs/firsthandson/lib/python3.9/site-packages/xgboost/core.py:158: UserWarning: [22:29:30] WARNING: /Users/runner/work/xgboost/xgboost/src/learner.cc:740: \n",
      "Parameters: { \"use_label_encoder\" } are not used.\n",
      "\n",
      "  warnings.warn(smsg, UserWarning)\n"
     ]
    },
    {
     "name": "stdout",
     "output_type": "stream",
     "text": [
      "Params: max_depth=10, learning_rate=0.2, n_estimators=200, subsample=0.8, AUC=0.8570874724783298\n"
     ]
    },
    {
     "name": "stderr",
     "output_type": "stream",
     "text": [
      "/Users/annina/miniconda3/envs/firsthandson/lib/python3.9/site-packages/xgboost/core.py:158: UserWarning: [22:29:31] WARNING: /Users/runner/work/xgboost/xgboost/src/learner.cc:740: \n",
      "Parameters: { \"use_label_encoder\" } are not used.\n",
      "\n",
      "  warnings.warn(smsg, UserWarning)\n"
     ]
    },
    {
     "name": "stdout",
     "output_type": "stream",
     "text": [
      "Params: max_depth=10, learning_rate=0.2, n_estimators=200, subsample=1.0, AUC=0.8750677174125006\n",
      "Best Parameters: {'max_depth': 6, 'learning_rate': 0.2, 'n_estimators': 100, 'subsample': 1.0}\n",
      "Best AUC: 0.8826742858791516\n"
     ]
    }
   ],
   "source": [
    "# First data is split into training and validation from the adult_train or train_df (after feature importance)\n",
    "# X_reduced = Features after preprocessing\n",
    "# y = income\n",
    "# test_size=0.2 = 20% of the data is being used as validation set\n",
    "# random_state=42 = Hardcoded value to guarantee reproducability\n",
    "\n",
    "X_train, X_val, y_train, y_val = train_test_split(X_reduced, y, test_size=0.2, random_state=42)\n",
    "\n",
    "\n",
    "# The Grid-Parameter or Hyperparameter are defined with a couple of different values.\n",
    "# With itertools.product all kinds of combinations of those Hyperparameters are tested.\n",
    "# In sum there are 4 Hyperparameters, 1-3 has three parameters and 4. has two -> 4x3x3x3x2 = 72 combinations.\n",
    "# max_depth = Max depth of trees\n",
    "# learning_rate = Weight of each new tree\n",
    "# n_estimators = Number of trees -> iteration steps during boosting\n",
    "# subsample = Number or data which are randomly removed of each tree\n",
    "\n",
    "param_grid = {\n",
    "    \"max_depth\": [6, 8, 10],\n",
    "    \"learning_rate\": [0.01, 0.1, 0.2],\n",
    "    \"n_estimators\": [100, 150, 200],\n",
    "    \"subsample\": [0.8, 1.0],\n",
    "}\n",
    "\n",
    "param_combinations = list(product(\n",
    "    param_grid[\"max_depth\"],\n",
    "    param_grid[\"learning_rate\"],\n",
    "    param_grid[\"n_estimators\"],\n",
    "    param_grid[\"subsample\"]\n",
    "))\n",
    "\n",
    "\n",
    "\n",
    "# The best score is saved, means the highest AUC (area under the curve).\n",
    "# Best params is also saved to get the combination of Hyperparameters of the best score.\n",
    "best_score = 0\n",
    "best_params = None\n",
    "\n",
    "\n",
    "\n",
    "# The for-loop iterates over each combination of Hyperparameters.\n",
    "# XGBClassifier is the model and gets the config parameters of param_grid which was defined above.\n",
    "# model.predict_proba(X_val)[:, 1] returns the probability of a positive class, meaning if income is > 50K.\n",
    "# ROC_AUC_SCORE calculates the AUC of the model.\n",
    "# If AUC of the latest run has a better score than the values in best_score, the AUC values overwrite the best_score to show the best outcome.\n",
    "for max_depth, learning_rate, n_estimators, subsample in param_combinations:\n",
    "    model = XGBClassifier(\n",
    "        max_depth=max_depth,\n",
    "        learning_rate=learning_rate,\n",
    "        n_estimators=n_estimators,\n",
    "        subsample=subsample,\n",
    "        eval_metric=\"auc\",\n",
    "        use_label_encoder=False,\n",
    "    )\n",
    "    model.fit(X_train, y_train)\n",
    "    preds = model.predict_proba(X_val)[:, 1]\n",
    "    auc = roc_auc_score(y_val, preds)\n",
    "    \n",
    "    print(f\"Params: max_depth={max_depth}, learning_rate={learning_rate}, n_estimators={n_estimators}, subsample={subsample}, AUC={auc}\")\n",
    "    \n",
    "    if auc > best_score:\n",
    "        best_score = auc\n",
    "        best_params = {\n",
    "            \"max_depth\": max_depth,\n",
    "            \"learning_rate\": learning_rate,\n",
    "            \"n_estimators\": n_estimators,\n",
    "            \"subsample\": subsample,\n",
    "        }\n",
    "\n",
    "print(\"Best Parameters:\", best_params)\n",
    "print(\"Best AUC:\", best_score)\n"
   ]
  },
  {
   "cell_type": "code",
   "execution_count": 12,
   "id": "a17043fe-abff-48bb-bd74-b04a1b621fe8",
   "metadata": {},
   "outputs": [
    {
     "data": {
      "text/plain": [
       "['baseline_xgboost_model.pkl']"
      ]
     },
     "execution_count": 12,
     "metadata": {},
     "output_type": "execute_result"
    }
   ],
   "source": [
    "joblib.dump(best_params, \"baseline_xgboost_model.pkl\")"
   ]
  },
  {
   "cell_type": "code",
   "execution_count": null,
   "id": "40126b10-553d-461b-b617-527ee6180772",
   "metadata": {},
   "outputs": [],
   "source": [
    "X_train_full, X_test, y_train_full, y_test = train_test_split(X_reduced, y, test_size=0.2, random_state=42)\n",
    "\n",
    "X_train, X_val, y_train, y_val = train_test_split(X_train_full, y_train_full, test_size=0.2, random_state=42)\n",
    "\n",
    "print(\"Train Shape:\", X_train.shape, y_train.shape)\n",
    "print(\"Validation Shape:\", X_val.shape, y_val.shape)\n",
    "print(\"Test Shape:\", X_test.shape, y_test.shape)\n"
   ]
  },
  {
   "cell_type": "code",
   "execution_count": null,
   "id": "3e8452d1-1ae6-460a-b9ae-1fa2a115bc5e",
   "metadata": {},
   "outputs": [],
   "source": [
    "X_train_full, X_test, y_train_full, y_test = train_test_split(X_reduced, y, test_size=0.2, random_state=42)\n",
    "X_train, X_val, y_train, y_val = train_test_split(X_train_full, y_train_full, test_size=0.2, random_state=42)"
   ]
  },
  {
   "cell_type": "code",
   "execution_count": null,
   "id": "c95b9ed5-1393-4a31-89f4-8c66c0626dcb",
   "metadata": {},
   "outputs": [],
   "source": [
    "X_reduced_full = train_df[important_features]\n",
    "columns = X_reduced_full.columns\n"
   ]
  },
  {
   "cell_type": "code",
   "execution_count": null,
   "id": "9ba8363a-727a-4acd-adce-4fd340acb32d",
   "metadata": {},
   "outputs": [],
   "source": [
    "X_train = pd.DataFrame(X_train, columns=columns)\n",
    "X_val = pd.DataFrame(X_val, columns=columns)\n",
    "X_test = pd.DataFrame(X_test, columns=columns)\n"
   ]
  },
  {
   "cell_type": "code",
   "execution_count": null,
   "id": "d933f654-e5c4-4558-aa7d-7725d9dc8845",
   "metadata": {},
   "outputs": [],
   "source": [
    "type(X_train)\n",
    "type(X_val)\n",
    "type(X_test)"
   ]
  },
  {
   "cell_type": "code",
   "execution_count": null,
   "id": "68ba5ade-df45-4245-ae68-768e4ffca912",
   "metadata": {},
   "outputs": [],
   "source": [
    "# XGBoost expects a list of strings for feature_names, therefore we need to put them in a list() to get the feature names for the plot\n",
    "dtrain = xgb.DMatrix(X_train, label=y_train, feature_names=list(X_train.columns))\n",
    "dval = xgb.DMatrix(X_val, label=y_val, feature_names=list(X_val.columns))\n",
    "dtest = xgb.DMatrix(X_test, label=y_test, feature_names=list(X_test.columns))\n",
    "\n",
    "params = {\n",
    "    \"objective\": \"binary:logistic\",\n",
    "    \"eval_metric\": \"auc\",\n",
    "    \"max_depth\": 8,\n",
    "    \"learning_rate\": 0.1004,\n",
    "    \"subsample\": 1.0,\n",
    "}\n",
    "\n",
    "bst = xgb.train(\n",
    "    params,\n",
    "    dtrain,\n",
    "    num_boost_round=100,\n",
    "    evals=[(dtrain, \"train\"), (dval, \"val\")],\n",
    "    early_stopping_rounds=10\n",
    ")\n",
    "\n",
    "y_test_preds = bst.predict(dtest)\n",
    "auc_test = roc_auc_score(y_test, y_test_preds)\n",
    "print(\"Test AUC:\", auc_test)\n"
   ]
  },
  {
   "cell_type": "code",
   "execution_count": null,
   "id": "4252c2df-e254-4ef4-9024-adb11dc242f2",
   "metadata": {},
   "outputs": [],
   "source": [
    "xgb.plot_importance(bst, max_num_features=10)\n",
    "plt.show()\n"
   ]
  },
  {
   "cell_type": "markdown",
   "id": "8d299368-b652-4b9d-a732-9cc432100323",
   "metadata": {},
   "source": [
    "### Results of plotting Feature Importance:\n",
    "\n",
    "As shown in the plot, the following features are the most important for the model to determine if someone makes more or less than 50K per year:\n",
    "- **age**: Age often correlates with experience and income.\n",
    "- **hours-per-week**: More hours per week often seems to result in higher income.\n",
    "- **capital-gain (and capital-loss)**: Capital gains or losses are often strong indicators of the financial situation of an individual.\n",
    "- **education-num**: Higher education is a typical indicator of higher income and wealth.\n",
    "\n",
    "<hr>"
   ]
  },
  {
   "cell_type": "code",
   "execution_count": null,
   "id": "b92b4898-8207-4a79-92a5-0ce6d42e8266",
   "metadata": {},
   "outputs": [],
   "source": [
    "auc_test = roc_auc_score(y_test, y_test_preds)\n",
    "print(\"Test AUC:\", auc_test)"
   ]
  },
  {
   "cell_type": "markdown",
   "id": "6b94e7f6-b376-47cd-9217-27ea5c872558",
   "metadata": {},
   "source": [
    "<hr>\n",
    "\n",
    "### Documenting with WandB.ai"
   ]
  },
  {
   "cell_type": "code",
   "execution_count": null,
   "id": "9bb8dada-11b9-4e3a-9cf3-7ac0619605d4",
   "metadata": {},
   "outputs": [],
   "source": [
    "wandb.init(\n",
    "    project=\"global-model-xgboost\",\n",
    "    config={\n",
    "        \"objective\": \"binary:logistic\",\n",
    "        \"eval_metric\": \"auc\",\n",
    "        \"max_depth\": 8,\n",
    "        \"learning_rate\": 0.1004,\n",
    "        \"subsample\": 1.0,\n",
    "    }\n",
    ")\n",
    "\n",
    "config = wandb.config\n",
    "\n",

    "dtrain = xgb.DMatrix(X_train, label=y_train, feature_names=list(X_train.columns))\n",
    "dval = xgb.DMatrix(X_val, label=y_val, feature_names=list(X_val.columns))\n",
    "dtest = xgb.DMatrix(X_test, label=y_test, feature_names=list(X_test.columns))\n",
    "\n",

    "params = {\n",
    "    \"objective\": config.objective,\n",
    "    \"eval_metric\": config.eval_metric,\n",
    "    \"max_depth\": config.max_depth,\n",
    "    \"learning_rate\": config.learning_rate,\n",
    "    \"subsample\": config.subsample,\n",
    "}\n",
    "\n",
    "num_boost_round = 200\n",
    "early_stopping_rounds = 10\n",
    "\n",
    "bst = xgb.train(\n",
    "    params,\n",
    "    dtrain,\n",
    "    num_boost_round=num_boost_round,\n",
    "    evals=[(dtrain, \"train\"), (dval, \"val\")],\n",
    "    early_stopping_rounds=early_stopping_rounds,\n",
    "    verbose_eval=1\n",
    ")\n",
    "\n",
    "\n",

    "y_test_preds = bst.predict(dtest)\n",
    "auc_test = roc_auc_score(y_test, y_test_preds)\n",
    "print(\"Test AUC:\", auc_test)\n",
    "\n",

    "wandb.log({\"Test AUC\": auc_test})\n",
    "\n",
    "plt.savefig(\"feature_importance.png\")\n",
    "wandb.log({\"Feature Importance\": wandb.Image(\"feature_importance.png\")})\n",
    "\n",
    "bst.save_model(\"global_model.json\")\n",
    "wandb.save(\"global_model.json\")\n",
    "\n",

    "wandb.finish()\n"
   ]
  },
  {
   "cell_type": "code",
   "execution_count": null,
   "id": "1139170a-cb0d-403d-893d-1937ffe229d3",
   "metadata": {},
   "outputs": [],
   "source": []
  },
  {
   "cell_type": "code",
   "execution_count": null,
   "id": "b9456af1-1ae2-42a6-a195-8824689d1554",
   "metadata": {},
   "outputs": [],
   "source": []
  },
  {
   "cell_type": "code",
   "execution_count": null,
   "id": "a16381d5-4fcd-44c0-81d9-d3b8398f057d",
   "metadata": {},
   "outputs": [],
   "source": []
  }
 ],
 "metadata": {
  "kernelspec": {
   "display_name": "Python 3 (ipykernel)",
   "language": "python",
   "name": "python3"
  },
  "language_info": {
   "codemirror_mode": {
    "name": "ipython",
    "version": 3
   },
   "file_extension": ".py",
   "mimetype": "text/x-python",
   "name": "python",
   "nbconvert_exporter": "python",
   "pygments_lexer": "ipython3",
   "version": "3.9.21"
  }
 },
 "nbformat": 4,
 "nbformat_minor": 5
}
