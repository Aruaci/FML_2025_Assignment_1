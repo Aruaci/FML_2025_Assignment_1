{
 "cells": [
  {
   "cell_type": "code",
   "execution_count": 19,
   "id": "6dd422e0-8bf0-40af-97ca-393dd20c09d0",
   "metadata": {},
   "outputs": [],
   "source": [
    "import pandas as pd\n",
    "import numpy as np\n",
    "\n",
    "import matplotlib.pyplot as plt\n",
    "import seaborn as sns\n",
    "\n",
    "import xgboost as xgb\n",
    "from xgboost import XGBClassifier\n",
    "\n",
    "from sklearn.model_selection import train_test_split\n",
    "from sklearn.metrics import roc_auc_score\n",
    "\n",
    "import wandb\n",
    "from wandb.sklearn import plot_precision_recall, plot_feature_importances\n",
    "from wandb.sklearn import plot_class_proportions, plot_learning_curve, plot_roc\n",
    "\n",
    "import warnings \n",
    "warnings.filterwarnings('ignore')"
   ]
  },
  {
   "cell_type": "code",
   "execution_count": 20,
   "id": "0bb07d28-9e5c-4bb6-aab9-026496c7a1ad",
   "metadata": {},
   "outputs": [],
   "source": [
    "train_df = pd.read_csv(\"../adult_train.csv\")\n",
    "test_df = pd.read_csv(\"../adult_test.csv\")\n",
    "\n",
    "train_df.replace('?', pd.NA, inplace=True)\n",
    "test_df.replace('?', pd.NA, inplace=True)\n",
    "\n",
    "X = train_df.drop(\"income\", axis=1)\n",
    "y = train_df[\"income\"]\n",
    "\n",
    "X_train, X_val, y_train, y_val = train_test_split(X, y, test_size=0.2, random_state=42)"
   ]
  },
  {
   "cell_type": "code",
   "execution_count": 21,
   "id": "467da1ae-1d38-46df-8470-fb135f8aa3d4",
   "metadata": {},
   "outputs": [],
   "source": [
    "sweep_config = {\n",
    "    \"method\": \"bayes\",\n",
    "    \"metric\": {\"goal\": \"maximize\", \"name\": \"Validation AUC\"},\n",
    "    \"parameters\": {\n",
    "        \"max_depth\": {\"values\": [6, 8, 10]},\n",
    "        \"learning_rate\": {\"min\": 0.01, \"max\": 0.2},\n",
    "        \"n_estimators\": {\"values\": [100, 150, 200]},\n",
    "        \"subsample\": {\"values\": [0.8, 1.0]}\n",
    "    }\n",
    "}\n"
   ]
  },
  {
   "cell_type": "code",
   "execution_count": 22,
   "id": "cded5ff6-09ed-435b-955f-313761a885b5",
   "metadata": {},
   "outputs": [
    {
     "name": "stdout",
     "output_type": "stream",
     "text": [
      "Create sweep with ID: muykvo5n\n",
      "Sweep URL: https://wandb.ai/annina_ecker-fh-st-p-lten/hyperparameter-sweep/sweeps/muykvo5n\n"
     ]
    }
   ],
   "source": [
    "sweep_id = wandb.sweep(sweep_config, project=\"hyperparameter-sweep\")"
   ]
  },
  {
   "cell_type": "code",
   "execution_count": 23,
   "id": "d6a84cf3-2de2-4e13-b705-c6461e3b7bfa",
   "metadata": {},
   "outputs": [],
   "source": [
    "def train():\n",
    "    wandb.init()\n",
    "    config = wandb.config\n",
    "\n",
    "    dtrain = xgb.DMatrix(X_train, label=y_train)\n",
    "    dval = xgb.DMatrix(X_val, label=y_val)\n",
    "\n",
    "    params = {\n",
    "        \"objective\": \"binary:logistic\",\n",
    "        \"eval_metric\": \"auc\",\n",
    "        \"max_depth\": config.max_depth,\n",
    "        \"learning_rate\": config.learning_rate,\n",
    "        \"subsample\": config.subsample\n",
    "    }\n",
    "\n",
    "    bst = xgb.train(\n",
    "        params,\n",
    "        dtrain,\n",
    "        num_boost_round=config.n_estimators,\n",
    "        evals=[(dtrain, \"train\"), (dval, \"val\")],\n",
    "        early_stopping_rounds=10,\n",
    "        verbose_eval=0,\n",
    "    )\n",
    "\n",
    "    y_val_preds = bst.predict(dval)\n",
    "    auc_val = roc_auc_score(y_val, y_val_preds)\n",
    "\n",
    "    wandb.log({\"Validation AUC\": auc_val})\n",
    "\n",
    "    bst.save_model(f\"model_{wandb.run.name}.json\")\n",
    "\n",
    "    wandb.finish()\n"
   ]
  },
  {
   "cell_type": "code",
   "execution_count": 24,
   "id": "b711339e-06ef-40fd-a6dc-6265f681dd07",
   "metadata": {},
   "outputs": [
    {
     "name": "stderr",
     "output_type": "stream",
     "text": [
      "\u001b[34m\u001b[1mwandb\u001b[0m: Agent Starting Run: 3pw8rrqw with config:\n",
      "\u001b[34m\u001b[1mwandb\u001b[0m: \tlearning_rate: 0.07560684031605631\n",
      "\u001b[34m\u001b[1mwandb\u001b[0m: \tmax_depth: 10\n",
      "\u001b[34m\u001b[1mwandb\u001b[0m: \tn_estimators: 150\n",
      "\u001b[34m\u001b[1mwandb\u001b[0m: \tsubsample: 1\n"
     ]
    },
    {
     "data": {
      "text/html": [
       "Tracking run with wandb version 0.19.2"
      ],
      "text/plain": [
       "<IPython.core.display.HTML object>"
      ]
     },
     "metadata": {},
     "output_type": "display_data"
    },
    {
     "data": {
      "text/html": [
       "Run data is saved locally in <code>/Users/annina/Documents/FH/FHStPoelten/FML/assignment1/assignment_1/jupyter_notebooks/wandb/run-20250113_211458-3pw8rrqw</code>"
      ],
      "text/plain": [
       "<IPython.core.display.HTML object>"
      ]
     },
     "metadata": {},
     "output_type": "display_data"
    },
    {
     "data": {
      "text/html": [
       "Syncing run <strong><a href='https://wandb.ai/annina_ecker-fh-st-p-lten/hyperparameter-sweep/runs/3pw8rrqw' target=\"_blank\">sparkling-sweep-1</a></strong> to <a href='https://wandb.ai/annina_ecker-fh-st-p-lten/hyperparameter-sweep' target=\"_blank\">Weights & Biases</a> (<a href='https://wandb.me/developer-guide' target=\"_blank\">docs</a>)<br>Sweep page: <a href='https://wandb.ai/annina_ecker-fh-st-p-lten/hyperparameter-sweep/sweeps/muykvo5n' target=\"_blank\">https://wandb.ai/annina_ecker-fh-st-p-lten/hyperparameter-sweep/sweeps/muykvo5n</a>"
      ],
      "text/plain": [
       "<IPython.core.display.HTML object>"
      ]
     },
     "metadata": {},
     "output_type": "display_data"
    },
    {
     "data": {
      "text/html": [
       " View project at <a href='https://wandb.ai/annina_ecker-fh-st-p-lten/hyperparameter-sweep' target=\"_blank\">https://wandb.ai/annina_ecker-fh-st-p-lten/hyperparameter-sweep</a>"
      ],
      "text/plain": [
       "<IPython.core.display.HTML object>"
      ]
     },
     "metadata": {},
     "output_type": "display_data"
    },
    {
     "data": {
      "text/html": [
       " View sweep at <a href='https://wandb.ai/annina_ecker-fh-st-p-lten/hyperparameter-sweep/sweeps/muykvo5n' target=\"_blank\">https://wandb.ai/annina_ecker-fh-st-p-lten/hyperparameter-sweep/sweeps/muykvo5n</a>"
      ],
      "text/plain": [
       "<IPython.core.display.HTML object>"
      ]
     },
     "metadata": {},
     "output_type": "display_data"
    },
    {
     "data": {
      "text/html": [
       " View run at <a href='https://wandb.ai/annina_ecker-fh-st-p-lten/hyperparameter-sweep/runs/3pw8rrqw' target=\"_blank\">https://wandb.ai/annina_ecker-fh-st-p-lten/hyperparameter-sweep/runs/3pw8rrqw</a>"
      ],
      "text/plain": [
       "<IPython.core.display.HTML object>"
      ]
     },
     "metadata": {},
     "output_type": "display_data"
    },
    {
     "data": {
      "text/html": [],
      "text/plain": [
       "<IPython.core.display.HTML object>"
      ]
     },
     "metadata": {},
     "output_type": "display_data"
    },
    {
     "data": {
      "text/html": [
       "<br>    <style><br>        .wandb-row {<br>            display: flex;<br>            flex-direction: row;<br>            flex-wrap: wrap;<br>            justify-content: flex-start;<br>            width: 100%;<br>        }<br>        .wandb-col {<br>            display: flex;<br>            flex-direction: column;<br>            flex-basis: 100%;<br>            flex: 1;<br>            padding: 10px;<br>        }<br>    </style><br><div class=\"wandb-row\"><div class=\"wandb-col\"><h3>Run history:</h3><br/><table class=\"wandb\"><tr><td>Validation AUC</td><td>▁</td></tr></table><br/></div><div class=\"wandb-col\"><h3>Run summary:</h3><br/><table class=\"wandb\"><tr><td>Validation AUC</td><td>0.929</td></tr></table><br/></div></div>"
      ],
      "text/plain": [
       "<IPython.core.display.HTML object>"
      ]
     },
     "metadata": {},
     "output_type": "display_data"
    },
    {
     "data": {
      "text/html": [
       " View run <strong style=\"color:#cdcd00\">sparkling-sweep-1</strong> at: <a href='https://wandb.ai/annina_ecker-fh-st-p-lten/hyperparameter-sweep/runs/3pw8rrqw' target=\"_blank\">https://wandb.ai/annina_ecker-fh-st-p-lten/hyperparameter-sweep/runs/3pw8rrqw</a><br> View project at: <a href='https://wandb.ai/annina_ecker-fh-st-p-lten/hyperparameter-sweep' target=\"_blank\">https://wandb.ai/annina_ecker-fh-st-p-lten/hyperparameter-sweep</a><br>Synced 5 W&B file(s), 0 media file(s), 0 artifact file(s) and 0 other file(s)"
      ],
      "text/plain": [
       "<IPython.core.display.HTML object>"
      ]
     },
     "metadata": {},
     "output_type": "display_data"
    },
    {
     "data": {
      "text/html": [
       "Find logs at: <code>./wandb/run-20250113_211458-3pw8rrqw/logs</code>"
      ],
      "text/plain": [
       "<IPython.core.display.HTML object>"
      ]
     },
     "metadata": {},
     "output_type": "display_data"
    },
    {
     "name": "stderr",
     "output_type": "stream",
     "text": [
      "\u001b[34m\u001b[1mwandb\u001b[0m: Agent Starting Run: stpyfl1k with config:\n",
      "\u001b[34m\u001b[1mwandb\u001b[0m: \tlearning_rate: 0.17194710472386168\n",
      "\u001b[34m\u001b[1mwandb\u001b[0m: \tmax_depth: 6\n",
      "\u001b[34m\u001b[1mwandb\u001b[0m: \tn_estimators: 100\n",
      "\u001b[34m\u001b[1mwandb\u001b[0m: \tsubsample: 1\n"
     ]
    },
    {
     "data": {
      "text/html": [
       "Tracking run with wandb version 0.19.2"
      ],
      "text/plain": [
       "<IPython.core.display.HTML object>"
      ]
     },
     "metadata": {},
     "output_type": "display_data"
    },
    {
     "data": {
      "text/html": [
       "Run data is saved locally in <code>/Users/annina/Documents/FH/FHStPoelten/FML/assignment1/assignment_1/jupyter_notebooks/wandb/run-20250113_211503-stpyfl1k</code>"
      ],
      "text/plain": [
       "<IPython.core.display.HTML object>"
      ]
     },
     "metadata": {},
     "output_type": "display_data"
    },
    {
     "data": {
      "text/html": [
       "Syncing run <strong><a href='https://wandb.ai/annina_ecker-fh-st-p-lten/hyperparameter-sweep/runs/stpyfl1k' target=\"_blank\">radiant-sweep-2</a></strong> to <a href='https://wandb.ai/annina_ecker-fh-st-p-lten/hyperparameter-sweep' target=\"_blank\">Weights & Biases</a> (<a href='https://wandb.me/developer-guide' target=\"_blank\">docs</a>)<br>Sweep page: <a href='https://wandb.ai/annina_ecker-fh-st-p-lten/hyperparameter-sweep/sweeps/muykvo5n' target=\"_blank\">https://wandb.ai/annina_ecker-fh-st-p-lten/hyperparameter-sweep/sweeps/muykvo5n</a>"
      ],
      "text/plain": [
       "<IPython.core.display.HTML object>"
      ]
     },
     "metadata": {},
     "output_type": "display_data"
    },
    {
     "data": {
      "text/html": [
       " View project at <a href='https://wandb.ai/annina_ecker-fh-st-p-lten/hyperparameter-sweep' target=\"_blank\">https://wandb.ai/annina_ecker-fh-st-p-lten/hyperparameter-sweep</a>"
      ],
      "text/plain": [
       "<IPython.core.display.HTML object>"
      ]
     },
     "metadata": {},
     "output_type": "display_data"
    },
    {
     "data": {
      "text/html": [
       " View sweep at <a href='https://wandb.ai/annina_ecker-fh-st-p-lten/hyperparameter-sweep/sweeps/muykvo5n' target=\"_blank\">https://wandb.ai/annina_ecker-fh-st-p-lten/hyperparameter-sweep/sweeps/muykvo5n</a>"
      ],
      "text/plain": [
       "<IPython.core.display.HTML object>"
      ]
     },
     "metadata": {},
     "output_type": "display_data"
    },
    {
     "data": {
      "text/html": [
       " View run at <a href='https://wandb.ai/annina_ecker-fh-st-p-lten/hyperparameter-sweep/runs/stpyfl1k' target=\"_blank\">https://wandb.ai/annina_ecker-fh-st-p-lten/hyperparameter-sweep/runs/stpyfl1k</a>"
      ],
      "text/plain": [
       "<IPython.core.display.HTML object>"
      ]
     },
     "metadata": {},
     "output_type": "display_data"
    },
    {
     "data": {
      "text/html": [],
      "text/plain": [
       "<IPython.core.display.HTML object>"
      ]
     },
     "metadata": {},
     "output_type": "display_data"
    },
    {
     "data": {
      "text/html": [
       "<br>    <style><br>        .wandb-row {<br>            display: flex;<br>            flex-direction: row;<br>            flex-wrap: wrap;<br>            justify-content: flex-start;<br>            width: 100%;<br>        }<br>        .wandb-col {<br>            display: flex;<br>            flex-direction: column;<br>            flex-basis: 100%;<br>            flex: 1;<br>            padding: 10px;<br>        }<br>    </style><br><div class=\"wandb-row\"><div class=\"wandb-col\"><h3>Run history:</h3><br/><table class=\"wandb\"><tr><td>Validation AUC</td><td>▁</td></tr></table><br/></div><div class=\"wandb-col\"><h3>Run summary:</h3><br/><table class=\"wandb\"><tr><td>Validation AUC</td><td>0.93147</td></tr></table><br/></div></div>"
      ],
      "text/plain": [
       "<IPython.core.display.HTML object>"
      ]
     },
     "metadata": {},
     "output_type": "display_data"
    },
    {
     "data": {
      "text/html": [
       " View run <strong style=\"color:#cdcd00\">radiant-sweep-2</strong> at: <a href='https://wandb.ai/annina_ecker-fh-st-p-lten/hyperparameter-sweep/runs/stpyfl1k' target=\"_blank\">https://wandb.ai/annina_ecker-fh-st-p-lten/hyperparameter-sweep/runs/stpyfl1k</a><br> View project at: <a href='https://wandb.ai/annina_ecker-fh-st-p-lten/hyperparameter-sweep' target=\"_blank\">https://wandb.ai/annina_ecker-fh-st-p-lten/hyperparameter-sweep</a><br>Synced 5 W&B file(s), 0 media file(s), 0 artifact file(s) and 0 other file(s)"
      ],
      "text/plain": [
       "<IPython.core.display.HTML object>"
      ]
     },
     "metadata": {},
     "output_type": "display_data"
    },
    {
     "data": {
      "text/html": [
       "Find logs at: <code>./wandb/run-20250113_211503-stpyfl1k/logs</code>"
      ],
      "text/plain": [
       "<IPython.core.display.HTML object>"
      ]
     },
     "metadata": {},
     "output_type": "display_data"
    },
    {
     "name": "stderr",
     "output_type": "stream",
     "text": [
      "\u001b[34m\u001b[1mwandb\u001b[0m: Agent Starting Run: ytxccn5x with config:\n",
      "\u001b[34m\u001b[1mwandb\u001b[0m: \tlearning_rate: 0.1003989224511436\n",
      "\u001b[34m\u001b[1mwandb\u001b[0m: \tmax_depth: 8\n",
      "\u001b[34m\u001b[1mwandb\u001b[0m: \tn_estimators: 200\n",
      "\u001b[34m\u001b[1mwandb\u001b[0m: \tsubsample: 1\n"
     ]
    },
    {
     "data": {
      "text/html": [
       "Tracking run with wandb version 0.19.2"
      ],
      "text/plain": [
       "<IPython.core.display.HTML object>"
      ]
     },
     "metadata": {},
     "output_type": "display_data"
    },
    {
     "data": {
      "text/html": [
       "Run data is saved locally in <code>/Users/annina/Documents/FH/FHStPoelten/FML/assignment1/assignment_1/jupyter_notebooks/wandb/run-20250113_211508-ytxccn5x</code>"
      ],
      "text/plain": [
       "<IPython.core.display.HTML object>"
      ]
     },
     "metadata": {},
     "output_type": "display_data"
    },
    {
     "data": {
      "text/html": [
       "Syncing run <strong><a href='https://wandb.ai/annina_ecker-fh-st-p-lten/hyperparameter-sweep/runs/ytxccn5x' target=\"_blank\">gallant-sweep-3</a></strong> to <a href='https://wandb.ai/annina_ecker-fh-st-p-lten/hyperparameter-sweep' target=\"_blank\">Weights & Biases</a> (<a href='https://wandb.me/developer-guide' target=\"_blank\">docs</a>)<br>Sweep page: <a href='https://wandb.ai/annina_ecker-fh-st-p-lten/hyperparameter-sweep/sweeps/muykvo5n' target=\"_blank\">https://wandb.ai/annina_ecker-fh-st-p-lten/hyperparameter-sweep/sweeps/muykvo5n</a>"
      ],
      "text/plain": [
       "<IPython.core.display.HTML object>"
      ]
     },
     "metadata": {},
     "output_type": "display_data"
    },
    {
     "data": {
      "text/html": [
       " View project at <a href='https://wandb.ai/annina_ecker-fh-st-p-lten/hyperparameter-sweep' target=\"_blank\">https://wandb.ai/annina_ecker-fh-st-p-lten/hyperparameter-sweep</a>"
      ],
      "text/plain": [
       "<IPython.core.display.HTML object>"
      ]
     },
     "metadata": {},
     "output_type": "display_data"
    },
    {
     "data": {
      "text/html": [
       " View sweep at <a href='https://wandb.ai/annina_ecker-fh-st-p-lten/hyperparameter-sweep/sweeps/muykvo5n' target=\"_blank\">https://wandb.ai/annina_ecker-fh-st-p-lten/hyperparameter-sweep/sweeps/muykvo5n</a>"
      ],
      "text/plain": [
       "<IPython.core.display.HTML object>"
      ]
     },
     "metadata": {},
     "output_type": "display_data"
    },
    {
     "data": {
      "text/html": [
       " View run at <a href='https://wandb.ai/annina_ecker-fh-st-p-lten/hyperparameter-sweep/runs/ytxccn5x' target=\"_blank\">https://wandb.ai/annina_ecker-fh-st-p-lten/hyperparameter-sweep/runs/ytxccn5x</a>"
      ],
      "text/plain": [
       "<IPython.core.display.HTML object>"
      ]
     },
     "metadata": {},
     "output_type": "display_data"
    },
    {
     "data": {
      "text/html": [],
      "text/plain": [
       "<IPython.core.display.HTML object>"
      ]
     },
     "metadata": {},
     "output_type": "display_data"
    },
    {
     "data": {
      "text/html": [
       "<br>    <style><br>        .wandb-row {<br>            display: flex;<br>            flex-direction: row;<br>            flex-wrap: wrap;<br>            justify-content: flex-start;<br>            width: 100%;<br>        }<br>        .wandb-col {<br>            display: flex;<br>            flex-direction: column;<br>            flex-basis: 100%;<br>            flex: 1;<br>            padding: 10px;<br>        }<br>    </style><br><div class=\"wandb-row\"><div class=\"wandb-col\"><h3>Run history:</h3><br/><table class=\"wandb\"><tr><td>Validation AUC</td><td>▁</td></tr></table><br/></div><div class=\"wandb-col\"><h3>Run summary:</h3><br/><table class=\"wandb\"><tr><td>Validation AUC</td><td>0.93084</td></tr></table><br/></div></div>"
      ],
      "text/plain": [
       "<IPython.core.display.HTML object>"
      ]
     },
     "metadata": {},
     "output_type": "display_data"
    },
    {
     "data": {
      "text/html": [
       " View run <strong style=\"color:#cdcd00\">gallant-sweep-3</strong> at: <a href='https://wandb.ai/annina_ecker-fh-st-p-lten/hyperparameter-sweep/runs/ytxccn5x' target=\"_blank\">https://wandb.ai/annina_ecker-fh-st-p-lten/hyperparameter-sweep/runs/ytxccn5x</a><br> View project at: <a href='https://wandb.ai/annina_ecker-fh-st-p-lten/hyperparameter-sweep' target=\"_blank\">https://wandb.ai/annina_ecker-fh-st-p-lten/hyperparameter-sweep</a><br>Synced 5 W&B file(s), 0 media file(s), 0 artifact file(s) and 0 other file(s)"
      ],
      "text/plain": [
       "<IPython.core.display.HTML object>"
      ]
     },
     "metadata": {},
     "output_type": "display_data"
    },
    {
     "data": {
      "text/html": [
       "Find logs at: <code>./wandb/run-20250113_211508-ytxccn5x/logs</code>"
      ],
      "text/plain": [
       "<IPython.core.display.HTML object>"
      ]
     },
     "metadata": {},
     "output_type": "display_data"
    },
    {
     "name": "stderr",
     "output_type": "stream",
     "text": [
      "\u001b[34m\u001b[1mwandb\u001b[0m: Agent Starting Run: okz8dvsx with config:\n",
      "\u001b[34m\u001b[1mwandb\u001b[0m: \tlearning_rate: 0.0503260092337021\n",
      "\u001b[34m\u001b[1mwandb\u001b[0m: \tmax_depth: 10\n",
      "\u001b[34m\u001b[1mwandb\u001b[0m: \tn_estimators: 200\n",
      "\u001b[34m\u001b[1mwandb\u001b[0m: \tsubsample: 1\n"
     ]
    },
    {
     "data": {
      "text/html": [
       "Tracking run with wandb version 0.19.2"
      ],
      "text/plain": [
       "<IPython.core.display.HTML object>"
      ]
     },
     "metadata": {},
     "output_type": "display_data"
    },
    {
     "data": {
      "text/html": [
       "Run data is saved locally in <code>/Users/annina/Documents/FH/FHStPoelten/FML/assignment1/assignment_1/jupyter_notebooks/wandb/run-20250113_211514-okz8dvsx</code>"
      ],
      "text/plain": [
       "<IPython.core.display.HTML object>"
      ]
     },
     "metadata": {},
     "output_type": "display_data"
    },
    {
     "data": {
      "text/html": [
       "Syncing run <strong><a href='https://wandb.ai/annina_ecker-fh-st-p-lten/hyperparameter-sweep/runs/okz8dvsx' target=\"_blank\">devoted-sweep-4</a></strong> to <a href='https://wandb.ai/annina_ecker-fh-st-p-lten/hyperparameter-sweep' target=\"_blank\">Weights & Biases</a> (<a href='https://wandb.me/developer-guide' target=\"_blank\">docs</a>)<br>Sweep page: <a href='https://wandb.ai/annina_ecker-fh-st-p-lten/hyperparameter-sweep/sweeps/muykvo5n' target=\"_blank\">https://wandb.ai/annina_ecker-fh-st-p-lten/hyperparameter-sweep/sweeps/muykvo5n</a>"
      ],
      "text/plain": [
       "<IPython.core.display.HTML object>"
      ]
     },
     "metadata": {},
     "output_type": "display_data"
    },
    {
     "data": {
      "text/html": [
       " View project at <a href='https://wandb.ai/annina_ecker-fh-st-p-lten/hyperparameter-sweep' target=\"_blank\">https://wandb.ai/annina_ecker-fh-st-p-lten/hyperparameter-sweep</a>"
      ],
      "text/plain": [
       "<IPython.core.display.HTML object>"
      ]
     },
     "metadata": {},
     "output_type": "display_data"
    },
    {
     "data": {
      "text/html": [
       " View sweep at <a href='https://wandb.ai/annina_ecker-fh-st-p-lten/hyperparameter-sweep/sweeps/muykvo5n' target=\"_blank\">https://wandb.ai/annina_ecker-fh-st-p-lten/hyperparameter-sweep/sweeps/muykvo5n</a>"
      ],
      "text/plain": [
       "<IPython.core.display.HTML object>"
      ]
     },
     "metadata": {},
     "output_type": "display_data"
    },
    {
     "data": {
      "text/html": [
       " View run at <a href='https://wandb.ai/annina_ecker-fh-st-p-lten/hyperparameter-sweep/runs/okz8dvsx' target=\"_blank\">https://wandb.ai/annina_ecker-fh-st-p-lten/hyperparameter-sweep/runs/okz8dvsx</a>"
      ],
      "text/plain": [
       "<IPython.core.display.HTML object>"
      ]
     },
     "metadata": {},
     "output_type": "display_data"
    },
    {
     "data": {
      "text/html": [],
      "text/plain": [
       "<IPython.core.display.HTML object>"
      ]
     },
     "metadata": {},
     "output_type": "display_data"
    },
    {
     "data": {
      "text/html": [
       "<br>    <style><br>        .wandb-row {<br>            display: flex;<br>            flex-direction: row;<br>            flex-wrap: wrap;<br>            justify-content: flex-start;<br>            width: 100%;<br>        }<br>        .wandb-col {<br>            display: flex;<br>            flex-direction: column;<br>            flex-basis: 100%;<br>            flex: 1;<br>            padding: 10px;<br>        }<br>    </style><br><div class=\"wandb-row\"><div class=\"wandb-col\"><h3>Run history:</h3><br/><table class=\"wandb\"><tr><td>Validation AUC</td><td>▁</td></tr></table><br/></div><div class=\"wandb-col\"><h3>Run summary:</h3><br/><table class=\"wandb\"><tr><td>Validation AUC</td><td>0.92926</td></tr></table><br/></div></div>"
      ],
      "text/plain": [
       "<IPython.core.display.HTML object>"
      ]
     },
     "metadata": {},
     "output_type": "display_data"
    },
    {
     "data": {
      "text/html": [
       " View run <strong style=\"color:#cdcd00\">devoted-sweep-4</strong> at: <a href='https://wandb.ai/annina_ecker-fh-st-p-lten/hyperparameter-sweep/runs/okz8dvsx' target=\"_blank\">https://wandb.ai/annina_ecker-fh-st-p-lten/hyperparameter-sweep/runs/okz8dvsx</a><br> View project at: <a href='https://wandb.ai/annina_ecker-fh-st-p-lten/hyperparameter-sweep' target=\"_blank\">https://wandb.ai/annina_ecker-fh-st-p-lten/hyperparameter-sweep</a><br>Synced 5 W&B file(s), 0 media file(s), 0 artifact file(s) and 0 other file(s)"
      ],
      "text/plain": [
       "<IPython.core.display.HTML object>"
      ]
     },
     "metadata": {},
     "output_type": "display_data"
    },
    {
     "data": {
      "text/html": [
       "Find logs at: <code>./wandb/run-20250113_211514-okz8dvsx/logs</code>"
      ],
      "text/plain": [
       "<IPython.core.display.HTML object>"
      ]
     },
     "metadata": {},
     "output_type": "display_data"
    },
    {
     "name": "stderr",
     "output_type": "stream",
     "text": [
      "\u001b[34m\u001b[1mwandb\u001b[0m: Agent Starting Run: 6nyqe8ix with config:\n",
      "\u001b[34m\u001b[1mwandb\u001b[0m: \tlearning_rate: 0.16257305590854543\n",
      "\u001b[34m\u001b[1mwandb\u001b[0m: \tmax_depth: 6\n",
      "\u001b[34m\u001b[1mwandb\u001b[0m: \tn_estimators: 100\n",
      "\u001b[34m\u001b[1mwandb\u001b[0m: \tsubsample: 1\n"
     ]
    },
    {
     "data": {
      "text/html": [
       "Tracking run with wandb version 0.19.2"
      ],
      "text/plain": [
       "<IPython.core.display.HTML object>"
      ]
     },
     "metadata": {},
     "output_type": "display_data"
    },
    {
     "data": {
      "text/html": [
       "Run data is saved locally in <code>/Users/annina/Documents/FH/FHStPoelten/FML/assignment1/assignment_1/jupyter_notebooks/wandb/run-20250113_211519-6nyqe8ix</code>"
      ],
      "text/plain": [
       "<IPython.core.display.HTML object>"
      ]
     },
     "metadata": {},
     "output_type": "display_data"
    },
    {
     "data": {
      "text/html": [
       "Syncing run <strong><a href='https://wandb.ai/annina_ecker-fh-st-p-lten/hyperparameter-sweep/runs/6nyqe8ix' target=\"_blank\">wobbly-sweep-5</a></strong> to <a href='https://wandb.ai/annina_ecker-fh-st-p-lten/hyperparameter-sweep' target=\"_blank\">Weights & Biases</a> (<a href='https://wandb.me/developer-guide' target=\"_blank\">docs</a>)<br>Sweep page: <a href='https://wandb.ai/annina_ecker-fh-st-p-lten/hyperparameter-sweep/sweeps/muykvo5n' target=\"_blank\">https://wandb.ai/annina_ecker-fh-st-p-lten/hyperparameter-sweep/sweeps/muykvo5n</a>"
      ],
      "text/plain": [
       "<IPython.core.display.HTML object>"
      ]
     },
     "metadata": {},
     "output_type": "display_data"
    },
    {
     "data": {
      "text/html": [
       " View project at <a href='https://wandb.ai/annina_ecker-fh-st-p-lten/hyperparameter-sweep' target=\"_blank\">https://wandb.ai/annina_ecker-fh-st-p-lten/hyperparameter-sweep</a>"
      ],
      "text/plain": [
       "<IPython.core.display.HTML object>"
      ]
     },
     "metadata": {},
     "output_type": "display_data"
    },
    {
     "data": {
      "text/html": [
       " View sweep at <a href='https://wandb.ai/annina_ecker-fh-st-p-lten/hyperparameter-sweep/sweeps/muykvo5n' target=\"_blank\">https://wandb.ai/annina_ecker-fh-st-p-lten/hyperparameter-sweep/sweeps/muykvo5n</a>"
      ],
      "text/plain": [
       "<IPython.core.display.HTML object>"
      ]
     },
     "metadata": {},
     "output_type": "display_data"
    },
    {
     "data": {
      "text/html": [
       " View run at <a href='https://wandb.ai/annina_ecker-fh-st-p-lten/hyperparameter-sweep/runs/6nyqe8ix' target=\"_blank\">https://wandb.ai/annina_ecker-fh-st-p-lten/hyperparameter-sweep/runs/6nyqe8ix</a>"
      ],
      "text/plain": [
       "<IPython.core.display.HTML object>"
      ]
     },
     "metadata": {},
     "output_type": "display_data"
    },
    {
     "data": {
      "text/html": [],
      "text/plain": [
       "<IPython.core.display.HTML object>"
      ]
     },
     "metadata": {},
     "output_type": "display_data"
    },
    {
     "data": {
      "text/html": [
       "<br>    <style><br>        .wandb-row {<br>            display: flex;<br>            flex-direction: row;<br>            flex-wrap: wrap;<br>            justify-content: flex-start;<br>            width: 100%;<br>        }<br>        .wandb-col {<br>            display: flex;<br>            flex-direction: column;<br>            flex-basis: 100%;<br>            flex: 1;<br>            padding: 10px;<br>        }<br>    </style><br><div class=\"wandb-row\"><div class=\"wandb-col\"><h3>Run history:</h3><br/><table class=\"wandb\"><tr><td>Validation AUC</td><td>▁</td></tr></table><br/></div><div class=\"wandb-col\"><h3>Run summary:</h3><br/><table class=\"wandb\"><tr><td>Validation AUC</td><td>0.93145</td></tr></table><br/></div></div>"
      ],
      "text/plain": [
       "<IPython.core.display.HTML object>"
      ]
     },
     "metadata": {},
     "output_type": "display_data"
    },
    {
     "data": {
      "text/html": [
       " View run <strong style=\"color:#cdcd00\">wobbly-sweep-5</strong> at: <a href='https://wandb.ai/annina_ecker-fh-st-p-lten/hyperparameter-sweep/runs/6nyqe8ix' target=\"_blank\">https://wandb.ai/annina_ecker-fh-st-p-lten/hyperparameter-sweep/runs/6nyqe8ix</a><br> View project at: <a href='https://wandb.ai/annina_ecker-fh-st-p-lten/hyperparameter-sweep' target=\"_blank\">https://wandb.ai/annina_ecker-fh-st-p-lten/hyperparameter-sweep</a><br>Synced 5 W&B file(s), 0 media file(s), 0 artifact file(s) and 0 other file(s)"
      ],
      "text/plain": [
       "<IPython.core.display.HTML object>"
      ]
     },
     "metadata": {},
     "output_type": "display_data"
    },
    {
     "data": {
      "text/html": [
       "Find logs at: <code>./wandb/run-20250113_211519-6nyqe8ix/logs</code>"
      ],
      "text/plain": [
       "<IPython.core.display.HTML object>"
      ]
     },
     "metadata": {},
     "output_type": "display_data"
    },
    {
     "name": "stderr",
     "output_type": "stream",
     "text": [
      "\u001b[34m\u001b[1mwandb\u001b[0m: Agent Starting Run: okz7twbp with config:\n",
      "\u001b[34m\u001b[1mwandb\u001b[0m: \tlearning_rate: 0.15911958274268503\n",
      "\u001b[34m\u001b[1mwandb\u001b[0m: \tmax_depth: 6\n",
      "\u001b[34m\u001b[1mwandb\u001b[0m: \tn_estimators: 200\n",
      "\u001b[34m\u001b[1mwandb\u001b[0m: \tsubsample: 1\n"
     ]
    },
    {
     "data": {
      "text/html": [
       "Tracking run with wandb version 0.19.2"
      ],
      "text/plain": [
       "<IPython.core.display.HTML object>"
      ]
     },
     "metadata": {},
     "output_type": "display_data"
    },
    {
     "data": {
      "text/html": [
       "Run data is saved locally in <code>/Users/annina/Documents/FH/FHStPoelten/FML/assignment1/assignment_1/jupyter_notebooks/wandb/run-20250113_211524-okz7twbp</code>"
      ],
      "text/plain": [
       "<IPython.core.display.HTML object>"
      ]
     },
     "metadata": {},
     "output_type": "display_data"
    },
    {
     "data": {
      "text/html": [
       "Syncing run <strong><a href='https://wandb.ai/annina_ecker-fh-st-p-lten/hyperparameter-sweep/runs/okz7twbp' target=\"_blank\">fearless-sweep-6</a></strong> to <a href='https://wandb.ai/annina_ecker-fh-st-p-lten/hyperparameter-sweep' target=\"_blank\">Weights & Biases</a> (<a href='https://wandb.me/developer-guide' target=\"_blank\">docs</a>)<br>Sweep page: <a href='https://wandb.ai/annina_ecker-fh-st-p-lten/hyperparameter-sweep/sweeps/muykvo5n' target=\"_blank\">https://wandb.ai/annina_ecker-fh-st-p-lten/hyperparameter-sweep/sweeps/muykvo5n</a>"
      ],
      "text/plain": [
       "<IPython.core.display.HTML object>"
      ]
     },
     "metadata": {},
     "output_type": "display_data"
    },
    {
     "data": {
      "text/html": [
       " View project at <a href='https://wandb.ai/annina_ecker-fh-st-p-lten/hyperparameter-sweep' target=\"_blank\">https://wandb.ai/annina_ecker-fh-st-p-lten/hyperparameter-sweep</a>"
      ],
      "text/plain": [
       "<IPython.core.display.HTML object>"
      ]
     },
     "metadata": {},
     "output_type": "display_data"
    },
    {
     "data": {
      "text/html": [
       " View sweep at <a href='https://wandb.ai/annina_ecker-fh-st-p-lten/hyperparameter-sweep/sweeps/muykvo5n' target=\"_blank\">https://wandb.ai/annina_ecker-fh-st-p-lten/hyperparameter-sweep/sweeps/muykvo5n</a>"
      ],
      "text/plain": [
       "<IPython.core.display.HTML object>"
      ]
     },
     "metadata": {},
     "output_type": "display_data"
    },
    {
     "data": {
      "text/html": [
       " View run at <a href='https://wandb.ai/annina_ecker-fh-st-p-lten/hyperparameter-sweep/runs/okz7twbp' target=\"_blank\">https://wandb.ai/annina_ecker-fh-st-p-lten/hyperparameter-sweep/runs/okz7twbp</a>"
      ],
      "text/plain": [
       "<IPython.core.display.HTML object>"
      ]
     },
     "metadata": {},
     "output_type": "display_data"
    },
    {
     "data": {
      "text/html": [],
      "text/plain": [
       "<IPython.core.display.HTML object>"
      ]
     },
     "metadata": {},
     "output_type": "display_data"
    },
    {
     "data": {
      "text/html": [
       "<br>    <style><br>        .wandb-row {<br>            display: flex;<br>            flex-direction: row;<br>            flex-wrap: wrap;<br>            justify-content: flex-start;<br>            width: 100%;<br>        }<br>        .wandb-col {<br>            display: flex;<br>            flex-direction: column;<br>            flex-basis: 100%;<br>            flex: 1;<br>            padding: 10px;<br>        }<br>    </style><br><div class=\"wandb-row\"><div class=\"wandb-col\"><h3>Run history:</h3><br/><table class=\"wandb\"><tr><td>Validation AUC</td><td>▁</td></tr></table><br/></div><div class=\"wandb-col\"><h3>Run summary:</h3><br/><table class=\"wandb\"><tr><td>Validation AUC</td><td>0.93132</td></tr></table><br/></div></div>"
      ],
      "text/plain": [
       "<IPython.core.display.HTML object>"
      ]
     },
     "metadata": {},
     "output_type": "display_data"
    },
    {
     "data": {
      "text/html": [
       " View run <strong style=\"color:#cdcd00\">fearless-sweep-6</strong> at: <a href='https://wandb.ai/annina_ecker-fh-st-p-lten/hyperparameter-sweep/runs/okz7twbp' target=\"_blank\">https://wandb.ai/annina_ecker-fh-st-p-lten/hyperparameter-sweep/runs/okz7twbp</a><br> View project at: <a href='https://wandb.ai/annina_ecker-fh-st-p-lten/hyperparameter-sweep' target=\"_blank\">https://wandb.ai/annina_ecker-fh-st-p-lten/hyperparameter-sweep</a><br>Synced 5 W&B file(s), 0 media file(s), 0 artifact file(s) and 0 other file(s)"
      ],
      "text/plain": [
       "<IPython.core.display.HTML object>"
      ]
     },
     "metadata": {},
     "output_type": "display_data"
    },
    {
     "data": {
      "text/html": [
       "Find logs at: <code>./wandb/run-20250113_211524-okz7twbp/logs</code>"
      ],
      "text/plain": [
       "<IPython.core.display.HTML object>"
      ]
     },
     "metadata": {},
     "output_type": "display_data"
    },
    {
     "name": "stderr",
     "output_type": "stream",
     "text": [
      "\u001b[34m\u001b[1mwandb\u001b[0m: Agent Starting Run: b2bqyybs with config:\n",
      "\u001b[34m\u001b[1mwandb\u001b[0m: \tlearning_rate: 0.1912219412431304\n",
      "\u001b[34m\u001b[1mwandb\u001b[0m: \tmax_depth: 6\n",
      "\u001b[34m\u001b[1mwandb\u001b[0m: \tn_estimators: 150\n",
      "\u001b[34m\u001b[1mwandb\u001b[0m: \tsubsample: 1\n"
     ]
    },
    {
     "data": {
      "text/html": [
       "Tracking run with wandb version 0.19.2"
      ],
      "text/plain": [
       "<IPython.core.display.HTML object>"
      ]
     },
     "metadata": {},
     "output_type": "display_data"
    },
    {
     "data": {
      "text/html": [
       "Run data is saved locally in <code>/Users/annina/Documents/FH/FHStPoelten/FML/assignment1/assignment_1/jupyter_notebooks/wandb/run-20250113_211530-b2bqyybs</code>"
      ],
      "text/plain": [
       "<IPython.core.display.HTML object>"
      ]
     },
     "metadata": {},
     "output_type": "display_data"
    },
    {
     "data": {
      "text/html": [
       "Syncing run <strong><a href='https://wandb.ai/annina_ecker-fh-st-p-lten/hyperparameter-sweep/runs/b2bqyybs' target=\"_blank\">stoic-sweep-7</a></strong> to <a href='https://wandb.ai/annina_ecker-fh-st-p-lten/hyperparameter-sweep' target=\"_blank\">Weights & Biases</a> (<a href='https://wandb.me/developer-guide' target=\"_blank\">docs</a>)<br>Sweep page: <a href='https://wandb.ai/annina_ecker-fh-st-p-lten/hyperparameter-sweep/sweeps/muykvo5n' target=\"_blank\">https://wandb.ai/annina_ecker-fh-st-p-lten/hyperparameter-sweep/sweeps/muykvo5n</a>"
      ],
      "text/plain": [
       "<IPython.core.display.HTML object>"
      ]
     },
     "metadata": {},
     "output_type": "display_data"
    },
    {
     "data": {
      "text/html": [
       " View project at <a href='https://wandb.ai/annina_ecker-fh-st-p-lten/hyperparameter-sweep' target=\"_blank\">https://wandb.ai/annina_ecker-fh-st-p-lten/hyperparameter-sweep</a>"
      ],
      "text/plain": [
       "<IPython.core.display.HTML object>"
      ]
     },
     "metadata": {},
     "output_type": "display_data"
    },
    {
     "data": {
      "text/html": [
       " View sweep at <a href='https://wandb.ai/annina_ecker-fh-st-p-lten/hyperparameter-sweep/sweeps/muykvo5n' target=\"_blank\">https://wandb.ai/annina_ecker-fh-st-p-lten/hyperparameter-sweep/sweeps/muykvo5n</a>"
      ],
      "text/plain": [
       "<IPython.core.display.HTML object>"
      ]
     },
     "metadata": {},
     "output_type": "display_data"
    },
    {
     "data": {
      "text/html": [
       " View run at <a href='https://wandb.ai/annina_ecker-fh-st-p-lten/hyperparameter-sweep/runs/b2bqyybs' target=\"_blank\">https://wandb.ai/annina_ecker-fh-st-p-lten/hyperparameter-sweep/runs/b2bqyybs</a>"
      ],
      "text/plain": [
       "<IPython.core.display.HTML object>"
      ]
     },
     "metadata": {},
     "output_type": "display_data"
    },
    {
     "data": {
      "text/html": [],
      "text/plain": [
       "<IPython.core.display.HTML object>"
      ]
     },
     "metadata": {},
     "output_type": "display_data"
    },
    {
     "data": {
      "text/html": [
       "<br>    <style><br>        .wandb-row {<br>            display: flex;<br>            flex-direction: row;<br>            flex-wrap: wrap;<br>            justify-content: flex-start;<br>            width: 100%;<br>        }<br>        .wandb-col {<br>            display: flex;<br>            flex-direction: column;<br>            flex-basis: 100%;<br>            flex: 1;<br>            padding: 10px;<br>        }<br>    </style><br><div class=\"wandb-row\"><div class=\"wandb-col\"><h3>Run history:</h3><br/><table class=\"wandb\"><tr><td>Validation AUC</td><td>▁</td></tr></table><br/></div><div class=\"wandb-col\"><h3>Run summary:</h3><br/><table class=\"wandb\"><tr><td>Validation AUC</td><td>0.93181</td></tr></table><br/></div></div>"
      ],
      "text/plain": [
       "<IPython.core.display.HTML object>"
      ]
     },
     "metadata": {},
     "output_type": "display_data"
    },
    {
     "data": {
      "text/html": [
       " View run <strong style=\"color:#cdcd00\">stoic-sweep-7</strong> at: <a href='https://wandb.ai/annina_ecker-fh-st-p-lten/hyperparameter-sweep/runs/b2bqyybs' target=\"_blank\">https://wandb.ai/annina_ecker-fh-st-p-lten/hyperparameter-sweep/runs/b2bqyybs</a><br> View project at: <a href='https://wandb.ai/annina_ecker-fh-st-p-lten/hyperparameter-sweep' target=\"_blank\">https://wandb.ai/annina_ecker-fh-st-p-lten/hyperparameter-sweep</a><br>Synced 5 W&B file(s), 0 media file(s), 0 artifact file(s) and 0 other file(s)"
      ],
      "text/plain": [
       "<IPython.core.display.HTML object>"
      ]
     },
     "metadata": {},
     "output_type": "display_data"
    },
    {
     "data": {
      "text/html": [
       "Find logs at: <code>./wandb/run-20250113_211530-b2bqyybs/logs</code>"
      ],
      "text/plain": [
       "<IPython.core.display.HTML object>"
      ]
     },
     "metadata": {},
     "output_type": "display_data"
    },
    {
     "name": "stderr",
     "output_type": "stream",
     "text": [
      "\u001b[34m\u001b[1mwandb\u001b[0m: Agent Starting Run: lnvf3gpa with config:\n",
      "\u001b[34m\u001b[1mwandb\u001b[0m: \tlearning_rate: 0.1787079133050409\n",
      "\u001b[34m\u001b[1mwandb\u001b[0m: \tmax_depth: 6\n",
      "\u001b[34m\u001b[1mwandb\u001b[0m: \tn_estimators: 150\n",
      "\u001b[34m\u001b[1mwandb\u001b[0m: \tsubsample: 1\n"
     ]
    },
    {
     "data": {
      "text/html": [
       "Tracking run with wandb version 0.19.2"
      ],
      "text/plain": [
       "<IPython.core.display.HTML object>"
      ]
     },
     "metadata": {},
     "output_type": "display_data"
    },
    {
     "data": {
      "text/html": [
       "Run data is saved locally in <code>/Users/annina/Documents/FH/FHStPoelten/FML/assignment1/assignment_1/jupyter_notebooks/wandb/run-20250113_211535-lnvf3gpa</code>"
      ],
      "text/plain": [
       "<IPython.core.display.HTML object>"
      ]
     },
     "metadata": {},
     "output_type": "display_data"
    },
    {
     "data": {
      "text/html": [
       "Syncing run <strong><a href='https://wandb.ai/annina_ecker-fh-st-p-lten/hyperparameter-sweep/runs/lnvf3gpa' target=\"_blank\">noble-sweep-8</a></strong> to <a href='https://wandb.ai/annina_ecker-fh-st-p-lten/hyperparameter-sweep' target=\"_blank\">Weights & Biases</a> (<a href='https://wandb.me/developer-guide' target=\"_blank\">docs</a>)<br>Sweep page: <a href='https://wandb.ai/annina_ecker-fh-st-p-lten/hyperparameter-sweep/sweeps/muykvo5n' target=\"_blank\">https://wandb.ai/annina_ecker-fh-st-p-lten/hyperparameter-sweep/sweeps/muykvo5n</a>"
      ],
      "text/plain": [
       "<IPython.core.display.HTML object>"
      ]
     },
     "metadata": {},
     "output_type": "display_data"
    },
    {
     "data": {
      "text/html": [
       " View project at <a href='https://wandb.ai/annina_ecker-fh-st-p-lten/hyperparameter-sweep' target=\"_blank\">https://wandb.ai/annina_ecker-fh-st-p-lten/hyperparameter-sweep</a>"
      ],
      "text/plain": [
       "<IPython.core.display.HTML object>"
      ]
     },
     "metadata": {},
     "output_type": "display_data"
    },
    {
     "data": {
      "text/html": [
       " View sweep at <a href='https://wandb.ai/annina_ecker-fh-st-p-lten/hyperparameter-sweep/sweeps/muykvo5n' target=\"_blank\">https://wandb.ai/annina_ecker-fh-st-p-lten/hyperparameter-sweep/sweeps/muykvo5n</a>"
      ],
      "text/plain": [
       "<IPython.core.display.HTML object>"
      ]
     },
     "metadata": {},
     "output_type": "display_data"
    },
    {
     "data": {
      "text/html": [
       " View run at <a href='https://wandb.ai/annina_ecker-fh-st-p-lten/hyperparameter-sweep/runs/lnvf3gpa' target=\"_blank\">https://wandb.ai/annina_ecker-fh-st-p-lten/hyperparameter-sweep/runs/lnvf3gpa</a>"
      ],
      "text/plain": [
       "<IPython.core.display.HTML object>"
      ]
     },
     "metadata": {},
     "output_type": "display_data"
    },
    {
     "data": {
      "text/html": [],
      "text/plain": [
       "<IPython.core.display.HTML object>"
      ]
     },
     "metadata": {},
     "output_type": "display_data"
    },
    {
     "data": {
      "text/html": [
       "<br>    <style><br>        .wandb-row {<br>            display: flex;<br>            flex-direction: row;<br>            flex-wrap: wrap;<br>            justify-content: flex-start;<br>            width: 100%;<br>        }<br>        .wandb-col {<br>            display: flex;<br>            flex-direction: column;<br>            flex-basis: 100%;<br>            flex: 1;<br>            padding: 10px;<br>        }<br>    </style><br><div class=\"wandb-row\"><div class=\"wandb-col\"><h3>Run history:</h3><br/><table class=\"wandb\"><tr><td>Validation AUC</td><td>▁</td></tr></table><br/></div><div class=\"wandb-col\"><h3>Run summary:</h3><br/><table class=\"wandb\"><tr><td>Validation AUC</td><td>0.93218</td></tr></table><br/></div></div>"
      ],
      "text/plain": [
       "<IPython.core.display.HTML object>"
      ]
     },
     "metadata": {},
     "output_type": "display_data"
    },
    {
     "data": {
      "text/html": [
       " View run <strong style=\"color:#cdcd00\">noble-sweep-8</strong> at: <a href='https://wandb.ai/annina_ecker-fh-st-p-lten/hyperparameter-sweep/runs/lnvf3gpa' target=\"_blank\">https://wandb.ai/annina_ecker-fh-st-p-lten/hyperparameter-sweep/runs/lnvf3gpa</a><br> View project at: <a href='https://wandb.ai/annina_ecker-fh-st-p-lten/hyperparameter-sweep' target=\"_blank\">https://wandb.ai/annina_ecker-fh-st-p-lten/hyperparameter-sweep</a><br>Synced 5 W&B file(s), 0 media file(s), 0 artifact file(s) and 0 other file(s)"
      ],
      "text/plain": [
       "<IPython.core.display.HTML object>"
      ]
     },
     "metadata": {},
     "output_type": "display_data"
    },
    {
     "data": {
      "text/html": [
       "Find logs at: <code>./wandb/run-20250113_211535-lnvf3gpa/logs</code>"
      ],
      "text/plain": [
       "<IPython.core.display.HTML object>"
      ]
     },
     "metadata": {},
     "output_type": "display_data"
    },
    {
     "name": "stderr",
     "output_type": "stream",
     "text": [
      "\u001b[34m\u001b[1mwandb\u001b[0m: Agent Starting Run: j5pnha9h with config:\n",
      "\u001b[34m\u001b[1mwandb\u001b[0m: \tlearning_rate: 0.1456579394865136\n",
      "\u001b[34m\u001b[1mwandb\u001b[0m: \tmax_depth: 6\n",
      "\u001b[34m\u001b[1mwandb\u001b[0m: \tn_estimators: 200\n",
      "\u001b[34m\u001b[1mwandb\u001b[0m: \tsubsample: 1\n"
     ]
    },
    {
     "data": {
      "text/html": [
       "Tracking run with wandb version 0.19.2"
      ],
      "text/plain": [
       "<IPython.core.display.HTML object>"
      ]
     },
     "metadata": {},
     "output_type": "display_data"
    },
    {
     "data": {
      "text/html": [
       "Run data is saved locally in <code>/Users/annina/Documents/FH/FHStPoelten/FML/assignment1/assignment_1/jupyter_notebooks/wandb/run-20250113_211541-j5pnha9h</code>"
      ],
      "text/plain": [
       "<IPython.core.display.HTML object>"
      ]
     },
     "metadata": {},
     "output_type": "display_data"
    },
    {
     "data": {
      "text/html": [
       "Syncing run <strong><a href='https://wandb.ai/annina_ecker-fh-st-p-lten/hyperparameter-sweep/runs/j5pnha9h' target=\"_blank\">rare-sweep-9</a></strong> to <a href='https://wandb.ai/annina_ecker-fh-st-p-lten/hyperparameter-sweep' target=\"_blank\">Weights & Biases</a> (<a href='https://wandb.me/developer-guide' target=\"_blank\">docs</a>)<br>Sweep page: <a href='https://wandb.ai/annina_ecker-fh-st-p-lten/hyperparameter-sweep/sweeps/muykvo5n' target=\"_blank\">https://wandb.ai/annina_ecker-fh-st-p-lten/hyperparameter-sweep/sweeps/muykvo5n</a>"
      ],
      "text/plain": [
       "<IPython.core.display.HTML object>"
      ]
     },
     "metadata": {},
     "output_type": "display_data"
    },
    {
     "data": {
      "text/html": [
       " View project at <a href='https://wandb.ai/annina_ecker-fh-st-p-lten/hyperparameter-sweep' target=\"_blank\">https://wandb.ai/annina_ecker-fh-st-p-lten/hyperparameter-sweep</a>"
      ],
      "text/plain": [
       "<IPython.core.display.HTML object>"
      ]
     },
     "metadata": {},
     "output_type": "display_data"
    },
    {
     "data": {
      "text/html": [
       " View sweep at <a href='https://wandb.ai/annina_ecker-fh-st-p-lten/hyperparameter-sweep/sweeps/muykvo5n' target=\"_blank\">https://wandb.ai/annina_ecker-fh-st-p-lten/hyperparameter-sweep/sweeps/muykvo5n</a>"
      ],
      "text/plain": [
       "<IPython.core.display.HTML object>"
      ]
     },
     "metadata": {},
     "output_type": "display_data"
    },
    {
     "data": {
      "text/html": [
       " View run at <a href='https://wandb.ai/annina_ecker-fh-st-p-lten/hyperparameter-sweep/runs/j5pnha9h' target=\"_blank\">https://wandb.ai/annina_ecker-fh-st-p-lten/hyperparameter-sweep/runs/j5pnha9h</a>"
      ],
      "text/plain": [
       "<IPython.core.display.HTML object>"
      ]
     },
     "metadata": {},
     "output_type": "display_data"
    },
    {
     "data": {
      "text/html": [],
      "text/plain": [
       "<IPython.core.display.HTML object>"
      ]
     },
     "metadata": {},
     "output_type": "display_data"
    },
    {
     "data": {
      "text/html": [
       "<br>    <style><br>        .wandb-row {<br>            display: flex;<br>            flex-direction: row;<br>            flex-wrap: wrap;<br>            justify-content: flex-start;<br>            width: 100%;<br>        }<br>        .wandb-col {<br>            display: flex;<br>            flex-direction: column;<br>            flex-basis: 100%;<br>            flex: 1;<br>            padding: 10px;<br>        }<br>    </style><br><div class=\"wandb-row\"><div class=\"wandb-col\"><h3>Run history:</h3><br/><table class=\"wandb\"><tr><td>Validation AUC</td><td>▁</td></tr></table><br/></div><div class=\"wandb-col\"><h3>Run summary:</h3><br/><table class=\"wandb\"><tr><td>Validation AUC</td><td>0.9325</td></tr></table><br/></div></div>"
      ],
      "text/plain": [
       "<IPython.core.display.HTML object>"
      ]
     },
     "metadata": {},
     "output_type": "display_data"
    },
    {
     "data": {
      "text/html": [
       " View run <strong style=\"color:#cdcd00\">rare-sweep-9</strong> at: <a href='https://wandb.ai/annina_ecker-fh-st-p-lten/hyperparameter-sweep/runs/j5pnha9h' target=\"_blank\">https://wandb.ai/annina_ecker-fh-st-p-lten/hyperparameter-sweep/runs/j5pnha9h</a><br> View project at: <a href='https://wandb.ai/annina_ecker-fh-st-p-lten/hyperparameter-sweep' target=\"_blank\">https://wandb.ai/annina_ecker-fh-st-p-lten/hyperparameter-sweep</a><br>Synced 5 W&B file(s), 0 media file(s), 0 artifact file(s) and 0 other file(s)"
      ],
      "text/plain": [
       "<IPython.core.display.HTML object>"
      ]
     },
     "metadata": {},
     "output_type": "display_data"
    },
    {
     "data": {
      "text/html": [
       "Find logs at: <code>./wandb/run-20250113_211541-j5pnha9h/logs</code>"
      ],
      "text/plain": [
       "<IPython.core.display.HTML object>"
      ]
     },
     "metadata": {},
     "output_type": "display_data"
    },
    {
     "name": "stderr",
     "output_type": "stream",
     "text": [
      "\u001b[34m\u001b[1mwandb\u001b[0m: Agent Starting Run: okpxragp with config:\n",
      "\u001b[34m\u001b[1mwandb\u001b[0m: \tlearning_rate: 0.10781405028146396\n",
      "\u001b[34m\u001b[1mwandb\u001b[0m: \tmax_depth: 6\n",
      "\u001b[34m\u001b[1mwandb\u001b[0m: \tn_estimators: 200\n",
      "\u001b[34m\u001b[1mwandb\u001b[0m: \tsubsample: 1\n"
     ]
    },
    {
     "data": {
      "text/html": [
       "Tracking run with wandb version 0.19.2"
      ],
      "text/plain": [
       "<IPython.core.display.HTML object>"
      ]
     },
     "metadata": {},
     "output_type": "display_data"
    },
    {
     "data": {
      "text/html": [
       "Run data is saved locally in <code>/Users/annina/Documents/FH/FHStPoelten/FML/assignment1/assignment_1/jupyter_notebooks/wandb/run-20250113_211546-okpxragp</code>"
      ],
      "text/plain": [
       "<IPython.core.display.HTML object>"
      ]
     },
     "metadata": {},
     "output_type": "display_data"
    },
    {
     "data": {
      "text/html": [
       "Syncing run <strong><a href='https://wandb.ai/annina_ecker-fh-st-p-lten/hyperparameter-sweep/runs/okpxragp' target=\"_blank\">polar-sweep-10</a></strong> to <a href='https://wandb.ai/annina_ecker-fh-st-p-lten/hyperparameter-sweep' target=\"_blank\">Weights & Biases</a> (<a href='https://wandb.me/developer-guide' target=\"_blank\">docs</a>)<br>Sweep page: <a href='https://wandb.ai/annina_ecker-fh-st-p-lten/hyperparameter-sweep/sweeps/muykvo5n' target=\"_blank\">https://wandb.ai/annina_ecker-fh-st-p-lten/hyperparameter-sweep/sweeps/muykvo5n</a>"
      ],
      "text/plain": [
       "<IPython.core.display.HTML object>"
      ]
     },
     "metadata": {},
     "output_type": "display_data"
    },
    {
     "data": {
      "text/html": [
       " View project at <a href='https://wandb.ai/annina_ecker-fh-st-p-lten/hyperparameter-sweep' target=\"_blank\">https://wandb.ai/annina_ecker-fh-st-p-lten/hyperparameter-sweep</a>"
      ],
      "text/plain": [
       "<IPython.core.display.HTML object>"
      ]
     },
     "metadata": {},
     "output_type": "display_data"
    },
    {
     "data": {
      "text/html": [
       " View sweep at <a href='https://wandb.ai/annina_ecker-fh-st-p-lten/hyperparameter-sweep/sweeps/muykvo5n' target=\"_blank\">https://wandb.ai/annina_ecker-fh-st-p-lten/hyperparameter-sweep/sweeps/muykvo5n</a>"
      ],
      "text/plain": [
       "<IPython.core.display.HTML object>"
      ]
     },
     "metadata": {},
     "output_type": "display_data"
    },
    {
     "data": {
      "text/html": [
       " View run at <a href='https://wandb.ai/annina_ecker-fh-st-p-lten/hyperparameter-sweep/runs/okpxragp' target=\"_blank\">https://wandb.ai/annina_ecker-fh-st-p-lten/hyperparameter-sweep/runs/okpxragp</a>"
      ],
      "text/plain": [
       "<IPython.core.display.HTML object>"
      ]
     },
     "metadata": {},
     "output_type": "display_data"
    },
    {
     "data": {
      "text/html": [],
      "text/plain": [
       "<IPython.core.display.HTML object>"
      ]
     },
     "metadata": {},
     "output_type": "display_data"
    },
    {
     "data": {
      "text/html": [
       "<br>    <style><br>        .wandb-row {<br>            display: flex;<br>            flex-direction: row;<br>            flex-wrap: wrap;<br>            justify-content: flex-start;<br>            width: 100%;<br>        }<br>        .wandb-col {<br>            display: flex;<br>            flex-direction: column;<br>            flex-basis: 100%;<br>            flex: 1;<br>            padding: 10px;<br>        }<br>    </style><br><div class=\"wandb-row\"><div class=\"wandb-col\"><h3>Run history:</h3><br/><table class=\"wandb\"><tr><td>Validation AUC</td><td>▁</td></tr></table><br/></div><div class=\"wandb-col\"><h3>Run summary:</h3><br/><table class=\"wandb\"><tr><td>Validation AUC</td><td>0.93179</td></tr></table><br/></div></div>"
      ],
      "text/plain": [
       "<IPython.core.display.HTML object>"
      ]
     },
     "metadata": {},
     "output_type": "display_data"
    },
    {
     "data": {
      "text/html": [
       " View run <strong style=\"color:#cdcd00\">polar-sweep-10</strong> at: <a href='https://wandb.ai/annina_ecker-fh-st-p-lten/hyperparameter-sweep/runs/okpxragp' target=\"_blank\">https://wandb.ai/annina_ecker-fh-st-p-lten/hyperparameter-sweep/runs/okpxragp</a><br> View project at: <a href='https://wandb.ai/annina_ecker-fh-st-p-lten/hyperparameter-sweep' target=\"_blank\">https://wandb.ai/annina_ecker-fh-st-p-lten/hyperparameter-sweep</a><br>Synced 5 W&B file(s), 0 media file(s), 0 artifact file(s) and 0 other file(s)"
      ],
      "text/plain": [
       "<IPython.core.display.HTML object>"
      ]
     },
     "metadata": {},
     "output_type": "display_data"
    },
    {
     "data": {
      "text/html": [
       "Find logs at: <code>./wandb/run-20250113_211546-okpxragp/logs</code>"
      ],
      "text/plain": [
       "<IPython.core.display.HTML object>"
      ]
     },
     "metadata": {},
     "output_type": "display_data"
    }
   ],
   "source": [
    "wandb.agent(sweep_id, function=train, count=10)  # count=10 begrenzt auf 10 Läufe"
   ]
  },
  {
   "cell_type": "code",
   "execution_count": null,
   "id": "c1a463e7-fd9e-4c98-bf45-9d9af9f06f08",
   "metadata": {},
   "outputs": [],
   "source": [
    "\n"
   ]
  }
 ],
 "metadata": {
  "kernelspec": {
   "display_name": "Python 3 (ipykernel)",
   "language": "python",
   "name": "python3"
  },
  "language_info": {
   "codemirror_mode": {
    "name": "ipython",
    "version": 3
   },
   "file_extension": ".py",
   "mimetype": "text/x-python",
   "name": "python",
   "nbconvert_exporter": "python",
   "pygments_lexer": "ipython3",
   "version": "3.9.21"
  }
 },
 "nbformat": 4,
 "nbformat_minor": 5
}
