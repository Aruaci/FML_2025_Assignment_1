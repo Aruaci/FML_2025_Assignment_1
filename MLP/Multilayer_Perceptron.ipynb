{
 "cells": [
  {
   "cell_type": "markdown",
   "id": "325b4f3b-f726-4d07-8992-2c28442f3e14",
   "metadata": {},
   "source": [
    "# Multilayer Perceptron\n",
    "**Comparing Federated Machine Learning to Centralized Machine Learning**"
   ]
  },
  {
   "cell_type": "markdown",
   "id": "cd7f3a2e",
   "metadata": {},
   "source": [
    "## Imports & Configs"
   ]
  },
  {
   "cell_type": "code",
   "execution_count": 32,
   "id": "461e8e2d-cc30-45cf-bec2-c45763034af0",
   "metadata": {},
   "outputs": [],
   "source": [
    "import pandas as pd\n",
    "import numpy as np\n",
    "import multiprocessing\n",
    "import torch\n",
    "from torch.utils.data import DataLoader\n",
    "from datasets.utils.logging import disable_progress_bar\n",
    "from torchviz import make_dot\n",
    "from torchinfo import summary\n",
    "from IPython.display import Image, display\n",
    "\n",
    "from utils import CustomDataset, set_parameters, get_parameters, weighted_average\n",
    "from data_loaders import load_federated_datasets, load_federated_datasets_by_gender, load_federated_datasets_by_age, load_federated_datasets_by_education\n",
    "from model import BinaryMLP, train, evaluate\n",
    "from FlowerClient import FlowerClient\n",
    "\n",
    "import flwr as fl\n",
    "from flwr.client import Client, ClientApp\n",
    "from flwr.common import Context\n",
    "from flwr.server.strategy import FedAvg\n",
    "from flwr.server import ServerApp, ServerConfig, ServerAppComponents\n",
    "from flwr.simulation import run_simulation"
   ]
  },
  {
   "cell_type": "code",
   "execution_count": 33,
   "id": "0d408b6d",
   "metadata": {},
   "outputs": [
    {
     "name": "stdout",
     "output_type": "stream",
     "text": [
      "Number of GPUs: 1.0 / Number of CPU Cores: 24\n",
      "Training on NVIDIA GeForce RTX 4090\n",
      "Flower 1.14.0 / PyTorch 2.5.1+cu124\n"
     ]
    }
   ],
   "source": [
    "if torch.cuda.is_available():\n",
    "    DEVICE = torch.device(\"cuda\")\n",
    "    n_gpu = float(torch.cuda.device_count())\n",
    "    device_name = torch.cuda.get_device_name(DEVICE)\n",
    "elif torch.backends.mps.is_available():\n",
    "    DEVICE = torch.device(\"mps\")\n",
    "    device_name = \"Apple Silicon\"\n",
    "    n_gpu = 0.0\n",
    "else:\n",
    "    DEVICE = torch.device(\"cpu\")\n",
    "    device_name = \"CPU\"\n",
    "    n_gpu = 0.0\n",
    "    \n",
    "disable_progress_bar()\n",
    "torch.manual_seed(0)\n",
    "\n",
    "n_cores = multiprocessing.cpu_count()\n",
    "print(f\"Number of GPUs: {n_gpu} / Number of CPU Cores: {n_cores}\")\n",
    "print(f\"Training on {device_name}\")\n",
    "print(f\"Flower {fl.__version__} / PyTorch {torch.__version__}\")"
   ]
  },
  {
   "cell_type": "code",
   "execution_count": 34,
   "id": "b5b8b85d-b71e-4b9a-8de6-f89b9f36e32e",
   "metadata": {},
   "outputs": [],
   "source": [
    "NUM_CLIENTS = 5\n",
    "BATCH_SIZE = 32\n",
    "NUM_EPOCHS = 8\n",
    "NUM_ROUNDS = 5"
   ]
  },
  {
   "cell_type": "markdown",
   "id": "fd2f82c6-0bb0-4db3-8e94-2fa98159144f",
   "metadata": {},
   "source": [
    "## Loading Data"
   ]
  },
  {
   "cell_type": "code",
   "execution_count": 35,
   "id": "26a7e93b-f8c6-42b3-9bf6-8a1717ba4477",
   "metadata": {},
   "outputs": [],
   "source": [
    "train_df = pd.read_csv('./Data/adult_train.csv')\n",
    "test_df = pd.read_csv('./Data/adult_train.csv')\n",
    "concated_df = pd.concat([train_df, test_df], ignore_index=True)\n",
    "\n",
    "label_column_name = 'income'\n",
    "x_train = train_df.drop(columns=[label_column_name]).values\n",
    "x_test = test_df.drop(columns=[label_column_name]).values\n",
    "y_train = train_df[label_column_name].values\n",
    "y_test = test_df[label_column_name].values"
   ]
  },
  {
   "cell_type": "markdown",
   "id": "ab3d4221-d565-4d97-ae96-d7883be3e870",
   "metadata": {},
   "source": [
    "## Centralized Training"
   ]
  },
  {
   "cell_type": "code",
   "execution_count": 36,
   "id": "d987cc1c-6619-4ada-b6be-cd0389415586",
   "metadata": {},
   "outputs": [],
   "source": [
    "train_centralized = CustomDataset(x_train, y_train)\n",
    "test_centralized = CustomDataset(x_test, y_test)\n",
    "train_centralized_loader = DataLoader(train_centralized, batch_size=32, shuffle=True)\n",
    "test_centralized_loader = DataLoader(test_centralized, batch_size=32, shuffle=True)"
   ]
  },
  {
   "cell_type": "code",
   "execution_count": 37,
   "id": "c0d9ede4-898e-42e1-87c0-daac681fe718",
   "metadata": {},
   "outputs": [
    {
     "name": "stdout",
     "output_type": "stream",
     "text": [
      "Centralized Model - Average Loss: 0.3060, Accuracy: 0.8608, Precision: 0.7657, Recall: 0.6080, F1: 0.6778\n"
     ]
    }
   ],
   "source": [
    "model = BinaryMLP().to(DEVICE)\n",
    "criterion = torch.nn.BCEWithLogitsLoss()\n",
    "optimizer = torch.optim.Adam(model.parameters(), lr=0.001)\n",
    "train(model, train_centralized_loader, criterion, optimizer, NUM_EPOCHS, DEVICE)\n",
    "\n",
    "c_loss, c_accuracy, c_precision, c_recall, c_f1 = evaluate(model, test_centralized_loader, DEVICE)\n",
    "print(f\"Centralized Model - Average Loss: {c_loss:.4f}, Accuracy: {c_accuracy:.4f}, Precision: {c_precision:.4f}, Recall: {c_recall:.4f}, F1: {c_f1:.4f}\")"
   ]
  },
  {
   "cell_type": "code",
   "execution_count": 38,
   "id": "82d7a4eb-0837-49db-83b3-14ea74a1fdf8",
   "metadata": {},
   "outputs": [
    {
     "data": {
      "image/png": "[encoded data removed]",
      "text/plain": [
       "<IPython.core.display.Image object>"
      ]
     },
     "metadata": {},
     "output_type": "display_data"
    }
   ],
   "source": [
    "model = BinaryMLP().to(DEVICE)\n",
    "\n",
    "# Switch model to evaluation mode\n",
    "model.eval()\n",
    "\n",
    "# Create a dummy input tensor with the correct input shape\n",
    "dummy_input = torch.randn(1, 97).to(DEVICE)  # 97 is the input dimension size\n",
    "\n",
    "# Generate the computation graph\n",
    "dot = make_dot(model(dummy_input), params=dict(model.named_parameters()))\n",
    "\n",
    "file_path = \"/tmp/model_architecture.png\"\n",
    "dot.render(file_path, format=\"png\")\n",
    "\n",
    "# Display the image in the notebook\n",
    "display(Image(filename=file_path))"
   ]
  },
  {
   "cell_type": "code",
   "execution_count": 39,
   "id": "ea1bf1b2-16ba-4670-9c49-f466a6fb2d6a",
   "metadata": {},
   "outputs": [
    {
     "data": {
      "text/plain": [
       "==========================================================================================\n",
       "Layer (type:depth-idx)                   Input Shape               Output Shape\n",
       "==========================================================================================\n",
       "BinaryMLP                                [32, 97]                  [32, 1]\n",
       "├─Sequential: 1-1                        [32, 97]                  [32, 1]\n",
       "│    └─Linear: 2-1                       [32, 97]                  [32, 64]\n",
       "│    └─ReLU: 2-2                         [32, 64]                  [32, 64]\n",
       "│    └─Dropout: 2-3                      [32, 64]                  [32, 64]\n",
       "│    └─BatchNorm1d: 2-4                  [32, 64]                  [32, 64]\n",
       "│    └─Linear: 2-5                       [32, 64]                  [32, 32]\n",
       "│    └─ReLU: 2-6                         [32, 32]                  [32, 32]\n",
       "│    └─Dropout: 2-7                      [32, 32]                  [32, 32]\n",
       "│    └─BatchNorm1d: 2-8                  [32, 32]                  [32, 32]\n",
       "│    └─Linear: 2-9                       [32, 32]                  [32, 16]\n",
       "│    └─ReLU: 2-10                        [32, 16]                  [32, 16]\n",
       "│    └─Dropout: 2-11                     [32, 16]                  [32, 16]\n",
       "│    └─Linear: 2-12                      [32, 16]                  [32, 1]\n",
       "==========================================================================================\n",
       "Total params: 9,089\n",
       "Trainable params: 9,089\n",
       "Non-trainable params: 0\n",
       "Total mult-adds (M): 0.29\n",
       "==========================================================================================\n",
       "Input size (MB): 0.01\n",
       "Forward/backward pass size (MB): 0.05\n",
       "Params size (MB): 0.04\n",
       "Estimated Total Size (MB): 0.10\n",
       "=========================================================================================="
      ]
     },
     "execution_count": 39,
     "metadata": {},
     "output_type": "execute_result"
    }
   ],
   "source": [
    "model_summary = summary(model=model, input_size=(BATCH_SIZE, 97), col_names=(\"input_size\", \"output_size\"))\n",
    "model_summary"
   ]
  },
  {
   "cell_type": "markdown",
   "id": "936620d1-5d18-4c7f-b7c7-3f20ab04fe1c",
   "metadata": {},
   "source": [
    "## Federated Training"
   ]
  },
  {
   "cell_type": "code",
   "execution_count": 40,
   "id": "ae044a56-866d-4ad4-8da4-f5df131f92e9",
   "metadata": {},
   "outputs": [],
   "source": [
    "backend_config = {\n",
    "    \"client_resources\": {\n",
    "        \"num_cpus\": n_cores,\n",
    "        \"num_gpus\": n_gpu\n",
    "    }\n",
    "}"
   ]
  },
  {
   "cell_type": "code",
   "execution_count": 41,
   "id": "242ce0d3-6fd7-42ac-9c69-b3517acb8298",
   "metadata": {},
   "outputs": [],
   "source": [
    "def server_fn(context: Context) -> ServerAppComponents:\n",
    "    strategy = FedAvg(\n",
    "        fraction_fit=1.0, \n",
    "        fraction_evaluate=0.5,\n",
    "        min_available_clients=NUM_CLIENTS, \n",
    "        fit_metrics_aggregation_fn=weighted_average\n",
    "    )\n",
    "    config = ServerConfig(num_rounds=NUM_ROUNDS)\n",
    "    return ServerAppComponents(strategy=strategy, config=config)"
   ]
  },
  {
   "cell_type": "markdown",
   "id": "433e5839-aee4-4f23-a573-8362fe35d003",
   "metadata": {},
   "source": [
    "### Federated with 5 Clients"
   ]
  },
  {
   "cell_type": "code",
   "execution_count": 42,
   "id": "767d35e0-6607-4e15-808b-7e189ce266a6",
   "metadata": {},
   "outputs": [],
   "source": [
    "def client_fn(context: Context) -> Client:\n",
    "    model = BinaryMLP().to(DEVICE)\n",
    "    partition_id = context.node_config[\"partition-id\"]\n",
    "\n",
    "    trainloaders, testloaders = load_federated_datasets(\n",
    "        x_train,\n",
    "        x_test,\n",
    "        y_train,\n",
    "        y_test,\n",
    "        NUM_CLIENTS,\n",
    "        BATCH_SIZE\n",
    "    )\n",
    "\n",
    "    trainloader = trainloaders[partition_id]\n",
    "    testloader = testloaders[partition_id]\n",
    "\n",
    "    return FlowerClient(model, trainloader, testloader, NUM_EPOCHS, DEVICE).to_client()"
   ]
  },
  {
   "cell_type": "code",
   "execution_count": 43,
   "id": "92c43d2b-519e-4c6d-b5b3-ca6fe85a8748",
   "metadata": {},
   "outputs": [
    {
     "name": "stderr",
     "output_type": "stream",
     "text": [
      "\u001b[92mINFO \u001b[0m:      Starting Flower ServerApp, config: num_rounds=5, no round_timeout\n",
      "\u001b[92mINFO \u001b[0m:      \n",
      "\u001b[92mINFO \u001b[0m:      [INIT]\n",
      "\u001b[92mINFO \u001b[0m:      Requesting initial parameters from one random client\n",
      "\u001b[92mINFO \u001b[0m:      Received initial parameters from one random client\n",
      "\u001b[92mINFO \u001b[0m:      Starting evaluation of initial global parameters\n",
      "\u001b[92mINFO \u001b[0m:      Evaluation returned no results (`None`)\n",
      "\u001b[92mINFO \u001b[0m:      \n",
      "\u001b[92mINFO \u001b[0m:      [ROUND 1]\n",
      "\u001b[92mINFO \u001b[0m:      configure_fit: strategy sampled 5 clients (out of 5)\n",
      "\u001b[92mINFO \u001b[0m:      aggregate_fit: received 5 results and 0 failures\n",
      "\u001b[92mINFO \u001b[0m:      configure_evaluate: strategy sampled 2 clients (out of 5)\n",
      "\u001b[92mINFO \u001b[0m:      aggregate_evaluate: received 2 results and 0 failures\n",
      "\u001b[93mWARNING \u001b[0m:   No evaluate_metrics_aggregation_fn provided\n",
      "\u001b[92mINFO \u001b[0m:      \n",
      "\u001b[92mINFO \u001b[0m:      [ROUND 2]\n",
      "\u001b[92mINFO \u001b[0m:      configure_fit: strategy sampled 5 clients (out of 5)\n",
      "\u001b[92mINFO \u001b[0m:      aggregate_fit: received 5 results and 0 failures\n",
      "\u001b[92mINFO \u001b[0m:      configure_evaluate: strategy sampled 2 clients (out of 5)\n",
      "\u001b[92mINFO \u001b[0m:      aggregate_evaluate: received 2 results and 0 failures\n",
      "\u001b[92mINFO \u001b[0m:      \n",
      "\u001b[92mINFO \u001b[0m:      [ROUND 3]\n",
      "\u001b[92mINFO \u001b[0m:      configure_fit: strategy sampled 5 clients (out of 5)\n",
      "\u001b[92mINFO \u001b[0m:      aggregate_fit: received 5 results and 0 failures\n",
      "\u001b[92mINFO \u001b[0m:      configure_evaluate: strategy sampled 2 clients (out of 5)\n",
      "\u001b[92mINFO \u001b[0m:      aggregate_evaluate: received 2 results and 0 failures\n",
      "\u001b[92mINFO \u001b[0m:      \n",
      "\u001b[92mINFO \u001b[0m:      [ROUND 4]\n",
      "\u001b[92mINFO \u001b[0m:      configure_fit: strategy sampled 5 clients (out of 5)\n",
      "\u001b[92mINFO \u001b[0m:      aggregate_fit: received 5 results and 0 failures\n",
      "\u001b[92mINFO \u001b[0m:      configure_evaluate: strategy sampled 2 clients (out of 5)\n",
      "\u001b[92mINFO \u001b[0m:      aggregate_evaluate: received 2 results and 0 failures\n",
      "\u001b[92mINFO \u001b[0m:      \n",
      "\u001b[92mINFO \u001b[0m:      [ROUND 5]\n",
      "\u001b[92mINFO \u001b[0m:      configure_fit: strategy sampled 5 clients (out of 5)\n",
      "\u001b[92mINFO \u001b[0m:      aggregate_fit: received 5 results and 0 failures\n",
      "\u001b[92mINFO \u001b[0m:      configure_evaluate: strategy sampled 2 clients (out of 5)\n",
      "\u001b[92mINFO \u001b[0m:      aggregate_evaluate: received 2 results and 0 failures\n",
      "\u001b[92mINFO \u001b[0m:      \n",
      "\u001b[92mINFO \u001b[0m:      [SUMMARY]\n",
      "\u001b[92mINFO \u001b[0m:      Run finished 5 round(s) in 78.49s\n",
      "\u001b[92mINFO \u001b[0m:      \tHistory (loss, distributed):\n",
      "\u001b[92mINFO \u001b[0m:      \t\tround 1: 0.3276474892581795\n",
      "\u001b[92mINFO \u001b[0m:      \t\tround 2: 0.3079789662733674\n",
      "\u001b[92mINFO \u001b[0m:      \t\tround 3: 0.30803274094839306\n",
      "\u001b[92mINFO \u001b[0m:      \t\tround 4: 0.29777011560166583\n",
      "\u001b[92mINFO \u001b[0m:      \t\tround 5: 0.3025017174910388\n",
      "\u001b[92mINFO \u001b[0m:      \tHistory (metrics, distributed, fit):\n",
      "\u001b[92mINFO \u001b[0m:      \t{'accuracy': [(1, 0.83694464454195),\n",
      "\u001b[92mINFO \u001b[0m:      \t              (2, 0.8467069357787922),\n",
      "\u001b[92mINFO \u001b[0m:      \t              (3, 0.853517038051095),\n",
      "\u001b[92mINFO \u001b[0m:      \t              (4, 0.8538510733682889),\n",
      "\u001b[92mINFO \u001b[0m:      \t              (5, 0.8567536480148756)],\n",
      "\u001b[92mINFO \u001b[0m:      \t 'f1_score': [(1, 0.0), (2, 0.0), (3, 0.0), (4, 0.0), (5, 0.0)],\n",
      "\u001b[92mINFO \u001b[0m:      \t 'precision': [(1, 0.0), (2, 0.0), (3, 0.0), (4, 0.0), (5, 0.0)],\n",
      "\u001b[92mINFO \u001b[0m:      \t 'recall': [(1, 0.0), (2, 0.0), (3, 0.0), (4, 0.0), (5, 0.0)]}\n",
      "\u001b[92mINFO \u001b[0m:      \n"
     ]
    }
   ],
   "source": [
    "client = ClientApp(client_fn=client_fn)\n",
    "server = ServerApp(server_fn=server_fn)\n",
    "\n",
    "run_simulation(\n",
    "    server_app=server,\n",
    "    client_app=client,\n",
    "    num_supernodes=NUM_CLIENTS,\n",
    "    backend_config=backend_config,\n",
    ")"
   ]
  },
  {
   "cell_type": "code",
   "execution_count": 44,
   "id": "bafaceb9-7c22-4c5c-88d5-d2bcefea15a5",
   "metadata": {},
   "outputs": [],
   "source": [
    "trainloaders_5, testloaders_5 = load_federated_datasets(\n",
    "    x_train,\n",
    "    x_test,\n",
    "    y_train,\n",
    "    y_test,\n",
    "    NUM_CLIENTS,\n",
    "    BATCH_SIZE\n",
    ")"
   ]
  },
  {
   "cell_type": "code",
   "execution_count": 45,
   "id": "e00d0f3e-89f2-4efd-b9f7-55ea08900c82",
   "metadata": {},
   "outputs": [
    {
     "name": "stdout",
     "output_type": "stream",
     "text": [
      "Local mean accuracy: 0.540094\n",
      "Local mean f1 score: 0.322292\n"
     ]
    }
   ],
   "source": [
    "accuracy_5 = []\n",
    "f1_5 = []\n",
    "for trainloader, testloader in zip(trainloaders_5, testloaders_5):\n",
    "    train(model, trainloader, criterion, optimizer, NUM_EPOCHS, DEVICE)\n",
    "    loss, accuracy, precision, recall, f1 = evaluate(model, testloader, DEVICE)\n",
    "    accuracy_5.append(accuracy)\n",
    "    f1_5.append(f1)\n",
    "\n",
    "\n",
    "print(f\"Local mean accuracy: {np.mean(accuracy_5):4f}\")\n",
    "print(f\"Local mean f1 score: {np.mean(f1_5):4f}\")"
   ]
  },
  {
   "cell_type": "markdown",
   "id": "dfa9005e-5bb7-4a4d-8f06-d38d242469c1",
   "metadata": {},
   "source": [
    "### Federated with 50 Clients"
   ]
  },
  {
   "cell_type": "code",
   "execution_count": 46,
   "id": "13139d1b-bc39-48db-8285-9ed562bab921",
   "metadata": {
    "scrolled": true
   },
   "outputs": [
    {
     "name": "stderr",
     "output_type": "stream",
     "text": [
      "\u001b[92mINFO \u001b[0m:      Starting Flower ServerApp, config: num_rounds=5, no round_timeout\n",
      "\u001b[92mINFO \u001b[0m:      \n",
      "\u001b[92mINFO \u001b[0m:      [INIT]\n",
      "\u001b[92mINFO \u001b[0m:      Requesting initial parameters from one random client\n",
      "\u001b[92mINFO \u001b[0m:      Received initial parameters from one random client\n",
      "\u001b[92mINFO \u001b[0m:      Starting evaluation of initial global parameters\n",
      "\u001b[92mINFO \u001b[0m:      Evaluation returned no results (`None`)\n",
      "\u001b[92mINFO \u001b[0m:      \n",
      "\u001b[92mINFO \u001b[0m:      [ROUND 1]\n",
      "\u001b[92mINFO \u001b[0m:      configure_fit: strategy sampled 50 clients (out of 50)\n",
      "\u001b[92mINFO \u001b[0m:      aggregate_fit: received 50 results and 0 failures\n",
      "\u001b[92mINFO \u001b[0m:      configure_evaluate: strategy sampled 25 clients (out of 50)\n",
      "\u001b[92mINFO \u001b[0m:      aggregate_evaluate: received 25 results and 0 failures\n",
      "\u001b[93mWARNING \u001b[0m:   No evaluate_metrics_aggregation_fn provided\n",
      "\u001b[92mINFO \u001b[0m:      \n",
      "\u001b[92mINFO \u001b[0m:      [ROUND 2]\n",
      "\u001b[92mINFO \u001b[0m:      configure_fit: strategy sampled 50 clients (out of 50)\n",
      "\u001b[92mINFO \u001b[0m:      aggregate_fit: received 50 results and 0 failures\n",
      "\u001b[92mINFO \u001b[0m:      configure_evaluate: strategy sampled 25 clients (out of 50)\n",
      "\u001b[92mINFO \u001b[0m:      aggregate_evaluate: received 25 results and 0 failures\n",
      "\u001b[92mINFO \u001b[0m:      \n",
      "\u001b[92mINFO \u001b[0m:      [ROUND 3]\n",
      "\u001b[92mINFO \u001b[0m:      configure_fit: strategy sampled 50 clients (out of 50)\n",
      "\u001b[92mINFO \u001b[0m:      aggregate_fit: received 50 results and 0 failures\n",
      "\u001b[92mINFO \u001b[0m:      configure_evaluate: strategy sampled 25 clients (out of 50)\n",
      "\u001b[92mINFO \u001b[0m:      aggregate_evaluate: received 25 results and 0 failures\n",
      "\u001b[92mINFO \u001b[0m:      \n",
      "\u001b[92mINFO \u001b[0m:      [ROUND 4]\n",
      "\u001b[92mINFO \u001b[0m:      configure_fit: strategy sampled 50 clients (out of 50)\n",
      "\u001b[92mINFO \u001b[0m:      aggregate_fit: received 50 results and 0 failures\n",
      "\u001b[92mINFO \u001b[0m:      configure_evaluate: strategy sampled 25 clients (out of 50)\n",
      "\u001b[92mINFO \u001b[0m:      aggregate_evaluate: received 25 results and 0 failures\n",
      "\u001b[92mINFO \u001b[0m:      \n",
      "\u001b[92mINFO \u001b[0m:      [ROUND 5]\n",
      "\u001b[92mINFO \u001b[0m:      configure_fit: strategy sampled 50 clients (out of 50)\n",
      "\u001b[92mINFO \u001b[0m:      aggregate_fit: received 50 results and 0 failures\n",
      "\u001b[92mINFO \u001b[0m:      configure_evaluate: strategy sampled 25 clients (out of 50)\n",
      "\u001b[92mINFO \u001b[0m:      aggregate_evaluate: received 25 results and 0 failures\n",
      "\u001b[92mINFO \u001b[0m:      \n",
      "\u001b[92mINFO \u001b[0m:      [SUMMARY]\n",
      "\u001b[92mINFO \u001b[0m:      Run finished 5 round(s) in 92.82s\n",
      "\u001b[92mINFO \u001b[0m:      \tHistory (loss, distributed):\n",
      "\u001b[92mINFO \u001b[0m:      \t\tround 1: 0.35469434258483706\n",
      "\u001b[92mINFO \u001b[0m:      \t\tround 2: 0.33400574025476265\n",
      "\u001b[92mINFO \u001b[0m:      \t\tround 3: 0.32355004439751306\n",
      "\u001b[92mINFO \u001b[0m:      \t\tround 4: 0.31601915065731323\n",
      "\u001b[92mINFO \u001b[0m:      \t\tround 5: 0.3286469785372416\n",
      "\u001b[92mINFO \u001b[0m:      \tHistory (metrics, distributed, fit):\n",
      "\u001b[92mINFO \u001b[0m:      \t{'accuracy': [(1, 0.7817267937776416),\n",
      "\u001b[92mINFO \u001b[0m:      \t              (2, 0.8444095999183223),\n",
      "\u001b[92mINFO \u001b[0m:      \t              (3, 0.8549724685703148),\n",
      "\u001b[92mINFO \u001b[0m:      \t              (4, 0.8553751200801926),\n",
      "\u001b[92mINFO \u001b[0m:      \t              (5, 0.8610153679442737)],\n",
      "\u001b[92mINFO \u001b[0m:      \t 'f1_score': [(1, 0.0), (2, 0.0), (3, 0.0), (4, 0.0), (5, 0.0)],\n",
      "\u001b[92mINFO \u001b[0m:      \t 'precision': [(1, 0.0), (2, 0.0), (3, 0.0), (4, 0.0), (5, 0.0)],\n",
      "\u001b[92mINFO \u001b[0m:      \t 'recall': [(1, 0.0), (2, 0.0), (3, 0.0), (4, 0.0), (5, 0.0)]}\n",
      "\u001b[92mINFO \u001b[0m:      \n"
     ]
    }
   ],
   "source": [
    "NUM_CLIENTS = 50\n",
    "\n",
    "client = ClientApp(client_fn=client_fn)\n",
    "server = ServerApp(server_fn=server_fn)\n",
    "\n",
    "run_simulation(\n",
    "    server_app=server,\n",
    "    client_app=client,\n",
    "    num_supernodes=NUM_CLIENTS,\n",
    "    backend_config=backend_config,\n",
    ")"
   ]
  },
  {
   "cell_type": "code",
   "execution_count": 47,
   "id": "3a0a3526-b3fb-4690-84b8-52b7d46e36d2",
   "metadata": {},
   "outputs": [],
   "source": [
    "trainloaders_50, testloaders_50 = load_federated_datasets(\n",
    "    x_train,\n",
    "    x_test,\n",
    "    y_train,\n",
    "    y_test,\n",
    "    NUM_CLIENTS,\n",
    "    BATCH_SIZE\n",
    ")"
   ]
  },
  {
   "cell_type": "code",
   "execution_count": 48,
   "id": "dcfdcbea-3b23-4456-93ba-c9d7395e2298",
   "metadata": {},
   "outputs": [
    {
     "name": "stdout",
     "output_type": "stream",
     "text": [
      "Local mean accuracy: 0.539578\n",
      "Local mean f1 score: 0.314493\n"
     ]
    }
   ],
   "source": [
    "accuracy_50 = []\n",
    "f1_50 = []\n",
    "for trainloader, testloader in zip(trainloaders_50, testloaders_50):\n",
    "    train(model, trainloader, criterion, optimizer, NUM_EPOCHS, DEVICE)\n",
    "    loss, accuracy, precision, recall, f1 = evaluate(model, testloader, DEVICE)\n",
    "    accuracy_50.append(accuracy)\n",
    "    f1_50.append(f1)\n",
    "\n",
    "print(f\"Local mean accuracy: {np.mean(accuracy_50):4f}\")\n",
    "print(f\"Local mean f1 score: {np.mean(f1_50):4f}\")"
   ]
  },
  {
   "cell_type": "markdown",
   "id": "e714024a-ddd7-4ab4-8dad-9678ec4ebe59",
   "metadata": {},
   "source": [
    "### Federated with 200 Clients"
   ]
  },
  {
   "cell_type": "code",
   "execution_count": 52,
   "id": "3e5771c3-ba19-4144-b037-dd26cb78369e",
   "metadata": {
    "scrolled": true
   },
   "outputs": [
    {
     "name": "stderr",
     "output_type": "stream",
     "text": [
      "\u001b[92mINFO \u001b[0m:      Starting Flower ServerApp, config: num_rounds=5, no round_timeout\n",
      "\u001b[92mINFO \u001b[0m:      \n",
      "\u001b[92mINFO \u001b[0m:      [INIT]\n",
      "\u001b[92mINFO \u001b[0m:      Requesting initial parameters from one random client\n",
      "\u001b[92mINFO \u001b[0m:      Received initial parameters from one random client\n",
      "\u001b[92mINFO \u001b[0m:      Starting evaluation of initial global parameters\n",
      "\u001b[92mINFO \u001b[0m:      Evaluation returned no results (`None`)\n",
      "\u001b[92mINFO \u001b[0m:      \n",
      "\u001b[92mINFO \u001b[0m:      [ROUND 1]\n",
      "\u001b[92mINFO \u001b[0m:      configure_fit: strategy sampled 200 clients (out of 200)\n",
      "\u001b[92mINFO \u001b[0m:      aggregate_fit: received 200 results and 0 failures\n",
      "\u001b[92mINFO \u001b[0m:      configure_evaluate: strategy sampled 100 clients (out of 200)\n",
      "\u001b[92mINFO \u001b[0m:      aggregate_evaluate: received 100 results and 0 failures\n",
      "\u001b[93mWARNING \u001b[0m:   No evaluate_metrics_aggregation_fn provided\n",
      "\u001b[92mINFO \u001b[0m:      \n",
      "\u001b[92mINFO \u001b[0m:      [ROUND 2]\n",
      "\u001b[92mINFO \u001b[0m:      configure_fit: strategy sampled 200 clients (out of 200)\n",
      "\u001b[92mINFO \u001b[0m:      aggregate_fit: received 200 results and 0 failures\n",
      "\u001b[92mINFO \u001b[0m:      configure_evaluate: strategy sampled 100 clients (out of 200)\n",
      "\u001b[92mINFO \u001b[0m:      aggregate_evaluate: received 100 results and 0 failures\n",
      "\u001b[92mINFO \u001b[0m:      \n",
      "\u001b[92mINFO \u001b[0m:      [ROUND 3]\n",
      "\u001b[92mINFO \u001b[0m:      configure_fit: strategy sampled 200 clients (out of 200)\n",
      "\u001b[92mINFO \u001b[0m:      aggregate_fit: received 200 results and 0 failures\n",
      "\u001b[92mINFO \u001b[0m:      configure_evaluate: strategy sampled 100 clients (out of 200)\n",
      "\u001b[92mINFO \u001b[0m:      aggregate_evaluate: received 100 results and 0 failures\n",
      "\u001b[92mINFO \u001b[0m:      \n",
      "\u001b[92mINFO \u001b[0m:      [ROUND 4]\n",
      "\u001b[92mINFO \u001b[0m:      configure_fit: strategy sampled 200 clients (out of 200)\n",
      "\u001b[92mINFO \u001b[0m:      aggregate_fit: received 200 results and 0 failures\n",
      "\u001b[92mINFO \u001b[0m:      configure_evaluate: strategy sampled 100 clients (out of 200)\n",
      "\u001b[92mINFO \u001b[0m:      aggregate_evaluate: received 100 results and 0 failures\n",
      "\u001b[92mINFO \u001b[0m:      \n",
      "\u001b[92mINFO \u001b[0m:      [ROUND 5]\n",
      "\u001b[92mINFO \u001b[0m:      configure_fit: strategy sampled 200 clients (out of 200)\n",
      "\u001b[92mINFO \u001b[0m:      aggregate_fit: received 200 results and 0 failures\n",
      "\u001b[92mINFO \u001b[0m:      configure_evaluate: strategy sampled 100 clients (out of 200)\n",
      "\u001b[92mINFO \u001b[0m:      aggregate_evaluate: received 100 results and 0 failures\n",
      "\u001b[92mINFO \u001b[0m:      \n",
      "\u001b[92mINFO \u001b[0m:      [SUMMARY]\n",
      "\u001b[92mINFO \u001b[0m:      Run finished 5 round(s) in 131.44s\n",
      "\u001b[92mINFO \u001b[0m:      \tHistory (loss, distributed):\n",
      "\u001b[92mINFO \u001b[0m:      \t\tround 1: 0.6192525852317653\n",
      "\u001b[92mINFO \u001b[0m:      \t\tround 2: 0.4677030995365017\n",
      "\u001b[92mINFO \u001b[0m:      \t\tround 3: 0.3974085207035144\n",
      "\u001b[92mINFO \u001b[0m:      \t\tround 4: 0.3603035909682512\n",
      "\u001b[92mINFO \u001b[0m:      \t\tround 5: 0.3397837210446596\n",
      "\u001b[92mINFO \u001b[0m:      \tHistory (metrics, distributed, fit):\n",
      "\u001b[92mINFO \u001b[0m:      \t{'accuracy': [(1, 0.6060636532888373),\n",
      "\u001b[92mINFO \u001b[0m:      \t              (2, 0.783022201382555),\n",
      "\u001b[92mINFO \u001b[0m:      \t              (3, 0.8247982881973739),\n",
      "\u001b[92mINFO \u001b[0m:      \t              (4, 0.8445970307756213),\n",
      "\u001b[92mINFO \u001b[0m:      \t              (5, 0.8529178983718894)],\n",
      "\u001b[92mINFO \u001b[0m:      \t 'f1_score': [(1, 0.0), (2, 0.0), (3, 0.0), (4, 0.0), (5, 0.0)],\n",
      "\u001b[92mINFO \u001b[0m:      \t 'precision': [(1, 0.0), (2, 0.0), (3, 0.0), (4, 0.0), (5, 0.0)],\n",
      "\u001b[92mINFO \u001b[0m:      \t 'recall': [(1, 0.0), (2, 0.0), (3, 0.0), (4, 0.0), (5, 0.0)]}\n",
      "\u001b[92mINFO \u001b[0m:      \n"
     ]
    }
   ],
   "source": [
    "NUM_CLIENTS = 200\n",
    "\n",
    "client = ClientApp(client_fn=client_fn)\n",
    "server = ServerApp(server_fn=server_fn)\n",
    "\n",
    "run_simulation(\n",
    "    server_app=server,\n",
    "    client_app=client,\n",
    "    num_supernodes=NUM_CLIENTS,\n",
    "    backend_config=backend_config,\n",
    ")"
   ]
  },
  {
   "cell_type": "code",
   "execution_count": 53,
   "id": "ab696614-e420-48ec-90d2-a813d55cf9c2",
   "metadata": {},
   "outputs": [],
   "source": [
    "trainloaders_200, testloaders_200 = load_federated_datasets(\n",
    "    x_train,\n",
    "    x_test,\n",
    "    y_train,\n",
    "    y_test,\n",
    "    NUM_CLIENTS,\n",
    "    BATCH_SIZE\n",
    ")"
   ]
  },
  {
   "cell_type": "code",
   "execution_count": 54,
   "id": "71d597ad-5550-4236-9e0a-335c6500f27a",
   "metadata": {},
   "outputs": [
    {
     "name": "stdout",
     "output_type": "stream",
     "text": [
      "Local mean accuracy: 0.504576\n",
      "Local mean f1 score: 0.325485\n"
     ]
    }
   ],
   "source": [
    "accuracy_200 = []\n",
    "f1_200 = []\n",
    "for trainloader, testloader in zip(trainloaders_200, testloaders_200):\n",
    "    train(model, trainloader, criterion, optimizer, NUM_EPOCHS, DEVICE)\n",
    "    loss, accuracy, precision, recall, f1 = evaluate(model, testloader, DEVICE)\n",
    "    accuracy_200.append(accuracy)\n",
    "    f1_200.append(f1)\n",
    "\n",
    "print(f\"Local mean accuracy: {np.mean(accuracy_200):4f}\")\n",
    "print(f\"Local mean f1 score: {np.mean(f1_200):4f}\")"
   ]
  },
  {
   "cell_type": "markdown",
   "id": "8a649d9f-ba12-4e4e-a9be-dc5d3e5fead1",
   "metadata": {},
   "source": [
    "### Dist"
   ]
  },
  {
   "cell_type": "markdown",
   "id": "427ab8df-d7da-4dcc-82a4-f110cfcacb45",
   "metadata": {},
   "source": [
    "#### Gender"
   ]
  },
  {
   "cell_type": "code",
   "execution_count": 55,
   "id": "b8fc369d-7bcd-46c3-b85d-c72688e9fe9c",
   "metadata": {},
   "outputs": [],
   "source": [
    "def client_fn_gender(context: Context) -> Client:\n",
    "    model = BinaryMLP().to(DEVICE)\n",
    "    partition_id = context.node_config[\"partition-id\"]\n",
    "\n",
    "    trainloaders, testloaders = load_federated_datasets_by_gender(\n",
    "        x_train,\n",
    "        x_test,\n",
    "        y_train,\n",
    "        y_test,\n",
    "        train_df,\n",
    "        test_df,\n",
    "        NUM_CLIENTS,\n",
    "        BATCH_SIZE,\n",
    "        'sex_Male'\n",
    "    )\n",
    "\n",
    "    trainloader = trainloaders[partition_id]\n",
    "    testloader = testloaders[partition_id]\n",
    "\n",
    "    return FlowerClient(model, trainloader, testloader, NUM_EPOCHS, DEVICE).to_client()"
   ]
  },
  {
   "cell_type": "code",
   "execution_count": 56,
   "id": "ddb52f4b-706a-4117-832b-63635506d457",
   "metadata": {
    "scrolled": true
   },
   "outputs": [
    {
     "name": "stderr",
     "output_type": "stream",
     "text": [
      "\u001b[92mINFO \u001b[0m:      Starting Flower ServerApp, config: num_rounds=5, no round_timeout\n",
      "\u001b[92mINFO \u001b[0m:      \n",
      "\u001b[92mINFO \u001b[0m:      [INIT]\n",
      "\u001b[92mINFO \u001b[0m:      Requesting initial parameters from one random client\n",
      "\u001b[92mINFO \u001b[0m:      Received initial parameters from one random client\n",
      "\u001b[92mINFO \u001b[0m:      Starting evaluation of initial global parameters\n",
      "\u001b[92mINFO \u001b[0m:      Evaluation returned no results (`None`)\n",
      "\u001b[92mINFO \u001b[0m:      \n",
      "\u001b[92mINFO \u001b[0m:      [ROUND 1]\n",
      "\u001b[92mINFO \u001b[0m:      configure_fit: strategy sampled 10 clients (out of 10)\n",
      "\u001b[92mINFO \u001b[0m:      aggregate_fit: received 10 results and 0 failures\n",
      "\u001b[92mINFO \u001b[0m:      configure_evaluate: strategy sampled 5 clients (out of 10)\n",
      "\u001b[92mINFO \u001b[0m:      aggregate_evaluate: received 5 results and 0 failures\n",
      "\u001b[93mWARNING \u001b[0m:   No evaluate_metrics_aggregation_fn provided\n",
      "\u001b[92mINFO \u001b[0m:      \n",
      "\u001b[92mINFO \u001b[0m:      [ROUND 2]\n",
      "\u001b[92mINFO \u001b[0m:      configure_fit: strategy sampled 10 clients (out of 10)\n",
      "\u001b[92mINFO \u001b[0m:      aggregate_fit: received 10 results and 0 failures\n",
      "\u001b[92mINFO \u001b[0m:      configure_evaluate: strategy sampled 5 clients (out of 10)\n",
      "\u001b[92mINFO \u001b[0m:      aggregate_evaluate: received 5 results and 0 failures\n",
      "\u001b[92mINFO \u001b[0m:      \n",
      "\u001b[92mINFO \u001b[0m:      [ROUND 3]\n",
      "\u001b[92mINFO \u001b[0m:      configure_fit: strategy sampled 10 clients (out of 10)\n",
      "\u001b[92mINFO \u001b[0m:      aggregate_fit: received 10 results and 0 failures\n",
      "\u001b[92mINFO \u001b[0m:      configure_evaluate: strategy sampled 5 clients (out of 10)\n",
      "\u001b[92mINFO \u001b[0m:      aggregate_evaluate: received 5 results and 0 failures\n",
      "\u001b[92mINFO \u001b[0m:      \n",
      "\u001b[92mINFO \u001b[0m:      [ROUND 4]\n",
      "\u001b[92mINFO \u001b[0m:      configure_fit: strategy sampled 10 clients (out of 10)\n",
      "\u001b[92mINFO \u001b[0m:      aggregate_fit: received 10 results and 0 failures\n",
      "\u001b[92mINFO \u001b[0m:      configure_evaluate: strategy sampled 5 clients (out of 10)\n",
      "\u001b[92mINFO \u001b[0m:      aggregate_evaluate: received 5 results and 0 failures\n",
      "\u001b[92mINFO \u001b[0m:      \n",
      "\u001b[92mINFO \u001b[0m:      [ROUND 5]\n",
      "\u001b[92mINFO \u001b[0m:      configure_fit: strategy sampled 10 clients (out of 10)\n",
      "\u001b[92mINFO \u001b[0m:      aggregate_fit: received 10 results and 0 failures\n",
      "\u001b[92mINFO \u001b[0m:      configure_evaluate: strategy sampled 5 clients (out of 10)\n",
      "\u001b[92mINFO \u001b[0m:      aggregate_evaluate: received 5 results and 0 failures\n",
      "\u001b[92mINFO \u001b[0m:      \n",
      "\u001b[92mINFO \u001b[0m:      [SUMMARY]\n",
      "\u001b[92mINFO \u001b[0m:      Run finished 5 round(s) in 77.18s\n",
      "\u001b[92mINFO \u001b[0m:      \tHistory (loss, distributed):\n",
      "\u001b[92mINFO \u001b[0m:      \t\tround 1: 0.26578220327938096\n",
      "\u001b[92mINFO \u001b[0m:      \t\tround 2: 0.3414353452745478\n",
      "\u001b[92mINFO \u001b[0m:      \t\tround 3: 0.29731760124157663\n",
      "\u001b[92mINFO \u001b[0m:      \t\tround 4: 0.2502288215663876\n",
      "\u001b[92mINFO \u001b[0m:      \t\tround 5: 0.2959291640684694\n",
      "\u001b[92mINFO \u001b[0m:      \tHistory (metrics, distributed, fit):\n",
      "\u001b[92mINFO \u001b[0m:      \t{'accuracy': [(1, 0.8253451726896434),\n",
      "\u001b[92mINFO \u001b[0m:      \t              (2, 0.8465869508100176),\n",
      "\u001b[92mINFO \u001b[0m:      \t              (3, 0.8499536332486245),\n",
      "\u001b[92mINFO \u001b[0m:      \t              (4, 0.8540623707373824),\n",
      "\u001b[92mINFO \u001b[0m:      \t              (5, 0.8553385714844176)],\n",
      "\u001b[92mINFO \u001b[0m:      \t 'f1_score': [(1, 0.0), (2, 0.0), (3, 0.0), (4, 0.0), (5, 0.0)],\n",
      "\u001b[92mINFO \u001b[0m:      \t 'precision': [(1, 0.0), (2, 0.0), (3, 0.0), (4, 0.0), (5, 0.0)],\n",
      "\u001b[92mINFO \u001b[0m:      \t 'recall': [(1, 0.0), (2, 0.0), (3, 0.0), (4, 0.0), (5, 0.0)]}\n",
      "\u001b[92mINFO \u001b[0m:      \n"
     ]
    }
   ],
   "source": [
    "NUM_CLIENTS = 10\n",
    "\n",
    "client = ClientApp(client_fn=client_fn_gender)\n",
    "server = ServerApp(server_fn=server_fn)\n",
    "\n",
    "run_simulation(\n",
    "    server_app=server,\n",
    "    client_app=client,\n",
    "    num_supernodes=NUM_CLIENTS,\n",
    "    backend_config=backend_config,\n",
    ")"
   ]
  },
  {
   "cell_type": "code",
   "execution_count": 57,
   "id": "aec51dca-2bce-485a-a9f1-d09b9a80d30a",
   "metadata": {},
   "outputs": [],
   "source": [
    "trainloaders_gender, testloaders_gender = load_federated_datasets_by_gender(\n",
    "        x_train,\n",
    "        x_test,\n",
    "        y_train,\n",
    "        y_test,\n",
    "        train_df,\n",
    "        test_df,\n",
    "        NUM_CLIENTS,\n",
    "        BATCH_SIZE,\n",
    "        'sex_Male'\n",
    "    )"
   ]
  },
  {
   "cell_type": "code",
   "execution_count": 58,
   "id": "afa01389-97d3-4f85-8802-82807e51baaf",
   "metadata": {},
   "outputs": [
    {
     "name": "stdout",
     "output_type": "stream",
     "text": [
      "Local mean accuracy: 0.547380\n",
      "Local mean f1 score: 0.259625\n"
     ]
    }
   ],
   "source": [
    "accuracy_gender = []\n",
    "f1_gender = []\n",
    "for trainloader, testloader in zip(trainloaders_gender, testloaders_gender):\n",
    "    train(model, trainloader, criterion, optimizer, NUM_EPOCHS, DEVICE)\n",
    "    loss, accuracy, precision, recall, f1 = evaluate(model, testloader, DEVICE)\n",
    "    accuracy_gender.append(accuracy)\n",
    "    f1_gender.append(f1)\n",
    "\n",
    "print(f\"Local mean accuracy: {np.mean(accuracy_gender):4f}\")\n",
    "print(f\"Local mean f1 score: {np.mean(f1_gender):4f}\")"
   ]
  },
  {
   "cell_type": "markdown",
   "id": "f9f174fe-b90e-4a4b-bcd6-97c4e750658a",
   "metadata": {},
   "source": [
    "#### Education Level"
   ]
  },
  {
   "cell_type": "code",
   "execution_count": 59,
   "id": "45c4fbb2-49d1-4c78-bc8d-0428ad87622d",
   "metadata": {},
   "outputs": [],
   "source": [
    "def client_fn_education(context: Context) -> Client:\n",
    "    model = BinaryMLP().to(DEVICE)\n",
    "    partition_id = context.node_config[\"partition-id\"]\n",
    "\n",
    "    trainloaders, testloaders = load_federated_datasets_by_education(\n",
    "        x_train,\n",
    "        x_test,\n",
    "        y_train,\n",
    "        y_test,\n",
    "        train_df,\n",
    "        test_df,\n",
    "        NUM_CLIENTS,\n",
    "        BATCH_SIZE\n",
    "    )\n",
    "\n",
    "    trainloader = trainloaders[partition_id]\n",
    "    testloader = testloaders[partition_id]\n",
    "\n",
    "    return FlowerClient(model, trainloader, testloader, NUM_EPOCHS, DEVICE).to_client()"
   ]
  },
  {
   "cell_type": "code",
   "execution_count": 60,
   "id": "7ae97683-038f-4a7f-a699-e7428e6f2bc7",
   "metadata": {},
   "outputs": [
    {
     "name": "stderr",
     "output_type": "stream",
     "text": [
      "\u001b[92mINFO \u001b[0m:      Starting Flower ServerApp, config: num_rounds=5, no round_timeout\n",
      "\u001b[92mINFO \u001b[0m:      \n",
      "\u001b[92mINFO \u001b[0m:      [INIT]\n",
      "\u001b[92mINFO \u001b[0m:      Requesting initial parameters from one random client\n",
      "\u001b[92mINFO \u001b[0m:      Received initial parameters from one random client\n",
      "\u001b[92mINFO \u001b[0m:      Starting evaluation of initial global parameters\n",
      "\u001b[92mINFO \u001b[0m:      Evaluation returned no results (`None`)\n",
      "\u001b[92mINFO \u001b[0m:      \n",
      "\u001b[92mINFO \u001b[0m:      [ROUND 1]\n",
      "\u001b[92mINFO \u001b[0m:      configure_fit: strategy sampled 10 clients (out of 10)\n",
      "\u001b[92mINFO \u001b[0m:      aggregate_fit: received 10 results and 0 failures\n",
      "\u001b[92mINFO \u001b[0m:      configure_evaluate: strategy sampled 5 clients (out of 10)\n",
      "\u001b[92mINFO \u001b[0m:      aggregate_evaluate: received 5 results and 0 failures\n",
      "\u001b[93mWARNING \u001b[0m:   No evaluate_metrics_aggregation_fn provided\n",
      "\u001b[92mINFO \u001b[0m:      \n",
      "\u001b[92mINFO \u001b[0m:      [ROUND 2]\n",
      "\u001b[92mINFO \u001b[0m:      configure_fit: strategy sampled 10 clients (out of 10)\n",
      "\u001b[92mINFO \u001b[0m:      aggregate_fit: received 10 results and 0 failures\n",
      "\u001b[92mINFO \u001b[0m:      configure_evaluate: strategy sampled 5 clients (out of 10)\n",
      "\u001b[92mINFO \u001b[0m:      aggregate_evaluate: received 5 results and 0 failures\n",
      "\u001b[92mINFO \u001b[0m:      \n",
      "\u001b[92mINFO \u001b[0m:      [ROUND 3]\n",
      "\u001b[92mINFO \u001b[0m:      configure_fit: strategy sampled 10 clients (out of 10)\n",
      "\u001b[92mINFO \u001b[0m:      aggregate_fit: received 10 results and 0 failures\n",
      "\u001b[92mINFO \u001b[0m:      configure_evaluate: strategy sampled 5 clients (out of 10)\n",
      "\u001b[92mINFO \u001b[0m:      aggregate_evaluate: received 5 results and 0 failures\n",
      "\u001b[92mINFO \u001b[0m:      \n",
      "\u001b[92mINFO \u001b[0m:      [ROUND 4]\n",
      "\u001b[92mINFO \u001b[0m:      configure_fit: strategy sampled 10 clients (out of 10)\n",
      "\u001b[92mINFO \u001b[0m:      aggregate_fit: received 10 results and 0 failures\n",
      "\u001b[92mINFO \u001b[0m:      configure_evaluate: strategy sampled 5 clients (out of 10)\n",
      "\u001b[92mINFO \u001b[0m:      aggregate_evaluate: received 5 results and 0 failures\n",
      "\u001b[92mINFO \u001b[0m:      \n",
      "\u001b[92mINFO \u001b[0m:      [ROUND 5]\n",
      "\u001b[92mINFO \u001b[0m:      configure_fit: strategy sampled 10 clients (out of 10)\n",
      "\u001b[92mINFO \u001b[0m:      aggregate_fit: received 10 results and 0 failures\n",
      "\u001b[92mINFO \u001b[0m:      configure_evaluate: strategy sampled 5 clients (out of 10)\n",
      "\u001b[92mINFO \u001b[0m:      aggregate_evaluate: received 5 results and 0 failures\n",
      "\u001b[92mINFO \u001b[0m:      \n",
      "\u001b[92mINFO \u001b[0m:      [SUMMARY]\n",
      "\u001b[92mINFO \u001b[0m:      Run finished 5 round(s) in 70.36s\n",
      "\u001b[92mINFO \u001b[0m:      \tHistory (loss, distributed):\n",
      "\u001b[92mINFO \u001b[0m:      \t\tround 1: 0.3412172539406512\n",
      "\u001b[92mINFO \u001b[0m:      \t\tround 2: 0.3175836605390152\n",
      "\u001b[92mINFO \u001b[0m:      \t\tround 3: 0.35404961114878847\n",
      "\u001b[92mINFO \u001b[0m:      \t\tround 4: 0.35234346492685004\n",
      "\u001b[92mINFO \u001b[0m:      \t\tround 5: 0.3398636049754042\n",
      "\u001b[92mINFO \u001b[0m:      \tHistory (metrics, distributed, fit):\n",
      "\u001b[92mINFO \u001b[0m:      \t{'accuracy': [(1, 0.829901278526069),\n",
      "\u001b[92mINFO \u001b[0m:      \t              (2, 0.8476546817465377),\n",
      "\u001b[92mINFO \u001b[0m:      \t              (3, 0.8485095948324138),\n",
      "\u001b[92mINFO \u001b[0m:      \t              (4, 0.848527326692861),\n",
      "\u001b[92mINFO \u001b[0m:      \t              (5, 0.8488303737544949)],\n",
      "\u001b[92mINFO \u001b[0m:      \t 'f1_score': [(1, 0.0), (2, 0.0), (3, 0.0), (4, 0.0), (5, 0.0)],\n",
      "\u001b[92mINFO \u001b[0m:      \t 'precision': [(1, 0.0), (2, 0.0), (3, 0.0), (4, 0.0), (5, 0.0)],\n",
      "\u001b[92mINFO \u001b[0m:      \t 'recall': [(1, 0.0), (2, 0.0), (3, 0.0), (4, 0.0), (5, 0.0)]}\n",
      "\u001b[92mINFO \u001b[0m:      \n"
     ]
    }
   ],
   "source": [
    "NUM_CLIENTS = 10\n",
    "\n",
    "client = ClientApp(client_fn=client_fn_education)\n",
    "server = ServerApp(server_fn=server_fn)\n",
    "\n",
    "run_simulation(\n",
    "    server_app=server,\n",
    "    client_app=client,\n",
    "    num_supernodes=NUM_CLIENTS,\n",
    "    backend_config=backend_config,\n",
    ")"
   ]
  },
  {
   "cell_type": "code",
   "execution_count": 61,
   "id": "d85360ac-cb0e-4b2f-97c7-5509aff2347f",
   "metadata": {},
   "outputs": [],
   "source": [
    " trainloaders_edu, testloaders_edu = load_federated_datasets_by_education(\n",
    "        x_train,\n",
    "        x_test,\n",
    "        y_train,\n",
    "        y_test,\n",
    "        train_df,\n",
    "        test_df,\n",
    "        NUM_CLIENTS,\n",
    "        BATCH_SIZE\n",
    "    )"
   ]
  },
  {
   "cell_type": "code",
   "execution_count": 62,
   "id": "4bb1608c-aa11-4a16-a6fe-f57f7b27949b",
   "metadata": {},
   "outputs": [
    {
     "name": "stdout",
     "output_type": "stream",
     "text": [
      "Local mean accuracy: 0.544481\n",
      "Local mean f1 score: 0.354440\n"
     ]
    }
   ],
   "source": [
    "accuracy_edu = []\n",
    "f1_edu = []\n",
    "for trainloader, testloader in zip(trainloaders_edu, testloaders_edu):\n",
    "    train(model, trainloader, criterion, optimizer, NUM_EPOCHS, DEVICE)\n",
    "    loss, accuracy, precision, recall, f1 = evaluate(model, testloader, DEVICE)\n",
    "    accuracy_edu.append(accuracy)\n",
    "    f1_edu.append(f1)\n",
    "\n",
    "print(f\"Local mean accuracy: {np.mean(accuracy_edu):4f}\")\n",
    "print(f\"Local mean f1 score: {np.mean(f1_edu):4f}\")"
   ]
  },
  {
   "cell_type": "markdown",
   "id": "9c50f408-d4d7-41ae-b589-2b183e44e44c",
   "metadata": {},
   "source": [
    "#### Age"
   ]
  },
  {
   "cell_type": "code",
   "execution_count": 63,
   "id": "e654a134-9f60-4cc1-b9f2-e3a5c955276f",
   "metadata": {},
   "outputs": [],
   "source": [
    "def client_fn_age(context: Context) -> Client:\n",
    "    model_age = BinaryMLP().to(DEVICE)\n",
    "    partition_id = context.node_config[\"partition-id\"]\n",
    "\n",
    "    mean_age = 38.58\n",
    "    std_age = 13.64\n",
    "    scaled_min = (31 - mean_age) / std_age\n",
    "    scaled_max = (50 - mean_age) / std_age\n",
    "\n",
    "    trainloaders, testloaders = load_federated_datasets_by_age(\n",
    "        x_train,\n",
    "        x_test,\n",
    "        y_train,\n",
    "        y_test,\n",
    "        train_df,\n",
    "        test_df,\n",
    "        NUM_CLIENTS,\n",
    "        BATCH_SIZE,\n",
    "        'age',\n",
    "        scaled_min,\n",
    "        scaled_max\n",
    "    )\n",
    "\n",
    "    trainloader_age = trainloaders[partition_id]\n",
    "    testloader_age = testloaders[partition_id]\n",
    "    return FlowerClient(model_age, trainloader_age, testloader_age, NUM_EPOCHS, DEVICE).to_client()"
   ]
  },
  {
   "cell_type": "code",
   "execution_count": 64,
   "id": "9f2f1244-ea0b-43d9-96a5-18869ff8db31",
   "metadata": {},
   "outputs": [
    {
     "name": "stderr",
     "output_type": "stream",
     "text": [
      "\u001b[92mINFO \u001b[0m:      Starting Flower ServerApp, config: num_rounds=5, no round_timeout\n",
      "\u001b[92mINFO \u001b[0m:      \n",
      "\u001b[92mINFO \u001b[0m:      [INIT]\n",
      "\u001b[92mINFO \u001b[0m:      Requesting initial parameters from one random client\n",
      "\u001b[92mINFO \u001b[0m:      Received initial parameters from one random client\n",
      "\u001b[92mINFO \u001b[0m:      Starting evaluation of initial global parameters\n",
      "\u001b[92mINFO \u001b[0m:      Evaluation returned no results (`None`)\n",
      "\u001b[92mINFO \u001b[0m:      \n",
      "\u001b[92mINFO \u001b[0m:      [ROUND 1]\n",
      "\u001b[92mINFO \u001b[0m:      configure_fit: strategy sampled 10 clients (out of 10)\n",
      "\u001b[92mINFO \u001b[0m:      aggregate_fit: received 10 results and 0 failures\n",
      "\u001b[92mINFO \u001b[0m:      configure_evaluate: strategy sampled 5 clients (out of 10)\n",
      "\u001b[92mINFO \u001b[0m:      aggregate_evaluate: received 5 results and 0 failures\n",
      "\u001b[93mWARNING \u001b[0m:   No evaluate_metrics_aggregation_fn provided\n",
      "\u001b[92mINFO \u001b[0m:      \n",
      "\u001b[92mINFO \u001b[0m:      [ROUND 2]\n",
      "\u001b[92mINFO \u001b[0m:      configure_fit: strategy sampled 10 clients (out of 10)\n",
      "\u001b[92mINFO \u001b[0m:      aggregate_fit: received 10 results and 0 failures\n",
      "\u001b[92mINFO \u001b[0m:      configure_evaluate: strategy sampled 5 clients (out of 10)\n",
      "\u001b[92mINFO \u001b[0m:      aggregate_evaluate: received 5 results and 0 failures\n",
      "\u001b[92mINFO \u001b[0m:      \n",
      "\u001b[92mINFO \u001b[0m:      [ROUND 3]\n",
      "\u001b[92mINFO \u001b[0m:      configure_fit: strategy sampled 10 clients (out of 10)\n",
      "\u001b[92mINFO \u001b[0m:      aggregate_fit: received 10 results and 0 failures\n",
      "\u001b[92mINFO \u001b[0m:      configure_evaluate: strategy sampled 5 clients (out of 10)\n",
      "\u001b[92mINFO \u001b[0m:      aggregate_evaluate: received 5 results and 0 failures\n",
      "\u001b[92mINFO \u001b[0m:      \n",
      "\u001b[92mINFO \u001b[0m:      [ROUND 4]\n",
      "\u001b[92mINFO \u001b[0m:      configure_fit: strategy sampled 10 clients (out of 10)\n",
      "\u001b[92mINFO \u001b[0m:      aggregate_fit: received 10 results and 0 failures\n",
      "\u001b[92mINFO \u001b[0m:      configure_evaluate: strategy sampled 5 clients (out of 10)\n",
      "\u001b[92mINFO \u001b[0m:      aggregate_evaluate: received 5 results and 0 failures\n",
      "\u001b[92mINFO \u001b[0m:      \n",
      "\u001b[92mINFO \u001b[0m:      [ROUND 5]\n",
      "\u001b[92mINFO \u001b[0m:      configure_fit: strategy sampled 10 clients (out of 10)\n",
      "\u001b[92mINFO \u001b[0m:      aggregate_fit: received 10 results and 0 failures\n",
      "\u001b[92mINFO \u001b[0m:      configure_evaluate: strategy sampled 5 clients (out of 10)\n",
      "\u001b[92mINFO \u001b[0m:      aggregate_evaluate: received 5 results and 0 failures\n",
      "\u001b[92mINFO \u001b[0m:      \n",
      "\u001b[92mINFO \u001b[0m:      [SUMMARY]\n",
      "\u001b[92mINFO \u001b[0m:      Run finished 5 round(s) in 77.22s\n",
      "\u001b[92mINFO \u001b[0m:      \tHistory (loss, distributed):\n",
      "\u001b[92mINFO \u001b[0m:      \t\tround 1: 0.30833410118838445\n",
      "\u001b[92mINFO \u001b[0m:      \t\tround 2: 0.3359620209114674\n",
      "\u001b[92mINFO \u001b[0m:      \t\tround 3: 0.29696130383972386\n",
      "\u001b[92mINFO \u001b[0m:      \t\tround 4: 0.3280518357897853\n",
      "\u001b[92mINFO \u001b[0m:      \t\tround 5: 0.32813705730460063\n",
      "\u001b[92mINFO \u001b[0m:      \tHistory (metrics, distributed, fit):\n",
      "\u001b[92mINFO \u001b[0m:      \t{'accuracy': [(1, 0.8326452088560151),\n",
      "\u001b[92mINFO \u001b[0m:      \t              (2, 0.8507495672897166),\n",
      "\u001b[92mINFO \u001b[0m:      \t              (3, 0.8526551664745791),\n",
      "\u001b[92mINFO \u001b[0m:      \t              (4, 0.8555336488020618),\n",
      "\u001b[92mINFO \u001b[0m:      \t              (5, 0.8581009662350235)],\n",
      "\u001b[92mINFO \u001b[0m:      \t 'f1_score': [(1, 0.0), (2, 0.0), (3, 0.0), (4, 0.0), (5, 0.0)],\n",
      "\u001b[92mINFO \u001b[0m:      \t 'precision': [(1, 0.0), (2, 0.0), (3, 0.0), (4, 0.0), (5, 0.0)],\n",
      "\u001b[92mINFO \u001b[0m:      \t 'recall': [(1, 0.0), (2, 0.0), (3, 0.0), (4, 0.0), (5, 0.0)]}\n",
      "\u001b[92mINFO \u001b[0m:      \n"
     ]
    }
   ],
   "source": [
    "NUM_CLIENTS = 10\n",
    "\n",
    "client = ClientApp(client_fn=client_fn_age)\n",
    "server = ServerApp(server_fn=server_fn)\n",
    "\n",
    "run_simulation(\n",
    "    server_app=server,\n",
    "    client_app=client,\n",
    "    num_supernodes=NUM_CLIENTS,\n",
    "    backend_config=backend_config,\n",
    ")"
   ]
  },
  {
   "cell_type": "code",
   "execution_count": 67,
   "id": "5cfbc318-db1c-4b4a-9e34-dccf0c253842",
   "metadata": {},
   "outputs": [],
   "source": [
    "mean_age = 38.58\n",
    "std_age = 13.64\n",
    "scaled_min = (31 - mean_age) / std_age\n",
    "scaled_max = (50 - mean_age) / std_age\n",
    "\n",
    "trainloaders_age, testloaders_age = load_federated_datasets_by_age(\n",
    "        x_train,\n",
    "        x_test,\n",
    "        y_train,\n",
    "        y_test,\n",
    "        train_df,\n",
    "        test_df,\n",
    "        NUM_CLIENTS,\n",
    "        BATCH_SIZE,\n",
    "        'age',\n",
    "        scaled_min,\n",
    "        scaled_max\n",
    "    )"
   ]
  },
  {
   "cell_type": "code",
   "execution_count": 68,
   "id": "289720d2-2ea9-4ba3-8974-c9c52b8b313b",
   "metadata": {},
   "outputs": [
    {
     "name": "stdout",
     "output_type": "stream",
     "text": [
      "Local mean accuracy: 0.546077\n",
      "Local mean f1 score: 0.311706\n"
     ]
    }
   ],
   "source": [
    "accuracy_age = []\n",
    "f1_age = []\n",
    "for trainloader, testloader in zip(trainloaders_age, testloaders_age):\n",
    "    train(model, trainloader, criterion, optimizer, NUM_EPOCHS, DEVICE)\n",
    "    loss, accuracy, precision, recall, f1 = evaluate(model, testloader, DEVICE)\n",
    "    accuracy_age.append(accuracy)\n",
    "    f1_age.append(f1)\n",
    "\n",
    "print(f\"Local mean accuracy: {np.mean(accuracy_age):4f}\")\n",
    "print(f\"Local mean f1 score: {np.mean(f1_age):4f}\")"
   ]
  },
  {
   "cell_type": "markdown",
   "id": "daa8524c-f681-4a03-92f4-c5895a0819d8",
   "metadata": {},
   "source": [
    "## Comparison"
   ]
  },
  {
   "cell_type": "code",
   "execution_count": 74,
   "id": "097ad83a-c855-41e5-b918-288f6d333d0a",
   "metadata": {},
   "outputs": [
    {
     "name": "stdout",
     "output_type": "stream",
     "text": [
      "centralized:\n",
      "  accuracy: 0.8608\n",
      "  f1_score: 0.6778\n",
      "  precision: 0.7657\n",
      "  recall: 0.6080\n",
      "5_clients:\n",
      "  accuracy: 0.8568\n",
      "  f1_score: 0.6448\n",
      "  precision: 0.7906\n",
      "  recall: 0.5519\n",
      "  local_mean_accuracy: 0.5401\n",
      "  local_mean_f1: 0.3223\n",
      "50_clients:\n",
      "  accuracy: 0.8506\n",
      "  f1_score: 0.6431\n",
      "  precision: 0.7571\n",
      "  recall: 0.5623\n",
      "  local_mean_accuracy: 0.5396\n",
      "  local_mean_f1: 0.3145\n",
      "200_clients:\n",
      "  accuracy: 0.8272\n",
      "  f1_score: 0.6487\n",
      "  precision: 0.6333\n",
      "  recall: 0.6750\n",
      "  local_mean_accuracy: 0.5046\n",
      "  local_mean_f1: 0.3255\n",
      "gender:\n",
      "  accuracy: 0.8638\n",
      "  f1_score: 0.6553\n",
      "  precision: 0.7418\n",
      "  recall: 0.5892\n",
      "  local_mean_accuracy: 0.5474\n",
      "  local_mean_f1: 0.2596\n",
      "education:\n",
      "  accuracy: 0.8363\n",
      "  f1_score: 0.4932\n",
      "  precision: 0.7827\n",
      "  recall: 0.3732\n",
      "  local_mean_accuracy: 0.5445\n",
      "  local_mean_f1: 0.3544\n",
      "age:\n",
      "  accuracy: 0.8560\n",
      "  f1_score: 0.6416\n",
      "  precision: 0.7734\n",
      "  recall: 0.5491\n",
      "  local_mean_accuracy: 0.5461\n",
      "  local_mean_f1: 0.3117\n"
     ]
    }
   ],
   "source": [
    "import json\n",
    "\n",
    "with open(\"results.json\", \"r\") as file:\n",
    "    data = json.load(file)\n",
    "\n",
    "averages = {}\n",
    "\n",
    "local_mean_acc = {\n",
    "    \"5_clients\": np.mean(accuracy_5),\n",
    "    \"50_clients\": np.mean(accuracy_50),\n",
    "    \"200_clients\": np.mean(accuracy_200),\n",
    "    \"gender\": np.mean(accuracy_gender),\n",
    "    \"education\": np.mean(accuracy_edu),\n",
    "    \"age\": np.mean(accuracy_age),\n",
    "}\n",
    "\n",
    "local_mean_f1s = {\n",
    "    \"5_clients\": np.mean(f1_5),\n",
    "    \"50_clients\": np.mean(f1_50),\n",
    "    \"200_clients\": np.mean(f1_200),\n",
    "    \"gender\": np.mean(f1_gender),\n",
    "    \"education\": np.mean(f1_edu),\n",
    "    \"age\": np.mean(f1_age),\n",
    "}\n",
    "\n",
    "for category, metrics in data.items():\n",
    "    averages[category] = {}  \n",
    "    for metric, scores in metrics.items():\n",
    "        average_score = sum(scores) / len(scores)\n",
    "        averages[category][metric] = average_score\n",
    "\n",
    "    if category in local_mean_acc:\n",
    "        averages[category][\"local_mean_accuracy\"] = local_mean_acc[category]\n",
    "    if category in local_mean_f1s:\n",
    "        averages[category][\"local_mean_f1\"] = local_mean_f1s[category]\n",
    "\n",
    "for category, metrics in averages.items():\n",
    "    print(f\"{category}:\")\n",
    "    for metric, value in metrics.items():\n",
    "        if isinstance(value, (int, float)): \n",
    "            print(f\"  {metric}: {value:.4f}\")\n",
    "        else:\n",
    "            print(f\"  {metric}: {value}\")"
   ]
  },
  {
   "cell_type": "code",
   "execution_count": 16,
   "id": "e77a66ae-1bda-47db-98da-1905ca50679f",
   "metadata": {},
   "outputs": [
    {
     "data": {
      "image/png": "[encoded data removed]",
      "text/plain": [
       "<Figure size 1200x600 with 1 Axes>"
      ]
     },
     "metadata": {},
     "output_type": "display_data"
    }
   ],
   "source": [
    "import matplotlib.pyplot as plt\n",
    "categories = list(averages.keys())\n",
    "metrics = list(averages[categories[0]].keys())\n",
    "\n",
    "x = np.arange(len(metrics)) \n",
    "width = 0.12 \n",
    "\n",
    "fig, ax = plt.subplots(figsize=(12, 6))\n",
    "colors = ['sandybrown', 'yellowgreen', 'mediumaquamarine', 'steelblue', 'indianred', 'gold', 'mediumslateblue']\n",
    "\n",
    "for i, category in enumerate(categories):\n",
    "    scores = [np.mean(averages[category][metric]) for metric in metrics]\n",
    "    ax.bar(x + i * width, scores, width, label=category, color=colors[i % len(colors)])\n",
    "\n",
    "ax.set_xlabel(\"Metrics\")\n",
    "ax.set_ylabel(\"Scores\")\n",
    "ax.set_title(\"Score Distribution Comparison Across Clients\")\n",
    "ax.set_xticks(x + width * (len(categories) - 1) / 2)\n",
    "ax.set_xticklabels(metrics)\n",
    "ax.legend(title=\"Clients\")\n",
    "\n",
    "ax.grid(axis='y', linestyle='--', alpha=0.7)\n",
    "\n",
    "plt.tight_layout()\n",
    "plt.show()"
   ]
  },
  {
   "cell_type": "code",
   "execution_count": 17,
   "id": "7b7d6100-3a90-4ab3-8a75-d210f92614c6",
   "metadata": {},
   "outputs": [
    {
     "data": {
      "image/png": "[encoded data removed]",
      "text/plain": [
       "<Figure size 1200x600 with 1 Axes>"
      ]
     },
     "metadata": {},
     "output_type": "display_data"
    }
   ],
   "source": [
    "categories = ['gender', 'age', 'education']\n",
    "metrics = list(averages[categories[0]].keys())\n",
    "\n",
    "x = np.arange(len(metrics)) \n",
    "width = 0.22 \n",
    "\n",
    "fig, ax = plt.subplots(figsize=(12, 6))\n",
    "\n",
    "colors = ['indianred', 'gold', 'mediumslateblue']\n",
    "\n",
    "for i, category in enumerate(categories):\n",
    "    scores = [np.mean(averages[category][metric]) for metric in metrics]\n",
    "    ax.bar(x + i * width, scores, width, label=category, color=colors[i % len(colors)])\n",
    "\n",
    "ax.set_xlabel(\"Metrics\")\n",
    "ax.set_ylabel(\"Scores\")\n",
    "ax.set_title(\"Score Distribution Comparison for Gender, Age, and Education\")\n",
    "ax.set_xticks(x + width * (len(categories) - 1) / 2)\n",
    "ax.set_xticklabels(metrics)\n",
    "ax.legend(title=\"Categories\")\n",
    "\n",
    "ax.grid(axis='y', linestyle='--', alpha=0.7)\n",
    "\n",
    "plt.tight_layout()\n",
    "plt.show()"
   ]
  },
  {
   "cell_type": "code",
   "execution_count": 27,
   "id": "c5e67655-a513-4e69-9215-61e8fab1ea13",
   "metadata": {},
   "outputs": [
    {
     "data": {
      "image/png": "[encoded data removed]",
      "text/plain": [
       "<Figure size 1200x600 with 1 Axes>"
      ]
     },
     "metadata": {},
     "output_type": "display_data"
    }
   ],
   "source": [
    "categories = ['centralized', '5_clients', '50_clients', '200_clients']\n",
    "metrics = list(averages[categories[0]].keys())\n",
    "\n",
    "x = np.arange(len(metrics)) \n",
    "width = 0.2 \n",
    "\n",
    "fig, ax = plt.subplots(figsize=(12, 6))\n",
    "\n",
    "colors =['sandybrown', 'yellowgreen', 'mediumaquamarine', 'steelblue']\n",
    "\n",
    "for i, category in enumerate(categories):\n",
    "    scores = [np.mean(averages[category][metric]) for metric in metrics]\n",
    "    ax.bar(x + i * width, scores, width, label=category, color=colors[i % len(colors)])\n",
    "\n",
    "ax.set_xlabel(\"Metrics\")\n",
    "ax.set_ylabel(\"Scores\")\n",
    "ax.set_title(\"Score Distribution Comparison for different number of clients\")\n",
    "ax.set_xticks(x + width * (len(categories) - 1) / 2)\n",
    "ax.set_xticklabels(metrics)\n",
    "ax.legend(title=\"Clients\")\n",
    "\n",
    "ax.grid(axis='y', linestyle='--', alpha=0.7)\n",
    "\n",
    "plt.tight_layout()\n",
    "plt.show()"
   ]
  },
  {
   "cell_type": "code",
   "execution_count": 76,
   "id": "5e36cb19-6cfa-46b2-87eb-fbeff1f438c9",
   "metadata": {},
   "outputs": [
    {
     "data": {
      "image/png": "[encoded data removed]",
      "text/plain": [
       "<Figure size 1000x500 with 1 Axes>"
      ]
     },
     "metadata": {},
     "output_type": "display_data"
    }
   ],
   "source": [
    "categories = []\n",
    "f1_scores = []\n",
    "local_mean_f1s = []\n",
    "\n",
    "for category, metrics in averages.items():\n",
    "    if \"f1_score\" in metrics and \"local_mean_f1\" in metrics:\n",
    "        categories.append(category)\n",
    "        f1_scores.append(metrics[\"f1_score\"])\n",
    "        local_mean_f1s.append(metrics[\"local_mean_f1\"])\n",
    "\n",
    "categories = np.array(categories)\n",
    "f1_scores = np.array(f1_scores)\n",
    "local_mean_f1s = np.array(local_mean_f1s)\n",
    "\n",
    "x = np.arange(len(categories))\n",
    "\n",
    "plt.figure(figsize=(10, 5))\n",
    "plt.bar(x - 0.2, f1_scores, width=0.4, label=\"Aggregated F1 Score\", color=\"blue\")\n",
    "plt.bar(x + 0.2, local_mean_f1s, width=0.4, label=\"Local Mean F1\", color=\"orange\")\n",
    "\n",
    "plt.xticks(x, categories, rotation=45, ha=\"right\")\n",
    "plt.ylabel(\"F1 Score\")\n",
    "plt.title(\"Comparison of Aggregated F1 Score and Local Mean F1\")\n",
    "plt.legend()\n",
    "plt.grid(axis=\"y\", linestyle=\"--\", alpha=0.6)\n",
    "\n",
    "plt.tight_layout()\n",
    "plt.show()\n"
   ]
  },
  {
   "cell_type": "code",
   "execution_count": 19,
   "id": "c6e430d5-8c76-4f5e-9363-fdded7d9d7df",
   "metadata": {},
   "outputs": [
    {
     "data": {
      "image/png": "[encoded data removed]",
      "text/plain": [
       "<Figure size 1200x600 with 1 Axes>"
      ]
     },
     "metadata": {},
     "output_type": "display_data"
    }
   ],
   "source": [
    "f1_scores = {category: averages[category]['f1_score'] for category in averages}\n",
    "xgboost_f1_scores = [0.7140, 0.6, 0.4, 0.38, 0.63, 0.38, 0.58]\n",
    "\n",
    "categories = list(f1_scores.keys())\n",
    "\n",
    "x = np.arange(len(categories)) \n",
    "width = 0.35\n",
    "\n",
    "fig, ax = plt.subplots(figsize=(12, 6))\n",
    "\n",
    "avg_color = 'mediumaquamarine'\n",
    "xgb_color = 'steelblue'\n",
    "\n",
    "ax.bar(x - width/2, list(f1_scores.values()), width, label='MLP F1 Score', color=avg_color)\n",
    "ax.bar(x + width/2, xgboost_f1_scores, width, label='XGBoost F1 Score', color=xgb_color)\n",
    "\n",
    "ax.set_xlabel(\"Categories\")\n",
    "ax.set_ylabel(\"F1 Scores\")\n",
    "ax.set_title(\"F1 Score Comparison Across Categories\")\n",
    "\n",
    "ax.set_xticks(x)\n",
    "ax.set_xticklabels(categories)\n",
    "\n",
    "ax.grid(axis='y', linestyle='--', alpha=0.7)\n",
    "\n",
    "ax.legend()\n",
    "plt.tight_layout()\n",
    "plt.show()"
   ]
  },
  {
   "cell_type": "code",
   "execution_count": null,
   "id": "f2e422e6-2f75-4925-b7f8-b36e3c881e8f",
   "metadata": {},
   "outputs": [],
   "source": []
  }
 ],
 "metadata": {
  "kernelspec": {
   "display_name": "Python 3 (ipykernel)",
   "language": "python",
   "name": "python3"
  },
  "language_info": {
   "codemirror_mode": {
    "name": "ipython",
    "version": 3
   },
   "file_extension": ".py",
   "mimetype": "text/x-python",
   "name": "python",
   "nbconvert_exporter": "python",
   "pygments_lexer": "ipython3",
   "version": "3.10.4"
  }
 },
 "nbformat": 4,
 "nbformat_minor": 5
}
